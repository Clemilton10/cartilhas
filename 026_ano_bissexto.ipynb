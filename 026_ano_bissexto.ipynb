{
 "cells": [
  {
   "cell_type": "markdown",
   "id": "0b8e39b3-d43d-4d5a-883e-38502f67c59d",
   "metadata": {},
   "source": [
    "# <font color=#ffdd00>Ano Bissexto</font>"
   ]
  },
  {
   "cell_type": "code",
   "execution_count": null,
   "id": "65770881-229b-497d-92b6-ea196d3bc367",
   "metadata": {},
   "outputs": [],
   "source": [
    "from datetime import date, datetime, timedelta\n",
    "\n",
    "# tirando um dia do mês de março\n",
    "dn = datetime( 2016, 3, 1, 12, 00) - timedelta( days = +1 )\n",
    "ds = dn.strftime( '%d/%m/%Y %H:%M:%S %A' )\n",
    "print(ds)\n",
    "\n",
    "# em que dia da semana começa o mes\n",
    "l_dias_semana = [ '', 'sunday', 'monday', 'tuesday', 'wednesday', 'thursday', 'friday', 'saturday' ]\n",
    "dia_semana = dn.strftime( '%A' ).lower()\n",
    "indice = 1\n",
    "for i, ds in enumerate( l_dias_semana ):\n",
    "\tif ds == dia_semana:\n",
    "\t\tindice = i\n",
    "print(indice)\n",
    "\n",
    "ano = dn.strftime( '%Y' )\n",
    "ano = int( ano )\n",
    "#print( type(ano) )\n",
    "\n",
    "# ano atual\n",
    "#datetime.now().strftime( '%Y' )\n",
    "#ano_atual = date.today().year\n",
    "\n",
    "if ano % 4 == 0 and ano % 100 != 0 or ano % 400 == 0:\n",
    "\tprint(f'O ano {ano} é bissexto')\n",
    "else:\n",
    "\tprint(f'O ano {ano} não é bissexto')"
   ]
  }
 ],
 "metadata": {
  "kernelspec": {
   "display_name": "Python 3 (ipykernel)",
   "language": "python",
   "name": "python3"
  },
  "language_info": {
   "codemirror_mode": {
    "name": "ipython",
    "version": 3
   },
   "file_extension": ".py",
   "mimetype": "text/x-python",
   "name": "python",
   "nbconvert_exporter": "python",
   "pygments_lexer": "ipython3",
   "version": "3.9.7"
  }
 },
 "nbformat": 4,
 "nbformat_minor": 5
}
