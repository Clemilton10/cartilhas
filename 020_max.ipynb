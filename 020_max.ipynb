{
 "cells": [
  {
   "cell_type": "markdown",
   "id": "559c83c1-6d7f-4355-a65a-fbc9d8fec3f1",
   "metadata": {},
   "source": [
    "# <font color=#ffdd00>max</font>"
   ]
  },
  {
   "cell_type": "code",
   "execution_count": 2,
   "id": "b59634d5-b2d7-4bcc-afd3-f33ea046eccd",
   "metadata": {},
   "outputs": [
    {
     "name": "stdout",
     "output_type": "stream",
     "text": [
      "Clemilton\n",
      "9\n"
     ]
    }
   ],
   "source": [
    "lista = [ 'Clemilton', 'Maira', 'Felipe', 'Lucas' ]\n",
    "maior_nome = max( lista, key=len )\n",
    "nmax = len( maior_nome )\n",
    "print(maior_nome)\n",
    "print(nmax)"
   ]
  }
 ],
 "metadata": {
  "kernelspec": {
   "display_name": "Python 3 (ipykernel)",
   "language": "python",
   "name": "python3"
  },
  "language_info": {
   "codemirror_mode": {
    "name": "ipython",
    "version": 3
   },
   "file_extension": ".py",
   "mimetype": "text/x-python",
   "name": "python",
   "nbconvert_exporter": "python",
   "pygments_lexer": "ipython3",
   "version": "3.9.7"
  }
 },
 "nbformat": 4,
 "nbformat_minor": 5
}
