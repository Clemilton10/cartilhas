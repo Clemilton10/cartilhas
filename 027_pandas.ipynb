{
 "cells": [
  {
   "cell_type": "markdown",
   "id": "4b41bd54-3c76-4b32-9b39-0f934d6588eb",
   "metadata": {},
   "source": [
    "# <font color=#ffdd00>Pandas</font>"
   ]
  },
  {
   "cell_type": "markdown",
   "id": "f1e7cdf8-07f6-4c01-b879-7da4014e769f",
   "metadata": {},
   "source": [
    "~~~python\n",
    "df['coluna']                                  # Apenas uma lista do Dataframe\n",
    "df[['coluna1','coluna2','coluna3']]           # cria um novo Dataframe com as colunas\n",
    "df[0]                                         # Não funciona assim para Dataframes\n",
    "df[0:3]                                       # pega da 1ª até a linha 3 do Dataframe\n",
    "df[-1:]                                       # último linha\n",
    "df['coluna'][0]                               # pega o primeiro item da coluna\n",
    "df.head()                                     # apenas as 5 primeiras linhas (cabeçalho) [:5]\n",
    "df.tail()                                     # apenas as 5 últimas linhas (rodape) [-5:]\n",
    "df.info()                                     # mostra as informações básicas do Dataframe\n",
    "display(df)                                   # ao contrário do print mostra em forma de tabela\n",
    "df.drop(['coluna1','coluna2','coluna3'], axis=1) # exclui as colunas\n",
    "                                              # axis=0 -> linhas, axis=1 -> Colunas\n",
    "df = df.rename(columns={'nome_antigo': 'novo_nome'}) # renomeia uma coluna\n",
    "qt = df['coluna'].value_counts()              # conta cada linha (distinct)\n",
    "gp_sm_df = df.groupby('coluna').sum()         # soma\n",
    "gp_md_df = df.groupby('coluna').mean()        # média\n",
    "gp_mx_df = df.groupby('coluna').max()         # maior valor\n",
    "mv = df['coluna'].max()                       # pegar maior valor\n",
    "idx = df['coluna'].idxmax()                   # pegar índice do maior valor\n",
    "df['coluna'] = df['coluna'].astype(float)     # converte a coluna em float\n",
    "df['coluna'] = pd.to_numeric(df['coluna'], errors='coerce') # converte a coluna em número\n",
    "df = df.sort_values(by=['coluna'], ascending=False) # ordena por uma coluna\n",
    "ndf = df[ vendas_df['coluna'] == 'valor' ]    # filtra (if == )\n",
    "df['coluna'] = pd.to_datetime(vendas_df['coluna'], format='%d/%m/%Y') # converte em datetime\n",
    "df['ano'] = vendas_df['coluna'].dt.year       # cria uma coluna \"ano\" através de uma coluna datetime\n",
    "df['mes'] = vendas_df['coluna'].dt.month      # cria uma coluna \"mes\" através de uma coluna datetime\n",
    "df['dia'] = vendas_df['coluna'].dt.day        # cria uma coluna \"dia\" através de uma coluna datetime\n",
    "df = df.set_index('coluna')                   # pega uma coluna e faz ela ser o indice\n",
    "vl = df.loc['indice_linha', 'indice_coluna' ] # pega um dado de uma linha e coluna pelo índice\n",
    "vl = df.iloc['n_linha', 'n_coluna' ]          # pega um dado de uma linha e coluna pelo número\n",
    "~~~"
   ]
  },
  {
   "cell_type": "code",
   "execution_count": 2,
   "id": "209e244a-d807-48a5-8261-b3fd6e5caa81",
   "metadata": {},
   "outputs": [],
   "source": [
    "import pandas as pd\n",
    "\n",
    "# r -> raw string\n",
    "# r'D:\\arquivos\\desktop\\python\\cartilhas\\027 Contoso - Vendas - 2017.csv'\n",
    "# encoding='latin1','ISO-8859-1','utf-8','cp1252'\n",
    "vendas_df   = pd.read_csv('027 Contoso - Vendas - 2017.csv', sep=';', encoding='utf-8')\n",
    "produtos_df = pd.read_csv('027 Contoso - Cadastro Produtos.csv', sep=';', encoding='utf-8')\n",
    "lojas_df    = pd.read_csv('027 Contoso - Lojas.csv', sep=';', encoding='utf-8')\n",
    "clientes_df = pd.read_csv('027 Contoso - Clientes.csv', sep=';', encoding='utf-8')"
   ]
  },
  {
   "cell_type": "markdown",
   "id": "973d6929-61fb-46e8-9b52-7cd58ad05227",
   "metadata": {},
   "source": [
    "<font color=#888888>Excluindo colunas</font>"
   ]
  },
  {
   "cell_type": "code",
   "execution_count": 3,
   "id": "ee093668-92b0-4fbe-9705-b74e3bcd5722",
   "metadata": {},
   "outputs": [],
   "source": [
    "clientes_df = clientes_df.drop(['Unnamed: 7','Unnamed: 8','Unnamed: 9','Unnamed: 10'], axis=1)"
   ]
  },
  {
   "cell_type": "markdown",
   "id": "feac2ea3-4150-460a-9bdb-9f519318ee08",
   "metadata": {},
   "source": [
    "<font color=#888888>Pegando apenas algumas colunas</font>"
   ]
  },
  {
   "cell_type": "code",
   "execution_count": 4,
   "id": "029028e2-ea36-4b15-9427-14c9957226fb",
   "metadata": {},
   "outputs": [],
   "source": [
    "clientes_df = clientes_df[['ID Cliente', 'E-mail']]\n",
    "produtos_df = produtos_df[['ID Produto', 'Nome do Produto']]\n",
    "lojas_df = lojas_df[['ID Loja', 'Nome da Loja']]"
   ]
  },
  {
   "cell_type": "markdown",
   "id": "da302bb3-2304-4858-946a-454d93baf58d",
   "metadata": {},
   "source": [
    "<font color=#888888>Mesclar as tabelas</font>"
   ]
  },
  {
   "cell_type": "code",
   "execution_count": 5,
   "id": "00a4d9b2-9c5d-4e71-bdb4-31a9e6cade28",
   "metadata": {},
   "outputs": [],
   "source": [
    "vendas_df = vendas_df.merge(produtos_df, on='ID Produto')\n",
    "vendas_df = vendas_df.merge(lojas_df, on='ID Loja')\n",
    "vendas_df = vendas_df.merge(clientes_df, on='ID Cliente')"
   ]
  },
  {
   "cell_type": "markdown",
   "id": "4ef84f23-d3c6-4ea3-a0cd-5a42fe638f98",
   "metadata": {},
   "source": [
    "<font color=#888888>Renomeia uma coluna</font>"
   ]
  },
  {
   "cell_type": "code",
   "execution_count": 6,
   "id": "649b579a-dfd2-4fff-9e9a-c3a84ce84307",
   "metadata": {},
   "outputs": [],
   "source": [
    "vendas_df = vendas_df.rename(columns={'E-mail': 'E-mail do Cliente'})"
   ]
  },
  {
   "cell_type": "markdown",
   "id": "1427b659-4d9d-4a0a-a8bf-18bab7ee0caa",
   "metadata": {},
   "source": [
    "<font color=#888888>Contando e mostrando em gráfico</font>"
   ]
  },
  {
   "cell_type": "code",
   "execution_count": 7,
   "id": "90dc0cef-a520-45a1-b2d9-bb15aa3fcb7b",
   "metadata": {},
   "outputs": [
    {
     "data": {
      "text/plain": [
       "<AxesSubplot:>"
      ]
     },
     "execution_count": 7,
     "metadata": {},
     "output_type": "execute_result"
    },
    {
     "data": {
      "image/png": "[encoded data removed]",
      "text/plain": [
       "<Figure size 1296x288 with 1 Axes>"
      ]
     },
     "metadata": {
      "needs_background": "light"
     },
     "output_type": "display_data"
    }
   ],
   "source": [
    "frequencia_clientes = vendas_df['E-mail do Cliente'].value_counts()\n",
    "frequencia_clientes[:5].plot(figsize=(18, 4))"
   ]
  },
  {
   "cell_type": "markdown",
   "id": "43261c8d-6268-463b-96fd-d69dac48beb2",
   "metadata": {},
   "source": [
    "<font color=#888888>Agrupando, separando, ordenando e plotando</font>"
   ]
  },
  {
   "cell_type": "code",
   "execution_count": 8,
   "id": "68b21787-af55-4458-9494-66f336f36dd8",
   "metadata": {},
   "outputs": [
    {
     "data": {
      "text/plain": [
       "<AxesSubplot:xlabel='Nome da Loja'>"
      ]
     },
     "execution_count": 8,
     "metadata": {},
     "output_type": "execute_result"
    },
    {
     "data": {
      "image/png": "[encoded data removed]",
      "text/plain": [
       "<Figure size 1296x288 with 1 Axes>"
      ]
     },
     "metadata": {
      "needs_background": "light"
     },
     "output_type": "display_data"
    }
   ],
   "source": [
    "# agrupando e somando\n",
    "vendas_lojas = vendas_df.groupby('Nome da Loja').sum()\n",
    "\n",
    "# pegando apenas uma coluna\n",
    "vendas_lojas = vendas_lojas[['Quantidade Vendida']]\n",
    "\n",
    "# convertendo o tipo da coluna\n",
    "vendas_lojas['Quantidade Vendida'] = pd.to_numeric(vendas_lojas['Quantidade Vendida'], errors='coerce')\n",
    "\n",
    "# ordenando\n",
    "vendas_lojas = vendas_lojas.sort_values(by='Quantidade Vendida', ascending=False)\n",
    "\n",
    "# plotando\n",
    "vendas_lojas[:5].plot(kind='bar', figsize=(18, 4))"
   ]
  },
  {
   "cell_type": "markdown",
   "id": "2cf97db9-538f-493e-a20c-4e0c47596687",
   "metadata": {},
   "source": [
    "<font color=#888888>Pegando apenas a maior loja e maior valor</font>"
   ]
  },
  {
   "cell_type": "code",
   "execution_count": 9,
   "id": "7b54d64f-3c7c-4dcc-82b3-cfb8f41a6fec",
   "metadata": {},
   "outputs": [
    {
     "name": "stdout",
     "output_type": "stream",
     "text": [
      "Loja Contoso Catalog  1029117\n"
     ]
    }
   ],
   "source": [
    "maior_valor = vendas_lojas['Quantidade Vendida'].max()\n",
    "melhor_loja = vendas_lojas['Quantidade Vendida'].idxmax()\n",
    "print(melhor_loja, maior_valor)"
   ]
  },
  {
   "cell_type": "markdown",
   "id": "22962df8-0ca2-48e6-8b4b-86ef8936a11e",
   "metadata": {},
   "source": [
    "<font color=#888888>Percentual de uma coluna sobre a outra</font>"
   ]
  },
  {
   "cell_type": "code",
   "execution_count": 10,
   "id": "ac612916-f9f4-4eab-8eb6-8d09014402c9",
   "metadata": {},
   "outputs": [
    {
     "name": "stdout",
     "output_type": "stream",
     "text": [
      "1.17%\n"
     ]
    }
   ],
   "source": [
    "q_vendida = vendas_df['Quantidade Vendida'].sum()\n",
    "q_devolvida = vendas_df['Quantidade Devolvida'].sum()\n",
    "print( f'{q_devolvida / q_vendida:.2%}' )"
   ]
  },
  {
   "cell_type": "markdown",
   "id": "8a8d02fc-d2b4-410d-98c2-130dd4aa7a71",
   "metadata": {},
   "source": [
    "<font color=#888888>Filtrando</font>"
   ]
  },
  {
   "cell_type": "code",
   "execution_count": 11,
   "id": "48f315f0-5433-477b-a53c-ec02ba3b6742",
   "metadata": {},
   "outputs": [
    {
     "name": "stdout",
     "output_type": "stream",
     "text": [
      "1.33%\n"
     ]
    }
   ],
   "source": [
    "# lista de verdadeiro ou falso\n",
    "loja306 = vendas_df['ID Loja'] == 306\n",
    "vendas_duma_loja = vendas_df[ loja306 ]\n",
    "q_vendida = vendas_duma_loja['Quantidade Vendida'].sum()\n",
    "q_devolvida = vendas_duma_loja['Quantidade Devolvida'].sum()\n",
    "print( f'{q_devolvida / q_vendida:.2%}' )"
   ]
  },
  {
   "cell_type": "markdown",
   "id": "e1171d6e-a96f-4950-9e02-72818dd10684",
   "metadata": {},
   "source": [
    "<font color=#888888>Filtrando com duas colunas</font>"
   ]
  },
  {
   "cell_type": "code",
   "execution_count": 12,
   "id": "0c4bbca1-af80-4cf3-9d2b-e6a7d0a002c5",
   "metadata": {},
   "outputs": [
    {
     "name": "stdout",
     "output_type": "stream",
     "text": [
      "481657\n"
     ]
    }
   ],
   "source": [
    "# tudo junto\n",
    "vendas_sem_devolucao = vendas_df[ (vendas_df['ID Loja'] == 306) & (vendas_df['Quantidade Devolvida'] == 0) ]\n",
    "q_vendida = vendas_sem_devolucao['Quantidade Vendida'].sum()\n",
    "print(q_vendida)\n",
    "\n",
    "# separado\n",
    "# loja306 = vendas_df['ID Loja'] == 306\n",
    "# q_dev_0 = vendas_df['Quantidade Devolvida'] == 0\n",
    "# vendas_sem_devolucao = vendas_df[ loja306 & q_dev_0 ]"
   ]
  },
  {
   "cell_type": "markdown",
   "id": "251ea2c2-ae6e-43f5-8091-24d03e6e409e",
   "metadata": {},
   "source": [
    "<font color=#888888>Formatando a data para datetime</font>"
   ]
  },
  {
   "cell_type": "code",
   "execution_count": 13,
   "id": "b42005b9-e188-4a55-aec8-e867ab351e9d",
   "metadata": {},
   "outputs": [],
   "source": [
    "vendas_df['Data da Venda'] = pd.to_datetime(vendas_df['Data da Venda'], format='%d/%m/%Y')\n",
    "vendas_df['Data do Envio'] = pd.to_datetime(vendas_df['Data do Envio'], format='%d/%m/%Y')"
   ]
  },
  {
   "cell_type": "markdown",
   "id": "eec1b51c-faf8-49df-9fb2-430987bb9493",
   "metadata": {},
   "source": [
    "<font color=#888888>Acrescentando novas colunas: Pegando dia, mes e ano</font>"
   ]
  },
  {
   "cell_type": "code",
   "execution_count": 14,
   "id": "fca59c4a-53ad-44d1-970d-f77fa1349006",
   "metadata": {},
   "outputs": [],
   "source": [
    "vendas_df['Ano da Venda'] = vendas_df['Data da Venda'].dt.year\n",
    "vendas_df['Mês da Venda'] = vendas_df['Data da Venda'].dt.month\n",
    "vendas_df['Dia da Venda'] = vendas_df['Data da Venda'].dt.day"
   ]
  },
  {
   "cell_type": "markdown",
   "id": "24bb1844-13c6-4887-a4cd-6716b7b7a109",
   "metadata": {},
   "source": [
    "<font color=#888888>Pegando o valor de uma célula</font>"
   ]
  },
  {
   "cell_type": "code",
   "execution_count": 15,
   "id": "45991399-e8e7-46ef-918c-e7a8a2836862",
   "metadata": {},
   "outputs": [
    {
     "data": {
      "text/html": [
       "<div>\n",
       "<style scoped>\n",
       "    .dataframe tbody tr th:only-of-type {\n",
       "        vertical-align: middle;\n",
       "    }\n",
       "\n",
       "    .dataframe tbody tr th {\n",
       "        vertical-align: top;\n",
       "    }\n",
       "\n",
       "    .dataframe thead th {\n",
       "        text-align: right;\n",
       "    }\n",
       "</style>\n",
       "<table border=\"1\" class=\"dataframe\">\n",
       "  <thead>\n",
       "    <tr style=\"text-align: right;\">\n",
       "      <th></th>\n",
       "      <th>Nome do Produto</th>\n",
       "      <th>Descricao do Produto</th>\n",
       "      <th>Fabricante</th>\n",
       "      <th>Nome da Marca</th>\n",
       "      <th>Tipo</th>\n",
       "      <th>Custo Unitario</th>\n",
       "      <th>Preco Unitario</th>\n",
       "      <th>ID Produto</th>\n",
       "      <th>ID Subcategoria</th>\n",
       "    </tr>\n",
       "  </thead>\n",
       "  <tbody>\n",
       "    <tr>\n",
       "      <th>0</th>\n",
       "      <td>Contoso Wireless Laser Mouse E50 Grey</td>\n",
       "      <td>Advanced 2.4 GHz cordless technology makes fre...</td>\n",
       "      <td>Contoso, Ltd</td>\n",
       "      <td>Contoso</td>\n",
       "      <td>Econômico</td>\n",
       "      <td>10,69</td>\n",
       "      <td>20,96</td>\n",
       "      <td>873</td>\n",
       "      <td>22</td>\n",
       "    </tr>\n",
       "  </tbody>\n",
       "</table>\n",
       "</div>"
      ],
      "text/plain": [
       "                         Nome do Produto  \\\n",
       "0  Contoso Wireless Laser Mouse E50 Grey   \n",
       "\n",
       "                                Descricao do Produto    Fabricante  \\\n",
       "0  Advanced 2.4 GHz cordless technology makes fre...  Contoso, Ltd   \n",
       "\n",
       "  Nome da Marca       Tipo Custo Unitario Preco Unitario  ID Produto  \\\n",
       "0       Contoso  Econômico          10,69          20,96         873   \n",
       "\n",
       "   ID Subcategoria  \n",
       "0               22  "
      ]
     },
     "metadata": {},
     "output_type": "display_data"
    },
    {
     "name": "stdout",
     "output_type": "stream",
     "text": [
      "\n",
      "Nome do Produto                     Contoso Wireless Laser Mouse E50 Grey\n",
      "Descricao do Produto    Advanced 2.4 GHz cordless technology makes fre...\n",
      "Fabricante                                                   Contoso, Ltd\n",
      "Nome da Marca                                                     Contoso\n",
      "Tipo                                                            Econômico\n",
      "Custo Unitario                                                      10,69\n",
      "Preco Unitario                                                      20,96\n",
      "ID Produto                                                            873\n",
      "ID Subcategoria                                                        22\n",
      "Name: 0, dtype: object\n",
      "\n",
      "Contoso Wireless Laser Mouse E50 Grey\n",
      "\n",
      "Contoso Wireless Laser Mouse E50 Grey\n"
     ]
    }
   ],
   "source": [
    "produtos_df = pd.read_csv('027 Contoso - Cadastro Produtos.csv', sep=';', encoding='utf-8')\n",
    "display(produtos_df[:1])\n",
    "print()\n",
    "print(produtos_df.loc[0])\n",
    "print()\n",
    "#                  linha  coluna\n",
    "print(produtos_df.loc[0]['Nome do Produto'])\n",
    "print()\n",
    "#                  linha  coluna\n",
    "print(produtos_df.iloc[0, 0])"
   ]
  },
  {
   "cell_type": "code",
   "execution_count": 16,
   "id": "f7f5ee1d-621c-40fc-8224-f9b56f349fb6",
   "metadata": {},
   "outputs": [
    {
     "data": {
      "text/html": [
       "<div>\n",
       "<style scoped>\n",
       "    .dataframe tbody tr th:only-of-type {\n",
       "        vertical-align: middle;\n",
       "    }\n",
       "\n",
       "    .dataframe tbody tr th {\n",
       "        vertical-align: top;\n",
       "    }\n",
       "\n",
       "    .dataframe thead th {\n",
       "        text-align: right;\n",
       "    }\n",
       "</style>\n",
       "<table border=\"1\" class=\"dataframe\">\n",
       "  <thead>\n",
       "    <tr style=\"text-align: right;\">\n",
       "      <th></th>\n",
       "      <th>Descricao do Produto</th>\n",
       "      <th>Fabricante</th>\n",
       "      <th>Nome da Marca</th>\n",
       "      <th>Tipo</th>\n",
       "      <th>Custo Unitario</th>\n",
       "      <th>Preco Unitario</th>\n",
       "      <th>ID Produto</th>\n",
       "      <th>ID Subcategoria</th>\n",
       "    </tr>\n",
       "    <tr>\n",
       "      <th>Nome do Produto</th>\n",
       "      <th></th>\n",
       "      <th></th>\n",
       "      <th></th>\n",
       "      <th></th>\n",
       "      <th></th>\n",
       "      <th></th>\n",
       "      <th></th>\n",
       "      <th></th>\n",
       "    </tr>\n",
       "  </thead>\n",
       "  <tbody>\n",
       "    <tr>\n",
       "      <th>Contoso Wireless Laser Mouse E50 Grey</th>\n",
       "      <td>Advanced 2.4 GHz cordless technology makes fre...</td>\n",
       "      <td>Contoso, Ltd</td>\n",
       "      <td>Contoso</td>\n",
       "      <td>Econômico</td>\n",
       "      <td>10,69</td>\n",
       "      <td>20,96</td>\n",
       "      <td>873</td>\n",
       "      <td>22</td>\n",
       "    </tr>\n",
       "  </tbody>\n",
       "</table>\n",
       "</div>"
      ],
      "text/plain": [
       "                                                                    Descricao do Produto  \\\n",
       "Nome do Produto                                                                            \n",
       "Contoso Wireless Laser Mouse E50 Grey  Advanced 2.4 GHz cordless technology makes fre...   \n",
       "\n",
       "                                         Fabricante Nome da Marca       Tipo  \\\n",
       "Nome do Produto                                                                \n",
       "Contoso Wireless Laser Mouse E50 Grey  Contoso, Ltd       Contoso  Econômico   \n",
       "\n",
       "                                      Custo Unitario Preco Unitario  \\\n",
       "Nome do Produto                                                       \n",
       "Contoso Wireless Laser Mouse E50 Grey          10,69          20,96   \n",
       "\n",
       "                                       ID Produto  ID Subcategoria  \n",
       "Nome do Produto                                                     \n",
       "Contoso Wireless Laser Mouse E50 Grey         873               22  "
      ]
     },
     "metadata": {},
     "output_type": "display_data"
    },
    {
     "name": "stdout",
     "output_type": "stream",
     "text": [
      "\n",
      "Descricao do Produto    Advanced 2.4 GHz cordless technology makes fre...\n",
      "Fabricante                                                   Contoso, Ltd\n",
      "Nome da Marca                                                     Contoso\n",
      "Tipo                                                            Econômico\n",
      "Custo Unitario                                                      10,69\n",
      "Preco Unitario                                                      20,96\n",
      "ID Produto                                                            873\n",
      "ID Subcategoria                                                        22\n",
      "Name: Contoso Wireless Laser Mouse E50 Grey, dtype: object\n",
      "\n",
      "Advanced 2.4 GHz cordless technology makes freedom, hyper-fast scrolling, laser, and cursor control on virtually any surface\n",
      "\n",
      "Advanced 2.4 GHz cordless technology makes freedom, hyper-fast scrolling, laser, and cursor control on virtually any surface\n"
     ]
    }
   ],
   "source": [
    "nv_pd_df = produtos_df.set_index('Nome do Produto')\n",
    "display(nv_pd_df[:1])\n",
    "print()\n",
    "print(nv_pd_df.loc['Contoso Wireless Laser Mouse E50 Grey'])\n",
    "print()\n",
    "#                   linha                                    coluna\n",
    "print(nv_pd_df.loc['Contoso Wireless Laser Mouse E50 Grey', 'Descricao do Produto'])\n",
    "print()\n",
    "#               linha  coluna\n",
    "print(nv_pd_df.iloc[0, 0])"
   ]
  },
  {
   "cell_type": "markdown",
   "id": "523cc433-ca93-4923-8061-7c14a99983a0",
   "metadata": {},
   "source": [
    "<font color=#888888>Alterando o valor de uma célula</font>"
   ]
  },
  {
   "cell_type": "code",
   "execution_count": 17,
   "id": "1f6d3204-4c8f-4d16-a9b1-e0b624cdde82",
   "metadata": {},
   "outputs": [
    {
     "data": {
      "text/html": [
       "<div>\n",
       "<style scoped>\n",
       "    .dataframe tbody tr th:only-of-type {\n",
       "        vertical-align: middle;\n",
       "    }\n",
       "\n",
       "    .dataframe tbody tr th {\n",
       "        vertical-align: top;\n",
       "    }\n",
       "\n",
       "    .dataframe thead th {\n",
       "        text-align: right;\n",
       "    }\n",
       "</style>\n",
       "<table border=\"1\" class=\"dataframe\">\n",
       "  <thead>\n",
       "    <tr style=\"text-align: right;\">\n",
       "      <th></th>\n",
       "      <th>Descricao do Produto</th>\n",
       "      <th>Fabricante</th>\n",
       "      <th>Nome da Marca</th>\n",
       "      <th>Tipo</th>\n",
       "      <th>Custo Unitario</th>\n",
       "      <th>Preco Unitario</th>\n",
       "      <th>ID Produto</th>\n",
       "      <th>ID Subcategoria</th>\n",
       "    </tr>\n",
       "    <tr>\n",
       "      <th>Nome do Produto</th>\n",
       "      <th></th>\n",
       "      <th></th>\n",
       "      <th></th>\n",
       "      <th></th>\n",
       "      <th></th>\n",
       "      <th></th>\n",
       "      <th></th>\n",
       "      <th></th>\n",
       "    </tr>\n",
       "  </thead>\n",
       "  <tbody>\n",
       "    <tr>\n",
       "      <th>Contoso Wireless Laser Mouse E50 Grey</th>\n",
       "      <td>Advanced 2.4 GHz cordless technology makes fre...</td>\n",
       "      <td>Contoso, Ltd</td>\n",
       "      <td>Contoso</td>\n",
       "      <td>Econômico</td>\n",
       "      <td>10,69</td>\n",
       "      <td>23</td>\n",
       "      <td>873</td>\n",
       "      <td>22</td>\n",
       "    </tr>\n",
       "  </tbody>\n",
       "</table>\n",
       "</div>"
      ],
      "text/plain": [
       "                                                                    Descricao do Produto  \\\n",
       "Nome do Produto                                                                            \n",
       "Contoso Wireless Laser Mouse E50 Grey  Advanced 2.4 GHz cordless technology makes fre...   \n",
       "\n",
       "                                         Fabricante Nome da Marca       Tipo  \\\n",
       "Nome do Produto                                                                \n",
       "Contoso Wireless Laser Mouse E50 Grey  Contoso, Ltd       Contoso  Econômico   \n",
       "\n",
       "                                      Custo Unitario Preco Unitario  \\\n",
       "Nome do Produto                                                       \n",
       "Contoso Wireless Laser Mouse E50 Grey          10,69             23   \n",
       "\n",
       "                                       ID Produto  ID Subcategoria  \n",
       "Nome do Produto                                                     \n",
       "Contoso Wireless Laser Mouse E50 Grey         873               22  "
      ]
     },
     "metadata": {},
     "output_type": "display_data"
    }
   ],
   "source": [
    "# 1ª Forma\n",
    "#              linha                                    coluna\n",
    "#nv_pd_df.loc['Contoso Wireless Laser Mouse E50 Grey', 'Descricao do Produto'] = 'Outro Produto'\n",
    "\n",
    "# 2ª Forma\n",
    "#            linha                          coluna\n",
    "nv_pd_df.loc[nv_pd_df['ID Produto'] == 873, 'Preco Unitario'] = 23\n",
    "display(nv_pd_df[:1])"
   ]
  },
  {
   "cell_type": "markdown",
   "id": "6274dfd7-4d02-415c-83f6-2cf699fcd56c",
   "metadata": {},
   "source": [
    "<font color=#888888>Salvar em arquivo</font>"
   ]
  },
  {
   "cell_type": "code",
   "execution_count": 18,
   "id": "832dde5e-0737-47ad-be37-416658ecc46b",
   "metadata": {},
   "outputs": [],
   "source": [
    "nv_pd_df.to_csv(r'C:\\users\\clemas\\desktop\\nv_pd_df.csv', sep=';')"
   ]
  },
  {
   "cell_type": "markdown",
   "id": "75985075-659a-4a54-b670-310e3bb1966a",
   "metadata": {},
   "source": [
    "<font color=#888888>Dicionário para Dataframe</font>"
   ]
  },
  {
   "cell_type": "code",
   "execution_count": 19,
   "id": "94bd4368-1019-442d-86b4-7be1be86c5ff",
   "metadata": {},
   "outputs": [
    {
     "data": {
      "text/html": [
       "<div>\n",
       "<style scoped>\n",
       "    .dataframe tbody tr th:only-of-type {\n",
       "        vertical-align: middle;\n",
       "    }\n",
       "\n",
       "    .dataframe tbody tr th {\n",
       "        vertical-align: top;\n",
       "    }\n",
       "\n",
       "    .dataframe thead th {\n",
       "        text-align: right;\n",
       "    }\n",
       "</style>\n",
       "<table border=\"1\" class=\"dataframe\">\n",
       "  <thead>\n",
       "    <tr style=\"text-align: right;\">\n",
       "      <th></th>\n",
       "      <th>iphone</th>\n",
       "      <th>galaxy</th>\n",
       "      <th>ipad</th>\n",
       "      <th>tv</th>\n",
       "      <th>máquina de café</th>\n",
       "      <th>kindle</th>\n",
       "      <th>geladeira</th>\n",
       "      <th>adega</th>\n",
       "      <th>notebook dell</th>\n",
       "      <th>notebook hp</th>\n",
       "      <th>notebook asus</th>\n",
       "      <th>microsoft surface</th>\n",
       "      <th>webcam</th>\n",
       "      <th>caixa de som</th>\n",
       "      <th>microfone</th>\n",
       "      <th>câmera canon</th>\n",
       "    </tr>\n",
       "  </thead>\n",
       "  <tbody>\n",
       "    <tr>\n",
       "      <th>0</th>\n",
       "      <td>558147</td>\n",
       "      <td>712350</td>\n",
       "      <td>573823</td>\n",
       "      <td>405252</td>\n",
       "      <td>718654</td>\n",
       "      <td>531580</td>\n",
       "      <td>973139</td>\n",
       "      <td>892292</td>\n",
       "      <td>422760</td>\n",
       "      <td>154753</td>\n",
       "      <td>887061</td>\n",
       "      <td>438508</td>\n",
       "      <td>237467</td>\n",
       "      <td>489705</td>\n",
       "      <td>328311</td>\n",
       "      <td>591120</td>\n",
       "    </tr>\n",
       "    <tr>\n",
       "      <th>1</th>\n",
       "      <td>951642</td>\n",
       "      <td>244295</td>\n",
       "      <td>26964</td>\n",
       "      <td>787604</td>\n",
       "      <td>867660</td>\n",
       "      <td>78830</td>\n",
       "      <td>710331</td>\n",
       "      <td>646016</td>\n",
       "      <td>694913</td>\n",
       "      <td>539704</td>\n",
       "      <td>324831</td>\n",
       "      <td>667179</td>\n",
       "      <td>295633</td>\n",
       "      <td>725316</td>\n",
       "      <td>644622</td>\n",
       "      <td>994303</td>\n",
       "    </tr>\n",
       "  </tbody>\n",
       "</table>\n",
       "</div>"
      ],
      "text/plain": [
       "   iphone  galaxy    ipad      tv  máquina de café  kindle  geladeira   adega  \\\n",
       "0  558147  712350  573823  405252           718654  531580     973139  892292   \n",
       "1  951642  244295   26964  787604           867660   78830     710331  646016   \n",
       "\n",
       "   notebook dell  notebook hp  notebook asus  microsoft surface  webcam  \\\n",
       "0         422760       154753         887061             438508  237467   \n",
       "1         694913       539704         324831             667179  295633   \n",
       "\n",
       "   caixa de som  microfone  câmera canon  \n",
       "0        489705     328311        591120  \n",
       "1        725316     644622        994303  "
      ]
     },
     "metadata": {},
     "output_type": "display_data"
    },
    {
     "name": "stdout",
     "output_type": "stream",
     "text": [
      "\n"
     ]
    },
    {
     "data": {
      "text/html": [
       "<div>\n",
       "<style scoped>\n",
       "    .dataframe tbody tr th:only-of-type {\n",
       "        vertical-align: middle;\n",
       "    }\n",
       "\n",
       "    .dataframe tbody tr th {\n",
       "        vertical-align: top;\n",
       "    }\n",
       "\n",
       "    .dataframe thead th {\n",
       "        text-align: right;\n",
       "    }\n",
       "</style>\n",
       "<table border=\"1\" class=\"dataframe\">\n",
       "  <thead>\n",
       "    <tr style=\"text-align: right;\">\n",
       "      <th></th>\n",
       "      <th>0</th>\n",
       "      <th>1</th>\n",
       "    </tr>\n",
       "  </thead>\n",
       "  <tbody>\n",
       "    <tr>\n",
       "      <th>iphone</th>\n",
       "      <td>558147</td>\n",
       "      <td>951642</td>\n",
       "    </tr>\n",
       "    <tr>\n",
       "      <th>galaxy</th>\n",
       "      <td>712350</td>\n",
       "      <td>244295</td>\n",
       "    </tr>\n",
       "    <tr>\n",
       "      <th>ipad</th>\n",
       "      <td>573823</td>\n",
       "      <td>26964</td>\n",
       "    </tr>\n",
       "    <tr>\n",
       "      <th>tv</th>\n",
       "      <td>405252</td>\n",
       "      <td>787604</td>\n",
       "    </tr>\n",
       "    <tr>\n",
       "      <th>máquina de café</th>\n",
       "      <td>718654</td>\n",
       "      <td>867660</td>\n",
       "    </tr>\n",
       "  </tbody>\n",
       "</table>\n",
       "</div>"
      ],
      "text/plain": [
       "                      0       1\n",
       "iphone           558147  951642\n",
       "galaxy           712350  244295\n",
       "ipad             573823   26964\n",
       "tv               405252  787604\n",
       "máquina de café  718654  867660"
      ]
     },
     "metadata": {},
     "output_type": "display_data"
    },
    {
     "name": "stdout",
     "output_type": "stream",
     "text": [
      "\n"
     ]
    },
    {
     "data": {
      "text/html": [
       "<div>\n",
       "<style scoped>\n",
       "    .dataframe tbody tr th:only-of-type {\n",
       "        vertical-align: middle;\n",
       "    }\n",
       "\n",
       "    .dataframe tbody tr th {\n",
       "        vertical-align: top;\n",
       "    }\n",
       "\n",
       "    .dataframe thead th {\n",
       "        text-align: right;\n",
       "    }\n",
       "</style>\n",
       "<table border=\"1\" class=\"dataframe\">\n",
       "  <thead>\n",
       "    <tr style=\"text-align: right;\">\n",
       "      <th></th>\n",
       "      <th>Vendas 2019</th>\n",
       "      <th>Vendas 2020</th>\n",
       "    </tr>\n",
       "  </thead>\n",
       "  <tbody>\n",
       "    <tr>\n",
       "      <th>iphone</th>\n",
       "      <td>558147</td>\n",
       "      <td>951642</td>\n",
       "    </tr>\n",
       "    <tr>\n",
       "      <th>galaxy</th>\n",
       "      <td>712350</td>\n",
       "      <td>244295</td>\n",
       "    </tr>\n",
       "    <tr>\n",
       "      <th>ipad</th>\n",
       "      <td>573823</td>\n",
       "      <td>26964</td>\n",
       "    </tr>\n",
       "    <tr>\n",
       "      <th>tv</th>\n",
       "      <td>405252</td>\n",
       "      <td>787604</td>\n",
       "    </tr>\n",
       "    <tr>\n",
       "      <th>máquina de café</th>\n",
       "      <td>718654</td>\n",
       "      <td>867660</td>\n",
       "    </tr>\n",
       "  </tbody>\n",
       "</table>\n",
       "</div>"
      ],
      "text/plain": [
       "                 Vendas 2019  Vendas 2020\n",
       "iphone                558147       951642\n",
       "galaxy                712350       244295\n",
       "ipad                  573823        26964\n",
       "tv                    405252       787604\n",
       "máquina de café       718654       867660"
      ]
     },
     "metadata": {},
     "output_type": "display_data"
    },
    {
     "name": "stdout",
     "output_type": "stream",
     "text": [
      "\n"
     ]
    }
   ],
   "source": [
    "vendas_produtos = {'iphone': [558147, 951642], 'galaxy': [712350, 244295], 'ipad': [573823, 26964], 'tv': [405252, 787604], 'máquina de café': [718654, 867660], 'kindle': [531580, 78830], 'geladeira': [973139, 710331], 'adega': [892292, 646016], 'notebook dell': [422760, 694913], 'notebook hp': [154753, 539704], 'notebook asus': [887061, 324831], 'microsoft surface': [438508, 667179], 'webcam': [237467, 295633], 'caixa de som': [489705, 725316], 'microfone': [328311, 644622], 'câmera canon': [591120, 994303]}\n",
    "vendas_produtos_df = pd.DataFrame.from_dict(vendas_produtos)\n",
    "display(vendas_produtos_df)\n",
    "print()\n",
    "\n",
    "# as chaves (keys) serão o índice\n",
    "vendas_produtos_df = pd.DataFrame.from_dict(vendas_produtos, orient='index')\n",
    "display(vendas_produtos_df.head())\n",
    "print()\n",
    "\n",
    "# renomeando as colunas\n",
    "vendas_produtos_df = vendas_produtos_df.rename(columns={0: 'Vendas 2019', 1: 'Vendas 2020'})\n",
    "display(vendas_produtos_df.head())\n",
    "print()\n",
    "\n",
    "# salvando\n",
    "vendas_produtos_df.to_csv(r'C:\\users\\clemas\\desktop\\nv_pd_df.csv', sep=',', encoding='latin1')"
   ]
  },
  {
   "cell_type": "markdown",
   "id": "e29ead2e-943a-489f-8677-2cf5a113e4ad",
   "metadata": {},
   "source": [
    "<font color=#888888>Pegando dados direto da internet</font>"
   ]
  },
  {
   "cell_type": "code",
   "execution_count": 20,
   "id": "7c669d60-2b81-47c4-97bd-0b40abe06d4c",
   "metadata": {},
   "outputs": [
    {
     "data": {
      "text/html": [
       "<div>\n",
       "<style scoped>\n",
       "    .dataframe tbody tr th:only-of-type {\n",
       "        vertical-align: middle;\n",
       "    }\n",
       "\n",
       "    .dataframe tbody tr th {\n",
       "        vertical-align: top;\n",
       "    }\n",
       "\n",
       "    .dataframe thead th {\n",
       "        text-align: right;\n",
       "    }\n",
       "</style>\n",
       "<table border=\"1\" class=\"dataframe\">\n",
       "  <thead>\n",
       "    <tr style=\"text-align: right;\">\n",
       "      <th></th>\n",
       "      <th>Date</th>\n",
       "      <th>Price</th>\n",
       "      <th>Open</th>\n",
       "      <th>High</th>\n",
       "      <th>Low</th>\n",
       "      <th>Change %</th>\n",
       "    </tr>\n",
       "  </thead>\n",
       "  <tbody>\n",
       "    <tr>\n",
       "      <th>0</th>\n",
       "      <td>Jan 01, 2020</td>\n",
       "      <td>4.0195</td>\n",
       "      <td>4.0195</td>\n",
       "      <td>4.0195</td>\n",
       "      <td>4.0195</td>\n",
       "      <td>0.00%</td>\n",
       "    </tr>\n",
       "    <tr>\n",
       "      <th>1</th>\n",
       "      <td>Dec 31, 2019</td>\n",
       "      <td>4.0195</td>\n",
       "      <td>4.0201</td>\n",
       "      <td>4.0201</td>\n",
       "      <td>4.0195</td>\n",
       "      <td>0.00%</td>\n",
       "    </tr>\n",
       "    <tr>\n",
       "      <th>2</th>\n",
       "      <td>Dec 30, 2019</td>\n",
       "      <td>4.0195</td>\n",
       "      <td>4.0484</td>\n",
       "      <td>4.0484</td>\n",
       "      <td>4.0084</td>\n",
       "      <td>-0.65%</td>\n",
       "    </tr>\n",
       "    <tr>\n",
       "      <th>3</th>\n",
       "      <td>Dec 27, 2019</td>\n",
       "      <td>4.0460</td>\n",
       "      <td>4.0568</td>\n",
       "      <td>4.0614</td>\n",
       "      <td>4.0339</td>\n",
       "      <td>-0.25%</td>\n",
       "    </tr>\n",
       "    <tr>\n",
       "      <th>4</th>\n",
       "      <td>Dec 26, 2019</td>\n",
       "      <td>4.0560</td>\n",
       "      <td>4.0827</td>\n",
       "      <td>4.0827</td>\n",
       "      <td>4.0453</td>\n",
       "      <td>-0.68%</td>\n",
       "    </tr>\n",
       "    <tr>\n",
       "      <th>...</th>\n",
       "      <td>...</td>\n",
       "      <td>...</td>\n",
       "      <td>...</td>\n",
       "      <td>...</td>\n",
       "      <td>...</td>\n",
       "      <td>...</td>\n",
       "    </tr>\n",
       "    <tr>\n",
       "      <th>3908</th>\n",
       "      <td>Jan 07, 2005</td>\n",
       "      <td>2.7120</td>\n",
       "      <td>2.7230</td>\n",
       "      <td>2.7290</td>\n",
       "      <td>2.6890</td>\n",
       "      <td>-0.36%</td>\n",
       "    </tr>\n",
       "    <tr>\n",
       "      <th>3909</th>\n",
       "      <td>Jan 06, 2005</td>\n",
       "      <td>2.7218</td>\n",
       "      <td>2.7140</td>\n",
       "      <td>2.7340</td>\n",
       "      <td>2.7060</td>\n",
       "      <td>0.27%</td>\n",
       "    </tr>\n",
       "    <tr>\n",
       "      <th>3910</th>\n",
       "      <td>Jan 05, 2005</td>\n",
       "      <td>2.7145</td>\n",
       "      <td>2.6980</td>\n",
       "      <td>2.7331</td>\n",
       "      <td>2.6910</td>\n",
       "      <td>-0.17%</td>\n",
       "    </tr>\n",
       "    <tr>\n",
       "      <th>3911</th>\n",
       "      <td>Jan 04, 2005</td>\n",
       "      <td>2.7190</td>\n",
       "      <td>2.6720</td>\n",
       "      <td>2.7230</td>\n",
       "      <td>2.6720</td>\n",
       "      <td>1.61%</td>\n",
       "    </tr>\n",
       "    <tr>\n",
       "      <th>3912</th>\n",
       "      <td>Jan 03, 2005</td>\n",
       "      <td>2.6759</td>\n",
       "      <td>2.6610</td>\n",
       "      <td>2.6760</td>\n",
       "      <td>2.6520</td>\n",
       "      <td>0.75%</td>\n",
       "    </tr>\n",
       "  </tbody>\n",
       "</table>\n",
       "<p>3913 rows × 6 columns</p>\n",
       "</div>"
      ],
      "text/plain": [
       "              Date   Price    Open    High     Low Change %\n",
       "0     Jan 01, 2020  4.0195  4.0195  4.0195  4.0195    0.00%\n",
       "1     Dec 31, 2019  4.0195  4.0201  4.0201  4.0195    0.00%\n",
       "2     Dec 30, 2019  4.0195  4.0484  4.0484  4.0084   -0.65%\n",
       "3     Dec 27, 2019  4.0460  4.0568  4.0614  4.0339   -0.25%\n",
       "4     Dec 26, 2019  4.0560  4.0827  4.0827  4.0453   -0.68%\n",
       "...            ...     ...     ...     ...     ...      ...\n",
       "3908  Jan 07, 2005  2.7120  2.7230  2.7290  2.6890   -0.36%\n",
       "3909  Jan 06, 2005  2.7218  2.7140  2.7340  2.7060    0.27%\n",
       "3910  Jan 05, 2005  2.7145  2.6980  2.7331  2.6910   -0.17%\n",
       "3911  Jan 04, 2005  2.7190  2.6720  2.7230  2.6720    1.61%\n",
       "3912  Jan 03, 2005  2.6759  2.6610  2.6760  2.6520    0.75%\n",
       "\n",
       "[3913 rows x 6 columns]"
      ]
     },
     "metadata": {},
     "output_type": "display_data"
    }
   ],
   "source": [
    "url = 'https://drive.google.com/uc?authuser=0&id=1UzlPy6CZQeAzDXhfc_2sHEyK_Jb50vJs&export=download'\n",
    "cotacao_df = pd.read_csv(url)\n",
    "display(cotacao_df)"
   ]
  },
  {
   "cell_type": "markdown",
   "id": "b2130312-1594-45d5-8fce-36f2cc2753b8",
   "metadata": {},
   "source": [
    "<font color=#888888>Pegando da internet quando o site dá erro</font>"
   ]
  },
  {
   "cell_type": "code",
   "execution_count": 46,
   "id": "146bc5f8-c166-479b-ad25-8b58328241e6",
   "metadata": {},
   "outputs": [
    {
     "data": {
      "text/html": [
       "<div>\n",
       "<style scoped>\n",
       "    .dataframe tbody tr th:only-of-type {\n",
       "        vertical-align: middle;\n",
       "    }\n",
       "\n",
       "    .dataframe tbody tr th {\n",
       "        vertical-align: top;\n",
       "    }\n",
       "\n",
       "    .dataframe thead th {\n",
       "        text-align: right;\n",
       "    }\n",
       "</style>\n",
       "<table border=\"1\" class=\"dataframe\">\n",
       "  <thead>\n",
       "    <tr style=\"text-align: right;\">\n",
       "      <th></th>\n",
       "      <th>Ano</th>\n",
       "      <th>Janeiro</th>\n",
       "      <th>Fevereiro</th>\n",
       "      <th>Março</th>\n",
       "      <th>Abril</th>\n",
       "      <th>Maio</th>\n",
       "      <th>Junho</th>\n",
       "      <th>Julho</th>\n",
       "      <th>Agosto</th>\n",
       "      <th>Setembro</th>\n",
       "      <th>Outubro</th>\n",
       "      <th>Novembro</th>\n",
       "      <th>Dezembro</th>\n",
       "    </tr>\n",
       "  </thead>\n",
       "  <tbody>\n",
       "    <tr>\n",
       "      <th>0</th>\n",
       "      <td>2022</td>\n",
       "      <td>1480.49</td>\n",
       "      <td></td>\n",
       "      <td></td>\n",
       "      <td></td>\n",
       "      <td></td>\n",
       "      <td></td>\n",
       "      <td></td>\n",
       "      <td></td>\n",
       "      <td></td>\n",
       "      <td></td>\n",
       "      <td></td>\n",
       "      <td></td>\n",
       "    </tr>\n",
       "    <tr>\n",
       "      <th>1</th>\n",
       "      <td>2021</td>\n",
       "      <td>639.23</td>\n",
       "      <td>695.33</td>\n",
       "      <td>726.88</td>\n",
       "      <td>744.05</td>\n",
       "      <td>811.06</td>\n",
       "      <td>793.67</td>\n",
       "      <td>762.36</td>\n",
       "      <td>772.03</td>\n",
       "      <td>851.11</td>\n",
       "      <td>1113.29</td>\n",
       "      <td>1285.94</td>\n",
       "      <td>1446.66</td>\n",
       "    </tr>\n",
       "    <tr>\n",
       "      <th>2</th>\n",
       "      <td>2020</td>\n",
       "      <td>501.68</td>\n",
       "      <td>493.67</td>\n",
       "      <td>555.23</td>\n",
       "      <td>576.55</td>\n",
       "      <td>566.69</td>\n",
       "      <td>518.24</td>\n",
       "      <td>531.82</td>\n",
       "      <td>555.65</td>\n",
       "      <td>545.8</td>\n",
       "      <td>521.32</td>\n",
       "      <td>551.45</td>\n",
       "      <td>586.98</td>\n",
       "    </tr>\n",
       "    <tr>\n",
       "      <th>3</th>\n",
       "      <td>2019</td>\n",
       "      <td>399.98</td>\n",
       "      <td>398.08</td>\n",
       "      <td>390.17</td>\n",
       "      <td>381</td>\n",
       "      <td>392.92</td>\n",
       "      <td>427.09</td>\n",
       "      <td>442.84</td>\n",
       "      <td>417.23</td>\n",
       "      <td>415.82</td>\n",
       "      <td>406.17</td>\n",
       "      <td>447.67</td>\n",
       "      <td>518.57</td>\n",
       "    </tr>\n",
       "    <tr>\n",
       "      <th>4</th>\n",
       "      <td>2018</td>\n",
       "      <td>432.26</td>\n",
       "      <td>430.47</td>\n",
       "      <td>421.87</td>\n",
       "      <td>431.5</td>\n",
       "      <td>446.76</td>\n",
       "      <td>466.24</td>\n",
       "      <td>474.96</td>\n",
       "      <td>459.73</td>\n",
       "      <td>442.37</td>\n",
       "      <td>424.54</td>\n",
       "      <td>429.7</td>\n",
       "      <td>410.42</td>\n",
       "    </tr>\n",
       "  </tbody>\n",
       "</table>\n",
       "</div>"
      ],
      "text/plain": [
       "    Ano  Janeiro Fevereiro   Março   Abril    Maio   Junho   Julho  Agosto  \\\n",
       "0  2022  1480.49                                                             \n",
       "1  2021   639.23    695.33  726.88  744.05  811.06  793.67  762.36  772.03   \n",
       "2  2020   501.68    493.67  555.23  576.55  566.69  518.24  531.82  555.65   \n",
       "3  2019   399.98    398.08  390.17     381  392.92  427.09  442.84  417.23   \n",
       "4  2018   432.26    430.47  421.87   431.5  446.76  466.24  474.96  459.73   \n",
       "\n",
       "  Setembro  Outubro Novembro Dezembro  \n",
       "0                                      \n",
       "1   851.11  1113.29  1285.94  1446.66  \n",
       "2    545.8   521.32   551.45   586.98  \n",
       "3   415.82   406.17   447.67   518.57  \n",
       "4   442.37   424.54    429.7   410.42  "
      ]
     },
     "metadata": {},
     "output_type": "display_data"
    }
   ],
   "source": [
    "import requests\n",
    "import io\n",
    "\n",
    "url = 'http://portalweb.cooxupe.com.br:8080/portal/precohistoricocafe_2.jsp?d-3496238-e=2&6578706f7274=1'\n",
    "conteudo_url = requests.get(url).content\n",
    "arquivo = io.StringIO(conteudo_url.decode('latin1'))\n",
    "cafe_df = pd.read_csv(arquivo, sep=r'\\t', engine='python')\n",
    "\n",
    "# TIRANDO AS ASPAS\n",
    "# arrumando as colunas\n",
    "colunas = list(cafe_df.columns)\n",
    "for i, item in enumerate(colunas):\n",
    "    colunas[i] = item.replace('\"', '')\n",
    "cafe_df.columns = colunas\n",
    "\n",
    "# arrumando os valores\n",
    "for coluna in cafe_df.columns:\n",
    "    cafe_df[coluna] = cafe_df[coluna].str.replace('\"', '')\n",
    "\n",
    "display(cafe_df.head())"
   ]
  },
  {
   "cell_type": "markdown",
   "id": "27adc6e1-6652-436f-80ec-80c84d065a8b",
   "metadata": {},
   "source": [
    "<font color=#888888>Alterando valores de um Excel com pandas</font>"
   ]
  },
  {
   "cell_type": "code",
   "execution_count": 22,
   "id": "3914a3d3-0ced-4557-8e25-05b49e761544",
   "metadata": {},
   "outputs": [
    {
     "data": {
      "text/html": [
       "<div>\n",
       "<style scoped>\n",
       "    .dataframe tbody tr th:only-of-type {\n",
       "        vertical-align: middle;\n",
       "    }\n",
       "\n",
       "    .dataframe tbody tr th {\n",
       "        vertical-align: top;\n",
       "    }\n",
       "\n",
       "    .dataframe thead th {\n",
       "        text-align: right;\n",
       "    }\n",
       "</style>\n",
       "<table border=\"1\" class=\"dataframe\">\n",
       "  <thead>\n",
       "    <tr style=\"text-align: right;\">\n",
       "      <th></th>\n",
       "      <th>Produtos</th>\n",
       "      <th>Preço Base Original</th>\n",
       "      <th>Tipo</th>\n",
       "      <th>Multiplicador Imposto</th>\n",
       "      <th>Preço Base Reais</th>\n",
       "    </tr>\n",
       "  </thead>\n",
       "  <tbody>\n",
       "    <tr>\n",
       "      <th>0</th>\n",
       "      <td>Tablet</td>\n",
       "      <td>999.99</td>\n",
       "      <td>Produto</td>\n",
       "      <td>1.1</td>\n",
       "      <td>1099.989</td>\n",
       "    </tr>\n",
       "    <tr>\n",
       "      <th>1</th>\n",
       "      <td>Pós Graduação</td>\n",
       "      <td>4500.00</td>\n",
       "      <td>Serviço</td>\n",
       "      <td>1.3</td>\n",
       "      <td>5850.000</td>\n",
       "    </tr>\n",
       "    <tr>\n",
       "      <th>2</th>\n",
       "      <td>Celular</td>\n",
       "      <td>899.99</td>\n",
       "      <td>Produto</td>\n",
       "      <td>1.1</td>\n",
       "      <td>989.989</td>\n",
       "    </tr>\n",
       "    <tr>\n",
       "      <th>3</th>\n",
       "      <td>Passagem Aérea</td>\n",
       "      <td>799.00</td>\n",
       "      <td>Serviço</td>\n",
       "      <td>1.3</td>\n",
       "      <td>1038.700</td>\n",
       "    </tr>\n",
       "    <tr>\n",
       "      <th>4</th>\n",
       "      <td>Computador</td>\n",
       "      <td>3000.00</td>\n",
       "      <td>Produto</td>\n",
       "      <td>1.1</td>\n",
       "      <td>3300.000</td>\n",
       "    </tr>\n",
       "    <tr>\n",
       "      <th>5</th>\n",
       "      <td>SPA</td>\n",
       "      <td>480.48</td>\n",
       "      <td>Serviço</td>\n",
       "      <td>1.3</td>\n",
       "      <td>624.624</td>\n",
       "    </tr>\n",
       "    <tr>\n",
       "      <th>6</th>\n",
       "      <td>Corte Cabelo</td>\n",
       "      <td>50.00</td>\n",
       "      <td>Serviço</td>\n",
       "      <td>1.3</td>\n",
       "      <td>65.000</td>\n",
       "    </tr>\n",
       "  </tbody>\n",
       "</table>\n",
       "</div>"
      ],
      "text/plain": [
       "         Produtos  Preço Base Original     Tipo  Multiplicador Imposto  \\\n",
       "0          Tablet               999.99  Produto                    1.1   \n",
       "1   Pós Graduação              4500.00  Serviço                    1.3   \n",
       "2         Celular               899.99  Produto                    1.1   \n",
       "3  Passagem Aérea               799.00  Serviço                    1.3   \n",
       "4      Computador              3000.00  Produto                    1.1   \n",
       "5             SPA               480.48  Serviço                    1.3   \n",
       "6    Corte Cabelo                50.00  Serviço                    1.3   \n",
       "\n",
       "   Preço Base Reais  \n",
       "0          1099.989  \n",
       "1          5850.000  \n",
       "2           989.989  \n",
       "3          1038.700  \n",
       "4          3300.000  \n",
       "5           624.624  \n",
       "6            65.000  "
      ]
     },
     "metadata": {},
     "output_type": "display_data"
    }
   ],
   "source": [
    "tabela = pd.read_excel('027_Produtos.xlsx')\n",
    "display(tabela)\n",
    "\n",
    "# atualizar o multiplicador\n",
    "tabela.loc[ tabela['Tipo'] == 'Serviço', 'Multiplicador Imposto' ] = 1.5\n",
    "\n",
    "# atualizar o Preço Base Reais\n",
    "tabela['Preço Base Reais'] = tabela['Multiplicador Imposto'] * tabela['Preço Base Original']\n",
    "\n",
    "# salvando o arquivo\n",
    "tabela.to_excel('027_Produtos_pandas.xlsx', index=False)"
   ]
  },
  {
   "cell_type": "markdown",
   "id": "77328b84-5d37-4a52-b527-e89c5ceb63d8",
   "metadata": {},
   "source": [
    "<font color=#888888>Alterando valores de um Excel com openpyxl</font>"
   ]
  },
  {
   "cell_type": "code",
   "execution_count": 23,
   "id": "a633818f-e438-4986-b748-125a3857e739",
   "metadata": {},
   "outputs": [],
   "source": [
    "from openpyxl import Workbook, load_workbook\n",
    "\n",
    "planilha = load_workbook('027_Produtos.xlsx')\n",
    "aba_ativa = planilha.active\n",
    "for celula in aba_ativa['C']:\n",
    "    # pegar a coluna -> celula.column\n",
    "    if celula.value == 'Serviço':\n",
    "        linha = celula.row\n",
    "        aba_ativa[ f'D{linha}' ] = 1.5\n",
    "planilha.save('027_Produtos_openpyxl.xlsx')"
   ]
  },
  {
   "cell_type": "markdown",
   "id": "a65a2c6b-6350-45ca-b42d-478630fcff1b",
   "metadata": {},
   "source": [
    "<font color=#888888>Ler CSV em string alterar decimal com vírgula</font>"
   ]
  },
  {
   "cell_type": "code",
   "execution_count": 51,
   "id": "27cf2a7d-fa92-4bf2-ba6e-422d3015b8c3",
   "metadata": {},
   "outputs": [
    {
     "data": {
      "text/html": [
       "<div>\n",
       "<style scoped>\n",
       "    .dataframe tbody tr th:only-of-type {\n",
       "        vertical-align: middle;\n",
       "    }\n",
       "\n",
       "    .dataframe tbody tr th {\n",
       "        vertical-align: top;\n",
       "    }\n",
       "\n",
       "    .dataframe thead th {\n",
       "        text-align: right;\n",
       "    }\n",
       "</style>\n",
       "<table border=\"1\" class=\"dataframe\">\n",
       "  <thead>\n",
       "    <tr style=\"text-align: right;\">\n",
       "      <th></th>\n",
       "      <th>Funcionário</th>\n",
       "      <th>Salário</th>\n",
       "    </tr>\n",
       "  </thead>\n",
       "  <tbody>\n",
       "    <tr>\n",
       "      <th>0</th>\n",
       "      <td>José Ambrósio</td>\n",
       "      <td>1550.0</td>\n",
       "    </tr>\n",
       "    <tr>\n",
       "      <th>1</th>\n",
       "      <td>Felipe de Melo</td>\n",
       "      <td>2250.0</td>\n",
       "    </tr>\n",
       "    <tr>\n",
       "      <th>2</th>\n",
       "      <td>Carlos Alberto</td>\n",
       "      <td>1750.0</td>\n",
       "    </tr>\n",
       "  </tbody>\n",
       "</table>\n",
       "</div>"
      ],
      "text/plain": [
       "      Funcionário  Salário\n",
       "0   José Ambrósio   1550.0\n",
       "1  Felipe de Melo   2250.0\n",
       "2  Carlos Alberto   1750.0"
      ]
     },
     "metadata": {},
     "output_type": "display_data"
    }
   ],
   "source": [
    "salario = '''Funcionário;Salário\n",
    "José Ambrósio;1550,00\n",
    "Felipe de Melo; 2250,00\n",
    "Carlos Alberto; 1750,00'''\n",
    "arquivo = io.StringIO(salario)\n",
    "salarios_df = pd.read_csv(arquivo, sep=';', engine='python', decimal=',')\n",
    "display(salarios_df)"
   ]
  },
  {
   "cell_type": "markdown",
   "id": "b5417b07-0120-49d6-92c6-e49710a33b5b",
   "metadata": {},
   "source": [
    "<font color=#888888>Barra de progresso</font>"
   ]
  },
  {
   "cell_type": "code",
   "execution_count": 24,
   "id": "dcc713f0-a5bd-4716-b8a2-663a07a713fd",
   "metadata": {},
   "outputs": [
    {
     "name": "stderr",
     "output_type": "stream",
     "text": [
      " 99%|███████████████████████████████████████████████████████████████████████████████████▊ | 967064/980642 [00:06<00:00, 60200.05it/s]"
     ]
    },
    {
     "data": {
      "text/html": [
       "<div>\n",
       "<style scoped>\n",
       "    .dataframe tbody tr th:only-of-type {\n",
       "        vertical-align: middle;\n",
       "    }\n",
       "\n",
       "    .dataframe tbody tr th {\n",
       "        vertical-align: top;\n",
       "    }\n",
       "\n",
       "    .dataframe thead th {\n",
       "        text-align: right;\n",
       "    }\n",
       "</style>\n",
       "<table border=\"1\" class=\"dataframe\">\n",
       "  <thead>\n",
       "    <tr style=\"text-align: right;\">\n",
       "      <th></th>\n",
       "      <th>Numero da Venda</th>\n",
       "      <th>Data da Venda</th>\n",
       "      <th>Data do Envio</th>\n",
       "      <th>ID Canal</th>\n",
       "      <th>ID Loja</th>\n",
       "      <th>ID Produto</th>\n",
       "      <th>ID Promocao</th>\n",
       "      <th>ID Cliente</th>\n",
       "      <th>Quantidade Vendida</th>\n",
       "      <th>Quantidade Devolvida</th>\n",
       "    </tr>\n",
       "  </thead>\n",
       "  <tbody>\n",
       "    <tr>\n",
       "      <th>0</th>\n",
       "      <td>1</td>\n",
       "      <td>01/01/2017</td>\n",
       "      <td>02/01/2017</td>\n",
       "      <td>1</td>\n",
       "      <td>86</td>\n",
       "      <td>981</td>\n",
       "      <td>2</td>\n",
       "      <td>6825</td>\n",
       "      <td>9</td>\n",
       "      <td>1</td>\n",
       "    </tr>\n",
       "    <tr>\n",
       "      <th>1</th>\n",
       "      <td>2</td>\n",
       "      <td>01/01/2017</td>\n",
       "      <td>06/01/2017</td>\n",
       "      <td>5</td>\n",
       "      <td>308</td>\n",
       "      <td>1586</td>\n",
       "      <td>2</td>\n",
       "      <td>18469</td>\n",
       "      <td>9</td>\n",
       "      <td>1</td>\n",
       "    </tr>\n",
       "    <tr>\n",
       "      <th>2</th>\n",
       "      <td>3</td>\n",
       "      <td>01/01/2017</td>\n",
       "      <td>01/01/2017</td>\n",
       "      <td>0</td>\n",
       "      <td>294</td>\n",
       "      <td>1444</td>\n",
       "      <td>5</td>\n",
       "      <td>19730</td>\n",
       "      <td>13</td>\n",
       "      <td>1</td>\n",
       "    </tr>\n",
       "    <tr>\n",
       "      <th>3</th>\n",
       "      <td>4</td>\n",
       "      <td>01/01/2017</td>\n",
       "      <td>01/01/2017</td>\n",
       "      <td>0</td>\n",
       "      <td>251</td>\n",
       "      <td>1468</td>\n",
       "      <td>5</td>\n",
       "      <td>29326</td>\n",
       "      <td>6</td>\n",
       "      <td>1</td>\n",
       "    </tr>\n",
       "    <tr>\n",
       "      <th>4</th>\n",
       "      <td>5</td>\n",
       "      <td>01/01/2017</td>\n",
       "      <td>07/01/2017</td>\n",
       "      <td>6</td>\n",
       "      <td>94</td>\n",
       "      <td>1106</td>\n",
       "      <td>2</td>\n",
       "      <td>22617</td>\n",
       "      <td>4</td>\n",
       "      <td>1</td>\n",
       "    </tr>\n",
       "    <tr>\n",
       "      <th>...</th>\n",
       "      <td>...</td>\n",
       "      <td>...</td>\n",
       "      <td>...</td>\n",
       "      <td>...</td>\n",
       "      <td>...</td>\n",
       "      <td>...</td>\n",
       "      <td>...</td>\n",
       "      <td>...</td>\n",
       "      <td>...</td>\n",
       "      <td>...</td>\n",
       "    </tr>\n",
       "    <tr>\n",
       "      <th>980637</th>\n",
       "      <td>980638</td>\n",
       "      <td>31/12/2017</td>\n",
       "      <td>31/12/2017</td>\n",
       "      <td>0</td>\n",
       "      <td>194</td>\n",
       "      <td>2490</td>\n",
       "      <td>4</td>\n",
       "      <td>10353</td>\n",
       "      <td>120</td>\n",
       "      <td>0</td>\n",
       "    </tr>\n",
       "    <tr>\n",
       "      <th>980638</th>\n",
       "      <td>980639</td>\n",
       "      <td>31/12/2017</td>\n",
       "      <td>06/01/2018</td>\n",
       "      <td>6</td>\n",
       "      <td>32</td>\n",
       "      <td>2488</td>\n",
       "      <td>4</td>\n",
       "      <td>31750</td>\n",
       "      <td>120</td>\n",
       "      <td>0</td>\n",
       "    </tr>\n",
       "    <tr>\n",
       "      <th>980639</th>\n",
       "      <td>980640</td>\n",
       "      <td>31/12/2017</td>\n",
       "      <td>03/01/2018</td>\n",
       "      <td>3</td>\n",
       "      <td>210</td>\n",
       "      <td>2511</td>\n",
       "      <td>10</td>\n",
       "      <td>12003</td>\n",
       "      <td>80</td>\n",
       "      <td>0</td>\n",
       "    </tr>\n",
       "    <tr>\n",
       "      <th>980640</th>\n",
       "      <td>980641</td>\n",
       "      <td>31/12/2017</td>\n",
       "      <td>31/12/2017</td>\n",
       "      <td>0</td>\n",
       "      <td>53</td>\n",
       "      <td>436</td>\n",
       "      <td>4</td>\n",
       "      <td>25550</td>\n",
       "      <td>39</td>\n",
       "      <td>0</td>\n",
       "    </tr>\n",
       "    <tr>\n",
       "      <th>980641</th>\n",
       "      <td>980642</td>\n",
       "      <td>31/12/2017</td>\n",
       "      <td>31/12/2017</td>\n",
       "      <td>0</td>\n",
       "      <td>309</td>\n",
       "      <td>2510</td>\n",
       "      <td>10</td>\n",
       "      <td>28707</td>\n",
       "      <td>80</td>\n",
       "      <td>0</td>\n",
       "    </tr>\n",
       "  </tbody>\n",
       "</table>\n",
       "<p>980642 rows × 10 columns</p>\n",
       "</div>"
      ],
      "text/plain": [
       "        Numero da Venda Data da Venda Data do Envio  ID Canal  ID Loja  \\\n",
       "0                     1    01/01/2017    02/01/2017         1       86   \n",
       "1                     2    01/01/2017    06/01/2017         5      308   \n",
       "2                     3    01/01/2017    01/01/2017         0      294   \n",
       "3                     4    01/01/2017    01/01/2017         0      251   \n",
       "4                     5    01/01/2017    07/01/2017         6       94   \n",
       "...                 ...           ...           ...       ...      ...   \n",
       "980637           980638    31/12/2017    31/12/2017         0      194   \n",
       "980638           980639    31/12/2017    06/01/2018         6       32   \n",
       "980639           980640    31/12/2017    03/01/2018         3      210   \n",
       "980640           980641    31/12/2017    31/12/2017         0       53   \n",
       "980641           980642    31/12/2017    31/12/2017         0      309   \n",
       "\n",
       "        ID Produto  ID Promocao  ID Cliente  Quantidade Vendida  \\\n",
       "0              981            2        6825                   9   \n",
       "1             1586            2       18469                   9   \n",
       "2             1444            5       19730                  13   \n",
       "3             1468            5       29326                   6   \n",
       "4             1106            2       22617                   4   \n",
       "...            ...          ...         ...                 ...   \n",
       "980637        2490            4       10353                 120   \n",
       "980638        2488            4       31750                 120   \n",
       "980639        2511           10       12003                  80   \n",
       "980640         436            4       25550                  39   \n",
       "980641        2510           10       28707                  80   \n",
       "\n",
       "        Quantidade Devolvida  \n",
       "0                          1  \n",
       "1                          1  \n",
       "2                          1  \n",
       "3                          1  \n",
       "4                          1  \n",
       "...                      ...  \n",
       "980637                     0  \n",
       "980638                     0  \n",
       "980639                     0  \n",
       "980640                     0  \n",
       "980641                     0  \n",
       "\n",
       "[980642 rows x 10 columns]"
      ]
     },
     "metadata": {},
     "output_type": "display_data"
    },
    {
     "name": "stderr",
     "output_type": "stream",
     "text": [
      "100%|█████████████████████████████████████████████████████████████████████████████████████| 980642/980642 [00:20<00:00, 60200.05it/s]"
     ]
    }
   ],
   "source": [
    "vendas_df = pd.read_csv(r'027 Contoso - Vendas - 2017.csv', sep=';')\n",
    "\n",
    "from tqdm import tqdm\n",
    "\n",
    "pbar = tqdm(total=len(vendas_df['ID Loja']), position=0, leave=True)\n",
    "\n",
    "for i, id_loja in enumerate(vendas_df['ID Loja']):\n",
    "    pbar.update()\n",
    "    if id_loja == 222:\n",
    "        vendas_df.loc[i, 'Quantidade Devolvida'] += 1\n",
    "        \n",
    "display(vendas_df)"
   ]
  }
 ],
 "metadata": {
  "kernelspec": {
   "display_name": "Python 3 (ipykernel)",
   "language": "python",
   "name": "python3"
  },
  "language_info": {
   "codemirror_mode": {
    "name": "ipython",
    "version": 3
   },
   "file_extension": ".py",
   "mimetype": "text/x-python",
   "name": "python",
   "nbconvert_exporter": "python",
   "pygments_lexer": "ipython3",
   "version": "3.9.7"
  }
 },
 "nbformat": 4,
 "nbformat_minor": 5
}
