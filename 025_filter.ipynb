{
 "cells": [
  {
   "cell_type": "markdown",
   "id": "2c67e365-e259-4602-85c9-d217040a3585",
   "metadata": {},
   "source": [
    "# <font color=#ffdd00>filter</font>"
   ]
  },
  {
   "cell_type": "markdown",
   "id": "02478e92-52cb-499b-9357-4ff75723121d",
   "metadata": {},
   "source": [
    "<font color=#888888>Retorna como resposta uma lista onde a função for verdadeira</font>"
   ]
  },
  {
   "cell_type": "markdown",
   "id": "6005683c-b79a-43e2-a7c7-bc7baecca171",
   "metadata": {},
   "source": [
    "## ``EXEMPLO 1``\n",
    "```\n",
    "Objetivo: Verificar os produtos com estoque abaixo de 200\n",
    "```"
   ]
  },
  {
   "cell_type": "code",
   "execution_count": 17,
   "id": "253a8e16-df5e-448f-9759-57379ab3c76f",
   "metadata": {},
   "outputs": [
    {
     "name": "stdout",
     "output_type": "stream",
     "text": [
      "{'vinho': 100, 'cafeiteira': 150}\n"
     ]
    }
   ],
   "source": [
    "estoque_produtos = {'vinho': 100, 'cafeiteira': 150, 'microondas': 300, 'iphone': 5500}\n",
    "\n",
    "# modo normal\n",
    "# def verificar(item):\n",
    "#    return item[1] < 200\n",
    "# filtrando\n",
    "# produtos_com_pouco_estoque = list( filter( verificar, estoque_produtos.items() ) )\n",
    "# devolvendo para dicionário\n",
    "# produtos_com_pouco_estoque = dict( produtos_com_pouco_estoque )\n",
    "\n",
    "# com lambda\n",
    "produtos_com_pouco_estoque = dict( list( filter( lambda item: item[1] < 200, estoque_produtos.items() ) ) )\n",
    "print( produtos_com_pouco_estoque )"
   ]
  },
  {
   "cell_type": "code",
   "execution_count": 9,
   "id": "5f335bad-c87b-480b-b255-96b7d91dc81e",
   "metadata": {},
   "outputs": [],
   "source": [
    "!py subtitulo.py"
   ]
  }
 ],
 "metadata": {
  "kernelspec": {
   "display_name": "Python 3 (ipykernel)",
   "language": "python",
   "name": "python3"
  },
  "language_info": {
   "codemirror_mode": {
    "name": "ipython",
    "version": 3
   },
   "file_extension": ".py",
   "mimetype": "text/x-python",
   "name": "python",
   "nbconvert_exporter": "python",
   "pygments_lexer": "ipython3",
   "version": "3.9.7"
  }
 },
 "nbformat": 4,
 "nbformat_minor": 5
}
