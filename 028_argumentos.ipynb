{
 "cells": [
  {
   "cell_type": "markdown",
   "id": "0fac5143-1559-40e0-b493-e6279a39b494",
   "metadata": {},
   "source": [
    "# <font color=#ffdd00>Argumentos</font>"
   ]
  },
  {
   "cell_type": "code",
   "execution_count": null,
   "id": "54760468-55aa-49b1-a89f-e346cb1d8d29",
   "metadata": {},
   "outputs": [],
   "source": [
    "import argparse\n",
    "parser = argparse.ArgumentParser(\n",
    "description='''\n",
    "Script para exemplificar o uso de argumentos\n",
    "\n",
    "Use: --valor1 e --valor2 e --valor3 opicionalmente\n",
    "'''\n",
    ")\n",
    "parser.add_argument(\n",
    "\t'-v1', '--valor1', type=int, default=None,\n",
    "\thelp='O Primeiro valor', required=True\n",
    ")\n",
    "parser.add_argument(\n",
    "\t'-v2', '--valor2', type=int, default=None,\n",
    "\thelp='O Segundo valor', required=True\n",
    ")\n",
    "parser.add_argument(\n",
    "\t'-v3', '--valor3', type=int, default=None,\n",
    "\thelp='O Segundo valor', required=False\n",
    ")\n",
    "args = parser.parse_args()\n",
    "if args.valor3 and args.valor1 and args.valor2:\n",
    "\tprint(f'{args.valor1} + {args.valor2} + {args.valor3} = {args.valor1 + args.valor2 + args.valor3}')\n",
    "elif args.valor1 and args.valor2:\n",
    "\tprint(f'{args.valor1} + {args.valor2} = {args.valor1 + args.valor2}')\n",
    "else:\n",
    "\tif args.valor1 is None:\n",
    "\t\traise Exception('precisa definir --valor1')\n",
    "\tif args.valor2 is None:\n",
    "\t\traise Exception('precisa definir --valor2')\n"
   ]
  }
 ],
 "metadata": {
  "kernelspec": {
   "display_name": "Python 3 (ipykernel)",
   "language": "python",
   "name": "python3"
  },
  "language_info": {
   "codemirror_mode": {
    "name": "ipython",
    "version": 3
   },
   "file_extension": ".py",
   "mimetype": "text/x-python",
   "name": "python",
   "nbconvert_exporter": "python",
   "pygments_lexer": "ipython3",
   "version": "3.9.7"
  }
 },
 "nbformat": 4,
 "nbformat_minor": 5
}
