{
 "cells": [
  {
   "cell_type": "markdown",
   "id": "72e2157a-15e2-4e92-8fba-346153918d60",
   "metadata": {},
   "source": [
    "# <font color=#ffdd00>Print</font>"
   ]
  },
  {
   "cell_type": "markdown",
   "id": "958f2d89-99d9-4473-874f-8c8b3ab995b2",
   "metadata": {},
   "source": [
    "<font color=#888888>Tipos de print</font>"
   ]
  },
  {
   "cell_type": "code",
   "execution_count": 3,
   "id": "57bcee4c-bf10-448d-8020-f5e140e47c60",
   "metadata": {},
   "outputs": [
    {
     "name": "stdout",
     "output_type": "stream",
     "text": [
      "O Clemas tem 42 anos de idade\n",
      "O Clemas tem 42 anos de idade\n",
      "O Clemas tem 42 anos de idade\n"
     ]
    }
   ],
   "source": [
    "nome = 'Clemas'\n",
    "idade = 42\n",
    "print('O {} tem {} anos de idade'.format(nome, idade))\n",
    "print(f'O {nome} tem {idade} anos de idade')\n",
    "print('O', nome, 'tem', idade, 'anos de idade')"
   ]
  },
  {
   "cell_type": "markdown",
   "id": "7c03b761-50cc-44d1-ad45-f3474318f91f",
   "metadata": {},
   "source": []
  },
  {
   "cell_type": "markdown",
   "id": "405fac4a-17ac-421c-a61c-9f4cb8c3cdfe",
   "metadata": {},
   "source": [
    "<font color=#888888>Usar separador expecífico</font>"
   ]
  },
  {
   "cell_type": "code",
   "execution_count": 7,
   "id": "b7ff60bb-1837-4236-b22a-983f2f647475",
   "metadata": {},
   "outputs": [
    {
     "name": "stdout",
     "output_type": "stream",
     "text": [
      "Deus ajuda,\n",
      "quem cedo madruga,\n",
      "mas não se iluda,\n",
      "só dá conhecimento,\n",
      "pra quem estuda\n",
      "\n",
      "Autor: Clemas\n"
     ]
    }
   ],
   "source": [
    "frase1 = 'Deus ajuda,'\n",
    "frase2 = 'quem cedo madruga,'\n",
    "frase3 = 'mas não se iluda,'\n",
    "frase4 = 'só dá conhecimento,'\n",
    "frase5 = 'pra quem estuda'\n",
    "frase6 = 'Autor: Clemas'\n",
    "print(frase1, frase2, frase3, frase4, frase5, '', frase6, sep = '\\n')"
   ]
  },
  {
   "cell_type": "markdown",
   "id": "acffb0a7-b3a9-448c-be58-41f18fb17466",
   "metadata": {},
   "source": [
    "<font color=#888888>Usar print para salvar arquivo</font>"
   ]
  },
  {
   "cell_type": "code",
   "execution_count": 1,
   "id": "e852699c-a631-4dcc-b043-146354c6e3b0",
   "metadata": {},
   "outputs": [],
   "source": [
    "# a -> add -> adicionar\n",
    "# r -> read -> ler\n",
    "# w -> write -> escrever\n",
    "arquivo = open('000_print.txt', 'w')\n",
    "print('Texto que vai ser salvo no arquivo', file = arquivo)\n",
    "arquivo.close()"
   ]
  }
 ],
 "metadata": {
  "kernelspec": {
   "display_name": "Python 3 (ipykernel)",
   "language": "python",
   "name": "python3"
  },
  "language_info": {
   "codemirror_mode": {
    "name": "ipython",
    "version": 3
   },
   "file_extension": ".py",
   "mimetype": "text/x-python",
   "name": "python",
   "nbconvert_exporter": "python",
   "pygments_lexer": "ipython3",
   "version": "3.9.7"
  }
 },
 "nbformat": 4,
 "nbformat_minor": 5
}
