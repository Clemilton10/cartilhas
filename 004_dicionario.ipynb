{
 "cells": [
  {
   "cell_type": "markdown",
   "id": "f1fe4d9a-c58a-4ea0-ae09-6be65b29318d",
   "metadata": {},
   "source": [
    "# <font color=#ffdd00>Dicionário</font>"
   ]
  },
  {
   "cell_type": "markdown",
   "id": "778a98db-9bad-4f19-a04e-3742adb4c090",
   "metadata": {},
   "source": [
    "<font color=#888888>Pegar o valor de uma chave</font>"
   ]
  },
  {
   "cell_type": "code",
   "execution_count": 51,
   "id": "cfa03397-417f-4fed-be02-8a0cdb382f58",
   "metadata": {},
   "outputs": [
    {
     "name": "stdout",
     "output_type": "stream",
     "text": [
      "Clemas\n",
      "Clemas\n"
     ]
    }
   ],
   "source": [
    "dados = { 'nome': 'Clemas', 'idade': 42, 'email': 'clemas.web@gmail.com' }\n",
    "print( dados[ 'nome' ] )\n",
    "print( dados.get( 'nome' ) )"
   ]
  },
  {
   "cell_type": "markdown",
   "id": "79e419f5-33d1-49fb-b677-16ef1a03cbd1",
   "metadata": {},
   "source": [
    "<font color=#888888>Pegar uma chave que não existe</font>"
   ]
  },
  {
   "cell_type": "code",
   "execution_count": 52,
   "id": "5b2b413c-c575-48cf-b2ae-1474e1211eef",
   "metadata": {},
   "outputs": [
    {
     "name": "stdout",
     "output_type": "stream",
     "text": [
      "None\n"
     ]
    }
   ],
   "source": [
    "print( dados.get( 'salario' ) )\n",
    "# print( dados[ 'salario' ] ) # assim daria erro"
   ]
  },
  {
   "cell_type": "markdown",
   "id": "453332d1-9407-498e-a1bf-425b9dcda532",
   "metadata": {},
   "source": [
    "<font color=#888888>Tratando erros de chave não encontrada</font>"
   ]
  },
  {
   "cell_type": "code",
   "execution_count": 53,
   "id": "83e68a97-843c-4d5f-b669-6e2003d8d037",
   "metadata": {},
   "outputs": [
    {
     "name": "stdout",
     "output_type": "stream",
     "text": [
      "A chave salario não existe\n",
      "A chave salario não existe\n"
     ]
    }
   ],
   "source": [
    "# Método 1\n",
    "if 'salario' in dados:\n",
    "    print( dados[ 'salario' ] )\n",
    "else:\n",
    "    print( 'A chave salario não existe' )\n",
    "    \n",
    "# Método 2\n",
    "if dados.get( 'salario' ) == None:\n",
    "    print( 'A chave salario não existe' )\n",
    "else:\n",
    "    print( dados.get( 'salario' ) )"
   ]
  },
  {
   "cell_type": "markdown",
   "id": "cf85b2ee-625c-4fb8-91e2-c691e5554575",
   "metadata": {},
   "source": [
    "<font color=#888888>Adicionar/editar itens no dicionário</font>"
   ]
  },
  {
   "cell_type": "code",
   "execution_count": 54,
   "id": "e2af8292-e202-4db9-ac34-6fdfb5a35fa4",
   "metadata": {},
   "outputs": [
    {
     "name": "stdout",
     "output_type": "stream",
     "text": [
      "{'nome': 'Clemas', 'idade': 42, 'email': 'clemas.web@gmail.com', 'salario': 1000}\n",
      "{'nome': 'Clemas', 'idade': 42, 'email': 'clemas.web@gmail.com', 'salario': 1000, 'alergia': 'dipirona', 'cor': 'preta'}\n",
      "{'janeiro': 100000, 'fevereiro': 120000, 'março': 90000, 'abril': 88000, 'maio': 89000, 'junho': 120000}\n"
     ]
    }
   ],
   "source": [
    "dados[ 'salario' ] = 1000\n",
    "print( dados )\n",
    "dados.update( { 'alergia': 'dipirona', 'cor': 'preta' } )\n",
    "print( dados )\n",
    "\n",
    "lucro_1tri = {'janeiro': 100000, 'fevereiro': 120000, 'março': 90000}\n",
    "lucro_2tri = {'abril': 88000, 'maio': 89000, 'junho': 120000}\n",
    "lucro_anual = lucro_1tri\n",
    "lucro_anual.update( lucro_2tri )\n",
    "print( lucro_anual )"
   ]
  },
  {
   "cell_type": "markdown",
   "id": "8c9d045b-6ba4-466d-8048-acddb412f2cc",
   "metadata": {},
   "source": [
    "<font color=#888888>Excluir itens do dicionário</font>"
   ]
  },
  {
   "cell_type": "code",
   "execution_count": 55,
   "id": "510a0551-6a24-489a-b86b-96f5bfa3df4f",
   "metadata": {},
   "outputs": [
    {
     "name": "stdout",
     "output_type": "stream",
     "text": [
      "{'nome': 'Clemas', 'idade': 42, 'email': 'clemas.web@gmail.com'}\n",
      "1000\n"
     ]
    }
   ],
   "source": [
    "# Só exclui\n",
    "del dados[ 'alergia' ]\n",
    "del dados[ 'cor' ]\n",
    "\n",
    "# Exclui e armazena\n",
    "salario =  dados.pop( 'salario' )\n",
    "print( dados )\n",
    "print( salario )"
   ]
  },
  {
   "cell_type": "markdown",
   "id": "2f620abb-ffed-4808-8ae3-f1415ca79716",
   "metadata": {},
   "source": [
    "<font color=#888888>Percorrer um dicionário</font>"
   ]
  },
  {
   "cell_type": "code",
   "execution_count": 56,
   "id": "8e36d09d-182c-46ff-adc1-ede8bd5dc480",
   "metadata": {},
   "outputs": [
    {
     "name": "stdout",
     "output_type": "stream",
     "text": [
      "nome: Clemas\n",
      "idade: 42\n",
      "email: clemas.web@gmail.com\n"
     ]
    }
   ],
   "source": [
    "for chave in dados:\n",
    "    print( f'{chave}: {dados[chave]}' )"
   ]
  },
  {
   "cell_type": "markdown",
   "id": "5da8a170-ee6c-4612-aa26-77253a121d81",
   "metadata": {},
   "source": [
    "<font color=#888888>Percorrer um dicionário pelos items</font>"
   ]
  },
  {
   "cell_type": "code",
   "execution_count": 57,
   "id": "7a5dd48f-8bdf-4c0b-b288-1c4430d116d5",
   "metadata": {},
   "outputs": [
    {
     "name": "stdout",
     "output_type": "stream",
     "text": [
      "dict_items([('nome', 'Clemas'), ('idade', 42), ('email', 'clemas.web@gmail.com')])\n",
      "[('nome', 'Clemas'), ('idade', 42), ('email', 'clemas.web@gmail.com')]\n",
      "------------------\n",
      "('nome', 'Clemas')\n",
      "('idade', 42)\n",
      "('email', 'clemas.web@gmail.com')\n",
      "------------------\n",
      "nome: Clemas\n",
      "idade: 42\n",
      "email: clemas.web@gmail.com\n"
     ]
    }
   ],
   "source": [
    "print( dados.items() )\n",
    "print( list( dados.items() ) )\n",
    "print( '------------------' )\n",
    "for item in dados.items():\n",
    "    print( item )\n",
    "\n",
    "print( '------------------' )\n",
    "for chave, valor in dados.items():\n",
    "    print( f'{chave}: {valor}' )"
   ]
  },
  {
   "cell_type": "markdown",
   "id": "e79ef6c1-15b5-4db7-804a-5ae9ad021762",
   "metadata": {},
   "source": [
    "<font color=#888888>Percorrer um dicionário pelas chaves e valores</font>"
   ]
  },
  {
   "cell_type": "code",
   "execution_count": 58,
   "id": "029900f5-ce42-4fed-9cf4-60eb4300976c",
   "metadata": {},
   "outputs": [
    {
     "name": "stdout",
     "output_type": "stream",
     "text": [
      "nome\n",
      "idade\n",
      "email\n",
      "------------------\n",
      "Clemas\n",
      "42\n",
      "clemas.web@gmail.com\n"
     ]
    }
   ],
   "source": [
    "for chave in dados.keys():\n",
    "    print( chave )\n",
    "\n",
    "print( '------------------' )\n",
    "for valor in dados.values():\n",
    "    print( valor )"
   ]
  },
  {
   "cell_type": "markdown",
   "id": "11f8b9d5-c9df-47d2-be42-68ed32385f32",
   "metadata": {},
   "source": [
    "<font color=#888888>Ordenar um dicionário</font>"
   ]
  },
  {
   "cell_type": "code",
   "execution_count": 60,
   "id": "bb464526-4dcf-4d8a-a145-d5303b3cd164",
   "metadata": {},
   "outputs": [
    {
     "name": "stdout",
     "output_type": "stream",
     "text": [
      "ipad: 1000\n",
      "iphone: 15000\n",
      "notebook asus: 2450\n",
      "notebook dell: 17000\n",
      "notebook hp: 1000\n",
      "ps5: 14300\n",
      "samsung galaxy: 12000\n",
      "tablet: 1720\n",
      "tv philco: 2500\n",
      "tv samsung: 10000\n"
     ]
    }
   ],
   "source": [
    "vendas = {\n",
    "    'notebook asus': 2450,\n",
    "    'iphone': 15000,\n",
    "    'samsung galaxy': 12000,\n",
    "    'tv samsung': 10000,\n",
    "    'ps5': 14300,\n",
    "    'tablet': 1720,\n",
    "    'notebook dell': 17000,\n",
    "    'ipad': 1000,\n",
    "    'tv philco': 2500,\n",
    "    'notebook hp': 1000\n",
    "}\n",
    "d_chaves = vendas.keys()\n",
    "l_chaves = list( d_chaves )\n",
    "l_chaves.sort()\n",
    "for chave in l_chaves:\n",
    "    print( f'{chave}: {vendas[chave]}' )"
   ]
  },
  {
   "cell_type": "markdown",
   "id": "03537d14-bc3f-462c-b5f1-840ddebe60a3",
   "metadata": {},
   "source": [
    "<font color=#888888>Convertendo lista em dicionário</font>"
   ]
  },
  {
   "cell_type": "code",
   "execution_count": 75,
   "id": "8cac708b-a067-45c5-a4f4-cf5e691fec43",
   "metadata": {},
   "outputs": [
    {
     "name": "stdout",
     "output_type": "stream",
     "text": [
      "{'iphone': 0, 'samsung galaxy': 0, 'tv samsung': 0, 'ps5': 0, 'tablet': 0, 'ipad': 0, 'tv philco': 0, 'notebook hp': 0, 'notebook dell': 0, 'notebook asus': 0}\n",
      "{'iphone': 15000, 'samsung galaxy': 12000, 'tv samsung': 10000, 'ps5': 14300, 'tablet': 1720, 'ipad': 1000, 'tv philco': 2500, 'notebook hp': 1000, 'notebook dell': 17000, 'notebook asus': 2450}\n",
      "{'iphone': 15000, 'samsung galaxy': 12000, 'tv samsung': 10000, 'ps5': 14300, 'tablet': 1720, 'ipad': 1000, 'tv philco': 2500, 'notebook hp': 1000, 'notebook dell': 17000, 'notebook asus': 2450}\n"
     ]
    }
   ],
   "source": [
    "produtos = ['iphone', 'samsung galaxy', 'tv samsung', 'ps5', 'tablet', 'ipad', 'tv philco', 'notebook hp', 'notebook dell', 'notebook asus']\n",
    "vendas = [15000, 12000, 10000, 14300, 1720, 1000, 2500, 1000, 17000, 2450]\n",
    "\n",
    "# Método 1 -> Convertendo uma lista com valor padrão\n",
    "dic1 = dict.fromkeys( produtos, 0 )\n",
    "print( dic1 )\n",
    "\n",
    "# Método 2 -> Convertendo com uma lista de tuplas\n",
    "l_tup = []\n",
    "for i in range( len( produtos ) ):\n",
    "    l_tup.append( ( produtos[i], vendas[i] ) )\n",
    "dic2 = dict( l_tup )\n",
    "print( dic2 )\n",
    "\n",
    "# Método 3 -> Convertendo a partir de um objeto\n",
    "obj_tuplas = zip( produtos, vendas )\n",
    "dic3 = dict( obj_tuplas )\n",
    "print( dic3 )"
   ]
  },
  {
   "cell_type": "markdown",
   "id": "d9c18495-c0eb-4853-9583-b3a15e3a137b",
   "metadata": {},
   "source": [
    "<font color=#888888>Convertendo 3 listas ( tupla )</font>"
   ]
  },
  {
   "cell_type": "code",
   "execution_count": 76,
   "id": "da5f3bdd-71bb-43b8-9ce4-42dc6bf6546d",
   "metadata": {},
   "outputs": [
    {
     "name": "stdout",
     "output_type": "stream",
     "text": [
      "{'iphone': (558147, 951642), 'galaxy': (712350, 244295), 'ipad': (573823, 26964), 'tv': (405252, 787604), 'máquina de café': (718654, 867660), 'kindle': (531580, 78830), 'geladeira': (973139, 710331), 'adega': (892292, 646016), 'notebook dell': (422760, 694913), 'notebook hp': (154753, 539704), 'notebook asus': (887061, 324831), 'microsoft surface': (438508, 667179), 'webcam': (237467, 295633), 'caixa de som': (489705, 725316), 'microfone': (328311, 644622), 'câmera canon': (591120, 994303)}\n"
     ]
    }
   ],
   "source": [
    "produtos = ['iphone', 'galaxy', 'ipad', 'tv', 'máquina de café', 'kindle', 'geladeira', 'adega', 'notebook dell', 'notebook hp', 'notebook asus', 'microsoft surface', 'webcam', 'caixa de som', 'microfone', 'câmera canon']\n",
    "vendas2019 = [558147,712350,573823,405252,718654,531580,973139,892292,422760,154753,887061,438508,237467,489705,328311,591120]\n",
    "vendas2020 = [951642,244295,26964,787604,867660,78830,710331,646016,694913,539704,324831,667179,295633,725316,644622,994303]\n",
    "\n",
    "l_vendas = list( zip( vendas2019, vendas2020 ) )\n",
    "dic4 = dict( zip( produtos, l_vendas ) )\n",
    "print( dic4 )"
   ]
  },
  {
   "cell_type": "markdown",
   "id": "d71f8f6a-8e35-4953-bfb8-78d66c4fb3d3",
   "metadata": {},
   "source": [
    "<font color=#888888>Limpar o dicionário</font>"
   ]
  },
  {
   "cell_type": "code",
   "execution_count": 59,
   "id": "d9bc97a7-4221-4055-8d35-3315780af59a",
   "metadata": {},
   "outputs": [
    {
     "name": "stdout",
     "output_type": "stream",
     "text": [
      "{}\n"
     ]
    }
   ],
   "source": [
    "# del dados # exclui a variável inteira\n",
    "dados.clear()\n",
    "print( dados )"
   ]
  },
  {
   "cell_type": "markdown",
   "id": "c24c8832-ed4b-4908-8ac5-af2d0da538e1",
   "metadata": {},
   "source": [
    "<font color=#888888>Juntando dois dicionários</font>"
   ]
  },
  {
   "cell_type": "code",
   "execution_count": 3,
   "id": "794fac20-06ed-4053-a0e4-22aec82083f7",
   "metadata": {},
   "outputs": [
    {
     "name": "stdout",
     "output_type": "stream",
     "text": [
      "<class 'zip'>\n",
      "[('vinho', 1500), ('cafeiteira', 150), ('microondas', 2100), ('iphone', 1950)]\n"
     ]
    }
   ],
   "source": [
    "vendas_produtos = (1500, 150, 2100, 1950)\n",
    "produtos = ('vinho', 'cafeiteira', 'microondas', 'iphone')\n",
    "\n",
    "nova_lista = zip( produtos, vendas_produtos )\n",
    "print( type( nova_lista ) )\n",
    "nova_lista = list( nova_lista )\n",
    "print( nova_lista )"
   ]
  }
 ],
 "metadata": {
  "kernelspec": {
   "display_name": "Python 3 (ipykernel)",
   "language": "python",
   "name": "python3"
  },
  "language_info": {
   "codemirror_mode": {
    "name": "ipython",
    "version": 3
   },
   "file_extension": ".py",
   "mimetype": "text/x-python",
   "name": "python",
   "nbconvert_exporter": "python",
   "pygments_lexer": "ipython3",
   "version": "3.9.7"
  }
 },
 "nbformat": 4,
 "nbformat_minor": 5
}
