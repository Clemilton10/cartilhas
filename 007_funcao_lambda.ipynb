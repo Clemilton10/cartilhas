{
 "cells": [
  {
   "cell_type": "markdown",
   "id": "ec63153a-ec97-4bdc-8a30-3963c35e9efa",
   "metadata": {},
   "source": [
    "# <font color=#ffdd00>λ - Lambda ( Letra Grega )</font>"
   ]
  },
  {
   "cell_type": "markdown",
   "id": "402cd905-7eef-485e-8b29-fc7e738c37a2",
   "metadata": {},
   "source": [
    "<font color=#888888>Calculando o imposto de uma lista do jeito convencional</font>"
   ]
  },
  {
   "cell_type": "code",
   "execution_count": 1,
   "id": "e67962a0-8e13-4a5f-93b3-79a7021b47c6",
   "metadata": {},
   "outputs": [
    {
     "name": "stdout",
     "output_type": "stream",
     "text": [
      "[300.0, 150.0, 3.0, 7.5]\n"
     ]
    }
   ],
   "source": [
    "precos = [ 1000, 500, 10, 25 ]\n",
    "\n",
    "def calcular(preco):\n",
    "    return preco * 0.3 # 30 por cento\n",
    "\n",
    "impostos = []\n",
    "for pc in precos:\n",
    "    impostos.append( calcular(pc) ) # adicionando na lista \"impostos\"\n",
    "\n",
    "print( impostos )"
   ]
  },
  {
   "cell_type": "markdown",
   "id": "224e8957-1b40-4d1b-8c99-d217899be678",
   "metadata": {},
   "source": [
    "<font color=#888888>Calculando os mesmos impostos usando a função LAMBDA</font>"
   ]
  },
  {
   "cell_type": "code",
   "execution_count": 3,
   "id": "5b74be66-8f8a-43b9-9996-74ea7a907ff4",
   "metadata": {},
   "outputs": [
    {
     "name": "stdout",
     "output_type": "stream",
     "text": [
      "[300.0, 150.0, 3.0, 7.5]\n"
     ]
    }
   ],
   "source": [
    "impostos2 = list( map( lambda x: x * 0.3, precos ) )\n",
    "print( impostos2 )"
   ]
  },
  {
   "cell_type": "markdown",
   "id": "e83ffe20-ec76-44bc-8075-ed133a47d067",
   "metadata": {},
   "source": [
    "<font color=#888888>Lambda com vários parâmetros</font>"
   ]
  },
  {
   "cell_type": "code",
   "execution_count": 10,
   "id": "a1673aba-c9ec-4a24-bda8-35c0918af204",
   "metadata": {},
   "outputs": [
    {
     "name": "stdout",
     "output_type": "stream",
     "text": [
      "300.0\n"
     ]
    }
   ],
   "source": [
    "a = 1000\n",
    "b = 0.3\n",
    "imposto = lambda x, y: x * y\n",
    "print(imposto(a, b))"
   ]
  },
  {
   "cell_type": "markdown",
   "id": "6fddecaa-ff58-43ba-956d-d51bfea20972",
   "metadata": {},
   "source": [
    "<font color=#888888>Sendo executada como função numa variável</font>"
   ]
  },
  {
   "cell_type": "code",
   "execution_count": 4,
   "id": "161e960e-3b00-4bf4-8395-ab1614540e04",
   "metadata": {},
   "outputs": [
    {
     "name": "stdout",
     "output_type": "stream",
     "text": [
      "130.0\n",
      "130.0\n"
     ]
    }
   ],
   "source": [
    "# do modo normal\n",
    "# def acrescenta_imposto(preco, imposto):\n",
    "#    return preco * (1 + (imposto / 100) ) # acrescentando o imposto\n",
    "\n",
    "# usando o lambda\n",
    "acrescenta_imposto = lambda preco, imposto: preco * (1 + (imposto / 100) )\n",
    "print( acrescenta_imposto(100, 30) )\n",
    "\n",
    "# a lambda pode usar uma variável externa também\n",
    "imposto = 30\n",
    "acrescenta_imposto = lambda preco: preco * (1 + (imposto / 100) )\n",
    "print( acrescenta_imposto(100) )"
   ]
  },
  {
   "cell_type": "markdown",
   "id": "e1e4d578-22b5-4eb0-84d1-f14d0f9e9636",
   "metadata": {},
   "source": [
    "<font color=#888888>Sendo usada junto com MAP</font>"
   ]
  },
  {
   "cell_type": "code",
   "execution_count": 7,
   "id": "adc230f3-95a6-4347-ace5-c19f3eae7421",
   "metadata": {},
   "outputs": [
    {
     "name": "stdout",
     "output_type": "stream",
     "text": [
      "[130.0, 195.0, 390.0, 7150.0]\n"
     ]
    }
   ],
   "source": [
    "vendas_produtos = {'vinho': 100, 'cafeiteira': 150, 'microondas': 300, 'iphone': 5500}\n",
    "\n",
    "# do modo normal\n",
    "# def calcular_preco(preco):\n",
    "#    return preco * 1.3 # mais 30%\n",
    "#preco_com_imposto = list( map( calcular_preco, vendas_produtos.values() ) )\n",
    "\n",
    "# com o lambda\n",
    "preco_com_imposto = list( map( lambda preco: preco * 1.3, vendas_produtos.values() ) )\n",
    "print( preco_com_imposto )"
   ]
  },
  {
   "cell_type": "code",
   "execution_count": 5,
   "id": "be143a37-b61c-41e4-9c69-102567e56968",
   "metadata": {},
   "outputs": [],
   "source": [
    "!py subtitulo.py"
   ]
  }
 ],
 "metadata": {
  "kernelspec": {
   "display_name": "Python 3 (ipykernel)",
   "language": "python",
   "name": "python3"
  },
  "language_info": {
   "codemirror_mode": {
    "name": "ipython",
    "version": 3
   },
   "file_extension": ".py",
   "mimetype": "text/x-python",
   "name": "python",
   "nbconvert_exporter": "python",
   "pygments_lexer": "ipython3",
   "version": "3.9.7"
  }
 },
 "nbformat": 4,
 "nbformat_minor": 5
}
