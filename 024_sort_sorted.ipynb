{
 "cells": [
  {
   "cell_type": "markdown",
   "id": "93559399-359d-42e2-b59f-abb0cf0a9efc",
   "metadata": {},
   "source": [
    "# <font color=#ffdd00>sort / sorted</font>"
   ]
  },
  {
   "cell_type": "markdown",
   "id": "df848282-efce-4ec8-932d-c1644fd40c4f",
   "metadata": {},
   "source": [
    "## ``EXEMPLO 1``"
   ]
  },
  {
   "cell_type": "code",
   "execution_count": 8,
   "id": "ecaf47d7-8acb-4dcf-9126-f0bfb51058d4",
   "metadata": {},
   "outputs": [
    {
     "name": "stdout",
     "output_type": "stream",
     "text": [
      "original: ['IPad', 'IPhone 11', 'IPhone x', 'airpods', 'apple tv', 'apple watch', 'mac', 'mac book']\n",
      "\n",
      "alterada: ['IPad', 'IPhone 11', 'IPhone x', 'airpods', 'apple tv', 'apple watch', 'mac', 'mac book']\n",
      "original: ['IPad', 'IPhone 11', 'IPhone x', 'airpods', 'apple tv', 'apple watch', 'mac', 'mac book']\n"
     ]
    }
   ],
   "source": [
    "produtos = ['apple tv', 'mac', 'IPhone x', 'IPhone 11', 'IPad', 'apple watch', 'mac book', 'airpods']\n",
    "\n",
    "# SORTED\n",
    "# retorna a lista ordenada\n",
    "produtos2 = sorted( produtos )\n",
    "print( f'original: {produtos}' )\n",
    "print()\n",
    "print( f'alterada: {produtos2}' )\n",
    "\n",
    "# SORT\n",
    "# altera a lista passada (original)\n",
    "produtos.sort()\n",
    "print( f'original: {produtos}' )\n",
    "\n",
    "# Obs.: O \"I\" veio antes do \"a\" seguindo a tabela ASCII"
   ]
  },
  {
   "cell_type": "markdown",
   "id": "10b04d22-2805-4463-91a8-b41139bd1c11",
   "metadata": {},
   "source": [
    "## ``EXEMPLO 2``\n",
    "```\n",
    "Objetivo: Ordenar ignorando se é maiúsculo ou minúsculo\n",
    "```"
   ]
  },
  {
   "cell_type": "code",
   "execution_count": 15,
   "id": "ad07008c-7b1b-443b-a91b-77da5cee00f5",
   "metadata": {},
   "outputs": [
    {
     "name": "stdout",
     "output_type": "stream",
     "text": [
      "['airpods', 'apple tv', 'apple watch', 'IPad', 'IPhone 11', 'IPhone x', 'mac', 'mac book']\n"
     ]
    }
   ],
   "source": [
    "produtos = ['apple tv', 'mac', 'IPhone x', 'IPhone 11', 'IPad', 'apple watch', 'mac book', 'airpods']\n",
    "\n",
    "# usando uma função em uma nova lista\n",
    "# def minusculo(t):\n",
    "#    return t.casefold()\n",
    "# produtos2 = produtos.copy()\n",
    "# produtos2.sort(key=minusculo)\n",
    "\n",
    "# usando a função str nativa na mesma lista\n",
    "produtos.sort(key=str.casefold)\n",
    "print( produtos )"
   ]
  },
  {
   "cell_type": "markdown",
   "id": "cd568f80-bf35-4573-b0c5-246ddc2d8d2c",
   "metadata": {},
   "source": [
    "## ``EXEMPLO 3``\n",
    "```\n",
    "Objetivo: Ordenar um dicionário pelo segundo item\n",
    "```"
   ]
  },
  {
   "cell_type": "code",
   "execution_count": 18,
   "id": "4832a7ff-9ead-4788-ae5a-28c861aca042",
   "metadata": {},
   "outputs": [
    {
     "name": "stdout",
     "output_type": "stream",
     "text": [
      "[('vinho', 100), ('cafeiteira', 150), ('microondas', 300), ('iphone', 5500)]\n",
      "[('iphone', 5500), ('microondas', 300), ('cafeiteira', 150), ('vinho', 100)]\n",
      "{'iphone': 5500, 'microondas': 300, 'cafeiteira': 150, 'vinho': 100}\n"
     ]
    }
   ],
   "source": [
    "vendas_produtos = {'vinho': 100, 'cafeiteira': 150, 'microondas': 300, 'iphone': 5500}\n",
    "\n",
    "# 1- Transformar o dicioinário em lista (aula do dicionário)\n",
    "lista_vendas = list( vendas_produtos.items() )\n",
    "print( lista_vendas )\n",
    "\n",
    "# 2- Criar função que retorna segundo item da tupla\n",
    "def segundo_item(tupla):\n",
    "    return tupla[1]\n",
    "\n",
    "# 3- Ordenar lista de Tuplas\n",
    "lista_vendas.sort(key=segundo_item, reverse=True)\n",
    "print( lista_vendas )\n",
    "\n",
    "# 4- Converter em dicionário novamente\n",
    "lista_vendas = dict( lista_vendas )\n",
    "print( lista_vendas )"
   ]
  }
 ],
 "metadata": {
  "kernelspec": {
   "display_name": "Python 3 (ipykernel)",
   "language": "python",
   "name": "python3"
  },
  "language_info": {
   "codemirror_mode": {
    "name": "ipython",
    "version": 3
   },
   "file_extension": ".py",
   "mimetype": "text/x-python",
   "name": "python",
   "nbconvert_exporter": "python",
   "pygments_lexer": "ipython3",
   "version": "3.9.7"
  }
 },
 "nbformat": 4,
 "nbformat_minor": 5
}
