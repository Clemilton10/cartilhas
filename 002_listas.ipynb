{
 "cells": [
  {
   "cell_type": "markdown",
   "id": "6484bf8c-2925-4623-9f8c-cf54a59bed5e",
   "metadata": {},
   "source": [
    "# <font color=#ffdd00>Listas</font>"
   ]
  },
  {
   "cell_type": "code",
   "execution_count": 20,
   "id": "66f64386-6afc-4332-91c8-49f0304eb8e6",
   "metadata": {},
   "outputs": [],
   "source": [
    "produtos = [ 'apple tv', 'mac', 'iphone x', 'IPad', 'apple watch', 'mac book', 'airpods' ]"
   ]
  },
  {
   "cell_type": "markdown",
   "id": "9863626a-d8e1-4869-b224-d9cedf16ea55",
   "metadata": {},
   "source": [
    "<font color=#888888>Copiar uma lista para outra para serem independentes</font>"
   ]
  },
  {
   "cell_type": "code",
   "execution_count": 21,
   "id": "e462213c-8b6b-4a08-b2c8-b5142b274255",
   "metadata": {},
   "outputs": [
    {
     "name": "stdout",
     "output_type": "stream",
     "text": [
      "['apple TV', 'mac', 'iphone x', 'IPad', 'apple watch', 'mac book', 'airpods']\n",
      "['apple TV', 'mac', 'iphone x', 'IPad', 'apple watch', 'mac book', 'airpods']\n",
      "['apple TV', 'mac', 'iphone x', 'IPad', 'apple watch', 'mac book', 'airpods']\n"
     ]
    }
   ],
   "source": [
    "# uma interferindo na outra\n",
    "produtosB = produtos\n",
    "produtosB[0] = 'apple TV'\n",
    "print( produtos )\n",
    "# observe que a alteração foi nas duas\n",
    "\n",
    "# Método 1\n",
    "produtosC = produtos.copy()\n",
    "produtosC[0] = 'appleX'\n",
    "print( produtos )\n",
    "# agora ela fica inalterada\n",
    "\n",
    "# Método 2\n",
    "produtosC = produtos[:]\n",
    "produtosC[0] = 'appleX'\n",
    "print( produtos )\n",
    "# agora ela fica inalterada"
   ]
  },
  {
   "cell_type": "markdown",
   "id": "fe4704ed-f8c7-4fba-a861-5eddca8d99d1",
   "metadata": {},
   "source": [
    "<font color=#888888>Procurar um índice pelo nome</font>"
   ]
  },
  {
   "cell_type": "code",
   "execution_count": 22,
   "id": "8bb62be7-c2af-4958-ac6d-f7685df9f7bf",
   "metadata": {},
   "outputs": [
    {
     "name": "stdout",
     "output_type": "stream",
     "text": [
      "1\n"
     ]
    }
   ],
   "source": [
    "indice = produtos.index( 'mac' )\n",
    "print( indice )"
   ]
  },
  {
   "cell_type": "markdown",
   "id": "a7695fa3-2287-464e-8e03-0d6975b21c27",
   "metadata": {},
   "source": [
    "<font color=#888888>Procurar um item na lista</font>"
   ]
  },
  {
   "cell_type": "code",
   "execution_count": 23,
   "id": "d29b9ce1-0c30-42ce-a419-eebc799c203b",
   "metadata": {},
   "outputs": [
    {
     "name": "stdout",
     "output_type": "stream",
     "text": [
      "o mac tá na lista\n"
     ]
    }
   ],
   "source": [
    "if 'mac' in produtos:\n",
    "    print( 'o mac tá na lista' )\n",
    "else:\n",
    "    print( 'não tem mac na lista' )"
   ]
  },
  {
   "cell_type": "markdown",
   "id": "5ead3fb8-e90c-4585-93d6-7d25338b861c",
   "metadata": {},
   "source": [
    "<font color=#888888>Adicionar um item na lista</font>"
   ]
  },
  {
   "cell_type": "code",
   "execution_count": 24,
   "id": "fbf8aacd-75a9-44f2-b37c-1b1cc475030e",
   "metadata": {},
   "outputs": [
    {
     "name": "stdout",
     "output_type": "stream",
     "text": [
      "['apple TV', 'mac', 'iphone x', 'IPad', 'apple watch', 'mac book', 'airpods', 'iphone 11']\n",
      "['apple TV', 'mac', 'iphone x', 'IPad', 'apple watch', 'mac book', 'airpods', 'iphone 11']\n",
      "['apple TV', 'mac', 'iphone x', 'IPad', 'apple watch', 'mac book', 'airpods', 'iphone 11']\n"
     ]
    }
   ],
   "source": [
    "produtosA = produtos.copy()\n",
    "produtosA = produtosA + [ 'iphone 11' ]\n",
    "print( produtosA )\n",
    "\n",
    "produtosB = produtos.copy()\n",
    "produtosB += [ 'iphone 11' ]\n",
    "print( produtosB )\n",
    "\n",
    "produtosC = produtos.copy()\n",
    "produtosC.append( 'iphone 11' )\n",
    "print( produtosC )"
   ]
  },
  {
   "cell_type": "markdown",
   "id": "b6dbdcaf-bf77-4ade-89d4-ea81b6e12ced",
   "metadata": {},
   "source": [
    "<font color=#888888>Remover um item pelo nome</font>"
   ]
  },
  {
   "cell_type": "code",
   "execution_count": 25,
   "id": "6b620a30-2539-45a7-920e-a346342bb395",
   "metadata": {},
   "outputs": [
    {
     "name": "stdout",
     "output_type": "stream",
     "text": [
      "['apple TV', 'mac', 'iphone x', 'apple watch', 'mac book', 'airpods']\n"
     ]
    }
   ],
   "source": [
    "produtosA = produtos.copy()\n",
    "item_removido = produtosA.remove( 'IPad' )\n",
    "print( produtosA )"
   ]
  },
  {
   "cell_type": "markdown",
   "id": "7c161e99-a965-4a6e-87af-69f1f2626bc5",
   "metadata": {},
   "source": [
    "<font color=#888888>Remover um item pelo índice</font>"
   ]
  },
  {
   "cell_type": "code",
   "execution_count": 26,
   "id": "1b313908-96ff-4aeb-9581-3d100bb7fc67",
   "metadata": {},
   "outputs": [
    {
     "name": "stdout",
     "output_type": "stream",
     "text": [
      "['mac', 'iphone x', 'apple watch', 'mac book', 'airpods']\n"
     ]
    }
   ],
   "source": [
    "produtosA.pop( 0 )\n",
    "print( produtosA )"
   ]
  },
  {
   "cell_type": "markdown",
   "id": "5f6e63dc-81e5-4d0c-9fd7-94697ffede4e",
   "metadata": {},
   "source": [
    "<font color=#888888>Remover com segurança e sem mostrar nada de erro</font>"
   ]
  },
  {
   "cell_type": "code",
   "execution_count": 27,
   "id": "d7999176-0eec-499c-9c41-f7b842791694",
   "metadata": {},
   "outputs": [],
   "source": [
    "try:\n",
    "    produtosA.remove( 'ipoh' )\n",
    "except:\n",
    "    pass"
   ]
  },
  {
   "cell_type": "markdown",
   "id": "dd33a351-6478-4457-a819-c10d6bfc6fdc",
   "metadata": {},
   "source": [
    "<font color=#888888>Qtd de itens de uma lista</font>"
   ]
  },
  {
   "cell_type": "code",
   "execution_count": 28,
   "id": "99ea98f6-eebd-4362-8e2e-cbed35d2a0fe",
   "metadata": {},
   "outputs": [
    {
     "name": "stdout",
     "output_type": "stream",
     "text": [
      "7\n"
     ]
    }
   ],
   "source": [
    "qtd_itens = len( produtos )\n",
    "print( qtd_itens )"
   ]
  },
  {
   "cell_type": "markdown",
   "id": "0333dfeb-9274-4971-84ea-4d60014fce69",
   "metadata": {},
   "source": [
    "<font color=#888888>O valor maior e menor de uma lista</font>"
   ]
  },
  {
   "cell_type": "code",
   "execution_count": 29,
   "id": "8df118ed-a89a-4fbb-b5c2-cfa40ea6ce2d",
   "metadata": {},
   "outputs": [
    {
     "name": "stdout",
     "output_type": "stream",
     "text": [
      "Mais vendido: iphone x\n",
      "Menos vendido: mac book\n"
     ]
    }
   ],
   "source": [
    "vendas = [ 1000, 1500, 15000, 270, 900, 100, 1200 ]\n",
    "maior = max( vendas )\n",
    "menor = min( vendas )\n",
    "i_maior = vendas.index( maior )\n",
    "i_menor = vendas.index( menor )\n",
    "p_maior = produtos[ i_maior ]\n",
    "p_menor = produtos[ i_menor ]\n",
    "print( f'Mais vendido: {p_maior}\\nMenos vendido: {p_menor}' )"
   ]
  },
  {
   "cell_type": "markdown",
   "id": "ccca473a-8fb3-4184-a559-89509644001f",
   "metadata": {},
   "source": [
    "<font color=#888888>Adicionar uma lista em outra</font>"
   ]
  },
  {
   "cell_type": "code",
   "execution_count": 30,
   "id": "dc571a02-1062-4c91-8c38-ba28223a1457",
   "metadata": {},
   "outputs": [
    {
     "name": "stdout",
     "output_type": "stream",
     "text": [
      "['apple tv', 'mac', 'iphone x', 'IPad', 'apple watch', 'mac book', 'airpods']\n",
      "['apple tv', 'mac', 'iphone x', 'IPad', 'apple watch', 'mac book', 'airpods']\n"
     ]
    }
   ],
   "source": [
    "# método 1\n",
    "produtosA = [ 'apple tv', 'mac', 'iphone x', 'IPad' ]\n",
    "produtosB = [ 'apple watch', 'mac book', 'airpods' ]\n",
    "\n",
    "produtosC = produtosA\n",
    "produtosC.extend( produtosB )\n",
    "print( produtosC )\n",
    "\n",
    "# Método 2\n",
    "produtosA = [ 'apple tv', 'mac', 'iphone x', 'IPad' ]\n",
    "produtosB = [ 'apple watch', 'mac book', 'airpods' ]\n",
    "produtosC = produtosA + produtosB\n",
    "print( produtosC )"
   ]
  },
  {
   "cell_type": "markdown",
   "id": "e6b0efb5-ae84-45d1-899c-b40e123f6a49",
   "metadata": {},
   "source": [
    "<font color=#888888>Adicionar uma lista num item de outra</font>"
   ]
  },
  {
   "cell_type": "code",
   "execution_count": 31,
   "id": "4de71c9a-1762-4921-b591-3b46449526da",
   "metadata": {},
   "outputs": [
    {
     "name": "stdout",
     "output_type": "stream",
     "text": [
      "['apple tv', 'mac', 'iphone x', 'IPad', ['apple watch', 'mac book', 'airpods']]\n"
     ]
    }
   ],
   "source": [
    "produtosA = [ 'apple tv', 'mac', 'iphone x', 'IPad' ]\n",
    "produtosB = [ 'apple watch', 'mac book', 'airpods' ]\n",
    "produtosC = produtosA\n",
    "produtosC.append( produtosB )\n",
    "print( produtosC )"
   ]
  },
  {
   "cell_type": "markdown",
   "id": "ea942a8f-afca-4cbe-9d48-ef8373441976",
   "metadata": {},
   "source": [
    "<font color=#ffdd00>Cuidado!</font>"
   ]
  },
  {
   "cell_type": "code",
   "execution_count": 32,
   "id": "94d8c5ef-0d68-4e6c-84da-6b4e8861acc6",
   "metadata": {},
   "outputs": [
    {
     "name": "stdout",
     "output_type": "stream",
     "text": [
      "[1, 2]\n",
      "3\n"
     ]
    }
   ],
   "source": [
    "# Soma de listas\n",
    "print( [1] + [2] )\n",
    "\n",
    "# Soma de valores\n",
    "print( 1 + 2 )"
   ]
  },
  {
   "cell_type": "markdown",
   "id": "d4fbc4b5-0b58-438f-93d2-aac660b75467",
   "metadata": {},
   "source": [
    "<font color=#888888>Ordenar</font>"
   ]
  },
  {
   "cell_type": "code",
   "execution_count": 33,
   "id": "8ff1683a-9df8-4d37-8591-0066e49a12b7",
   "metadata": {},
   "outputs": [
    {
     "name": "stdout",
     "output_type": "stream",
     "text": [
      "['IPad', 'airpods', 'apple TV', 'apple watch', 'iphone x', 'mac', 'mac book']\n",
      "[100, 270, 900, 1000, 1200, 1500, 15000]\n",
      "['mac book', 'mac', 'iphone x', 'apple watch', 'apple TV', 'airpods', 'IPad']\n",
      "[15000, 1500, 1200, 1000, 900, 270, 100]\n"
     ]
    }
   ],
   "source": [
    "# Crescente / Alfabético\n",
    "produtos_em_ordem = produtos\n",
    "produtos_em_ordem.sort()\n",
    "print( produtos_em_ordem )\n",
    "produtos_em_ordem = vendas\n",
    "produtos_em_ordem.sort()\n",
    "print( produtos_em_ordem )\n",
    "\n",
    "# Decrescente / ao contrário\n",
    "produtos_em_ordem = produtos\n",
    "produtos_em_ordem.sort( reverse = True )\n",
    "print( produtos_em_ordem )\n",
    "produtos_em_ordem = vendas\n",
    "produtos_em_ordem.sort( reverse = True )\n",
    "print( produtos_em_ordem )"
   ]
  },
  {
   "cell_type": "markdown",
   "id": "a4002bc2-95b0-40e8-b715-1db0d524ef5c",
   "metadata": {},
   "source": [
    "<font color=#888888>Somar todos os valores</font>"
   ]
  },
  {
   "cell_type": "code",
   "execution_count": 34,
   "id": "19425171-293c-41b6-8557-186609eb1a66",
   "metadata": {},
   "outputs": [
    {
     "name": "stdout",
     "output_type": "stream",
     "text": [
      "19970\n"
     ]
    }
   ],
   "source": [
    "soma = sum( vendas )\n",
    "print( soma )"
   ]
  },
  {
   "cell_type": "markdown",
   "id": "fd7d0269-6fea-4d8a-b01c-17a008e154a0",
   "metadata": {},
   "source": [
    "<font color=#888888>Juntar -> Implode -> Converte uma lista em String</font>"
   ]
  },
  {
   "cell_type": "code",
   "execution_count": 35,
   "id": "f2b52f5d-4fa8-4d2f-89a1-d871706a4d46",
   "metadata": {},
   "outputs": [
    {
     "name": "stdout",
     "output_type": "stream",
     "text": [
      "mac book\n",
      "mac\n",
      "iphone x\n",
      "apple watch\n",
      "apple TV\n",
      "airpods\n",
      "IPad\n"
     ]
    }
   ],
   "source": [
    "print( '\\n'.join( produtos ) )"
   ]
  },
  {
   "cell_type": "markdown",
   "id": "7ff64dbc-006f-4c01-9dbe-b571f3d8b4c2",
   "metadata": {},
   "source": [
    "<font color=#888888>Quebrar -> Explode -> Converte uma String para lista</font>"
   ]
  },
  {
   "cell_type": "code",
   "execution_count": 36,
   "id": "bf7adb89-6b7a-43b8-bed5-ebf0175d67ef",
   "metadata": {},
   "outputs": [
    {
     "name": "stdout",
     "output_type": "stream",
     "text": [
      "['apple tv', 'mac', 'iphone x', 'IPad', 'apple watch', 'mac book', 'airpods']\n"
     ]
    }
   ],
   "source": [
    "pds = 'apple tv, mac, iphone x, IPad, apple watch, mac book, airpods'\n",
    "produtos = pds.split( ', ' )\n",
    "print( produtos )"
   ]
  },
  {
   "cell_type": "markdown",
   "id": "2741faf0-6acf-49bb-a6fa-d897f13b6d89",
   "metadata": {},
   "source": [
    "<font color=#888888>Mais material sobre listas</font>"
   ]
  },
  {
   "cell_type": "markdown",
   "id": "1b6e67ae-da4b-442f-b3d2-827385be7012",
   "metadata": {},
   "source": [
    "https://docs.python.org/pt-br/3/tutorial/datastructures.html"
   ]
  },
  {
   "cell_type": "markdown",
   "id": "d8b76b4c-59af-47e6-9091-2e75c0e5a25c",
   "metadata": {},
   "source": [
    "<font color=#888888>Embaralhar uma lista</font>"
   ]
  },
  {
   "cell_type": "code",
   "execution_count": 37,
   "id": "0c7a8f53-0aaf-4e16-af24-8aa71d3feb66",
   "metadata": {},
   "outputs": [
    {
     "name": "stdout",
     "output_type": "stream",
     "text": [
      "['mac book', 'apple watch', 'mac', 'airpods', 'apple tv', 'iphone x', 'IPad']\n"
     ]
    }
   ],
   "source": [
    "from random import shuffle\n",
    "shuffle( produtos )\n",
    "print( produtos )\n",
    "\n"
   ]
  }
 ],
 "metadata": {
  "kernelspec": {
   "display_name": "Python 3 (ipykernel)",
   "language": "python",
   "name": "python3"
  },
  "language_info": {
   "codemirror_mode": {
    "name": "ipython",
    "version": 3
   },
   "file_extension": ".py",
   "mimetype": "text/x-python",
   "name": "python",
   "nbconvert_exporter": "python",
   "pygments_lexer": "ipython3",
   "version": "3.9.7"
  }
 },
 "nbformat": 4,
 "nbformat_minor": 5
}
