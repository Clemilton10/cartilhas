{
 "cells": [
  {
   "cell_type": "markdown",
   "id": "ba7b140c-e806-48ec-ae0e-8b968de7ac86",
   "metadata": {},
   "source": [
    "# <font color=#ffdd00>Docstring e Annotations</font>"
   ]
  },
  {
   "cell_type": "markdown",
   "id": "2cc3dd26-b090-4612-8cb4-85cb83b965eb",
   "metadata": {},
   "source": [
    "~~~python\n",
    "def funcao(nome: str, idade: int)->str:\n",
    "    '''Função que forma uma frase com o nome e idade passados\n",
    "    \n",
    "    Parameters:\n",
    "        nome (str): Nome para colocar na frase\n",
    "        idade (int): Idade para colocar na frase\n",
    "        \n",
    "    Returns:\n",
    "        frase (str): Frase formada\n",
    "    '''\n",
    "    return f'O nome é {nome} e a idade é {idade}'\n",
    "~~~"
   ]
  },
  {
   "cell_type": "markdown",
   "id": "635582d2-d896-49de-ab35-149ec7ce5661",
   "metadata": {},
   "source": [
    "<font color=#888888>Rode a importação da biblioteca antes de chamar a explicação</font>"
   ]
  },
  {
   "cell_type": "code",
   "execution_count": 2,
   "id": "29157622-0afe-455b-a4a3-46486e129366",
   "metadata": {},
   "outputs": [],
   "source": [
    "from rangel.medidas import medidas\n",
    "m = medidas()"
   ]
  },
  {
   "cell_type": "markdown",
   "id": "e817a840-4045-4b33-8c73-c059f1098239",
   "metadata": {},
   "source": [
    "<font color=#888888>Use as teclas SHIFT + TAB para puxar a explicação da função</font>"
   ]
  },
  {
   "cell_type": "code",
   "execution_count": 7,
   "id": "0bea8919-a0c4-49fd-80ae-73cd5df309d5",
   "metadata": {},
   "outputs": [
    {
     "name": "stdout",
     "output_type": "stream",
     "text": [
      "32.31098884280702\n"
     ]
    }
   ],
   "source": [
    "hp = m.catetos_hipotenusa(12, 30)\n",
    "print(hp)"
   ]
  }
 ],
 "metadata": {
  "kernelspec": {
   "display_name": "Python 3 (ipykernel)",
   "language": "python",
   "name": "python3"
  },
  "language_info": {
   "codemirror_mode": {
    "name": "ipython",
    "version": 3
   },
   "file_extension": ".py",
   "mimetype": "text/x-python",
   "name": "python",
   "nbconvert_exporter": "python",
   "pygments_lexer": "ipython3",
   "version": "3.9.7"
  }
 },
 "nbformat": 4,
 "nbformat_minor": 5
}
