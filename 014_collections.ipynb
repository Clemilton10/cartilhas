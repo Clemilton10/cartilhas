{
 "cells": [
  {
   "cell_type": "markdown",
   "id": "3afa0b47-3661-455e-b699-e2926b4beedf",
   "metadata": {},
   "source": [
    "# <font color=#ffdd00>Collections</font>"
   ]
  },
  {
   "cell_type": "markdown",
   "id": "6d4d3804-41ec-4af7-a4b7-200179acd4d2",
   "metadata": {},
   "source": [
    "<font color=#888888>O método Counter verifica os maiores</font>"
   ]
  },
  {
   "cell_type": "code",
   "execution_count": 1,
   "id": "e1645750-2ff8-422f-b861-0b42bf763d55",
   "metadata": {},
   "outputs": [
    {
     "name": "stdout",
     "output_type": "stream",
     "text": [
      "[('notebook dell', 17000), ('iphone', 15000), ('ps5', 14300)]\n"
     ]
    }
   ],
   "source": [
    "from collections import Counter\n",
    "vendas_tecnologia = {'notebook asus': 2450, 'iphone': 15000, 'samsung galaxy': 12000, 'tv samsung': 10000, 'ps5': 14300, 'tablet': 1720, 'notebook dell': 17000, 'ipad': 1000, 'tv philco': 2500, 'notebook hp': 1000}\n",
    "aux = Counter( vendas_tecnologia )\n",
    "print( aux.most_common(3) )"
   ]
  }
 ],
 "metadata": {
  "kernelspec": {
   "display_name": "Python 3 (ipykernel)",
   "language": "python",
   "name": "python3"
  },
  "language_info": {
   "codemirror_mode": {
    "name": "ipython",
    "version": 3
   },
   "file_extension": ".py",
   "mimetype": "text/x-python",
   "name": "python",
   "nbconvert_exporter": "python",
   "pygments_lexer": "ipython3",
   "version": "3.9.7"
  }
 },
 "nbformat": 4,
 "nbformat_minor": 5
}
