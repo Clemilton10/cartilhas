{
 "cells": [
  {
   "cell_type": "markdown",
   "id": "a0c4db18-7a24-4755-8e08-8aafdc3c5ad0",
   "metadata": {},
   "source": [
    "# <font color=#ffdd00>Biblioteca time</font>"
   ]
  },
  {
   "cell_type": "code",
   "execution_count": 2,
   "id": "30c78049-7e9c-4ef7-9d39-80be6b32a5f2",
   "metadata": {},
   "outputs": [],
   "source": [
    "import time"
   ]
  },
  {
   "cell_type": "markdown",
   "id": "952f229c-2b66-4e54-9972-c4a543f5b70c",
   "metadata": {},
   "source": [
    "<font color=#888888>Calculando quanto tempo leva para uma função rodar</font>"
   ]
  },
  {
   "cell_type": "code",
   "execution_count": 4,
   "id": "3cf0ef86-c990-472a-8683-322cdefb40fc",
   "metadata": {},
   "outputs": [
    {
     "name": "stdout",
     "output_type": "stream",
     "text": [
      "4.969878673553467\n"
     ]
    }
   ],
   "source": [
    "tempo_inicial = time.time()\n",
    "for i in range(100000000):\n",
    "    pass\n",
    "tempo_final = time.time()\n",
    "duracao = tempo_final - tempo_inicial\n",
    "print(duracao)"
   ]
  },
  {
   "cell_type": "markdown",
   "id": "0b95d244-430f-4cda-a2a1-fbc66202fffa",
   "metadata": {},
   "source": [
    "<font color=#888888>Data no formato UTC</font>"
   ]
  },
  {
   "cell_type": "code",
   "execution_count": 5,
   "id": "addf6db4-1838-456f-b8f1-1409847ac488",
   "metadata": {},
   "outputs": [
    {
     "name": "stdout",
     "output_type": "stream",
     "text": [
      "Tue Feb  1 05:58:31 2022\n"
     ]
    }
   ],
   "source": [
    "print( time.ctime() )"
   ]
  },
  {
   "cell_type": "markdown",
   "id": "203bac9b-08ca-4664-b1e6-d695b1f7103e",
   "metadata": {},
   "source": [
    "<font color=#888888>Data por número</font>"
   ]
  },
  {
   "cell_type": "code",
   "execution_count": 7,
   "id": "422580d8-43b7-406c-a266-5ddbbfbebc78",
   "metadata": {},
   "outputs": [
    {
     "name": "stdout",
     "output_type": "stream",
     "text": [
      "time.struct_time(tm_year=2022, tm_mon=2, tm_mday=1, tm_hour=9, tm_min=3, tm_sec=20, tm_wday=1, tm_yday=32, tm_isdst=0)\n",
      "1/2/2022 9:3:20\n"
     ]
    }
   ],
   "source": [
    "dt = time.gmtime()\n",
    "print( dt )\n",
    "print( f'{dt.tm_mday}/{dt.tm_mon}/{dt.tm_year} {dt.tm_hour}:{dt.tm_min}:{dt.tm_sec}' )"
   ]
  }
 ],
 "metadata": {
  "kernelspec": {
   "display_name": "Python 3 (ipykernel)",
   "language": "python",
   "name": "python3"
  },
  "language_info": {
   "codemirror_mode": {
    "name": "ipython",
    "version": 3
   },
   "file_extension": ".py",
   "mimetype": "text/x-python",
   "name": "python",
   "nbconvert_exporter": "python",
   "pygments_lexer": "ipython3",
   "version": "3.9.7"
  }
 },
 "nbformat": 4,
 "nbformat_minor": 5
}
