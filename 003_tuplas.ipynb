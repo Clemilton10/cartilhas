{
 "cells": [
  {
   "cell_type": "markdown",
   "id": "ff4ff569-41e9-4dec-85f9-3ac996102355",
   "metadata": {},
   "source": [
    "# <font color=#ffdd00>Tuplas</font>"
   ]
  },
  {
   "cell_type": "markdown",
   "id": "b88184bf-cf77-43a4-8555-78c1389f3dc9",
   "metadata": {},
   "source": [
    "<font color=#888888>Tuplas ao contrário das Listas são imutáveis</font>"
   ]
  },
  {
   "cell_type": "code",
   "execution_count": 3,
   "id": "259dc087-5a50-4920-b835-481fe22b7463",
   "metadata": {},
   "outputs": [
    {
     "name": "stdout",
     "output_type": "stream",
     "text": [
      "('Clemas', 42, 'clemas.web@gmail.com')\n"
     ]
    }
   ],
   "source": [
    "dados = ( 'Clemas', 42, 'clemas.web@gmail.com' )\n",
    "# dados[1] = 43 # isso dá erro\n",
    "print( dados )"
   ]
  },
  {
   "cell_type": "markdown",
   "id": "4515a56f-b480-4d76-873a-8d9be8571998",
   "metadata": {},
   "source": [
    "<font color=#888888>É possível pegar todos os dados em um linha</font>"
   ]
  },
  {
   "cell_type": "code",
   "execution_count": 4,
   "id": "267b1fa4-87c0-4de8-b6b6-596fcb6fb1d1",
   "metadata": {},
   "outputs": [
    {
     "name": "stdout",
     "output_type": "stream",
     "text": [
      "Clemas\n",
      "42\n",
      "clemas.web@gmail.com\n"
     ]
    }
   ],
   "source": [
    "# Unpacking\n",
    "nome, idade, email = dados\n",
    "\n",
    "print( nome )\n",
    "print( idade )\n",
    "print( email )"
   ]
  },
  {
   "cell_type": "markdown",
   "id": "e71c6a30-95ce-44fb-a760-02eb911c8eca",
   "metadata": {},
   "source": [
    "<font color=#888888>O Enumerate retorna uma Tuplas</font>"
   ]
  },
  {
   "cell_type": "code",
   "execution_count": 6,
   "id": "5c08693c-2b54-4117-ac51-59a4a6a897d8",
   "metadata": {},
   "outputs": [
    {
     "name": "stdout",
     "output_type": "stream",
     "text": [
      "(0, ['a', 10])\n",
      "(1, ['b', 15])\n",
      "(2, ['c', 25])\n"
     ]
    }
   ],
   "source": [
    "lista = [ [ 'a', 10 ] , [ 'b', 15 ], [ 'c', 25 ] ]\n",
    "for item in enumerate( lista ):\n",
    "    print( item )"
   ]
  }
 ],
 "metadata": {
  "kernelspec": {
   "display_name": "Python 3 (ipykernel)",
   "language": "python",
   "name": "python3"
  },
  "language_info": {
   "codemirror_mode": {
    "name": "ipython",
    "version": 3
   },
   "file_extension": ".py",
   "mimetype": "text/x-python",
   "name": "python",
   "nbconvert_exporter": "python",
   "pygments_lexer": "ipython3",
   "version": "3.9.7"
  }
 },
 "nbformat": 4,
 "nbformat_minor": 5
}
