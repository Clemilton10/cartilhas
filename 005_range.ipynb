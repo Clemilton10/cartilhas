{
 "cells": [
  {
   "cell_type": "markdown",
   "id": "c048ef01-4103-4327-9e4b-4fda80108a9b",
   "metadata": {},
   "source": [
    "# <font color=#ffdd00>Range</font>"
   ]
  },
  {
   "cell_type": "code",
   "execution_count": 2,
   "id": "1af24f94-18ad-49a2-925b-ad6824231dcc",
   "metadata": {},
   "outputs": [
    {
     "name": "stdout",
     "output_type": "stream",
     "text": [
      "0\n",
      "1\n",
      "2\n",
      "3\n",
      "4\n",
      "---------------------\n",
      "1\n",
      "2\n",
      "3\n",
      "4\n",
      "---------------------\n",
      "0\n",
      "2\n",
      "4\n",
      "6\n",
      "8\n"
     ]
    }
   ],
   "source": [
    "# onde termina\n",
    "for i in range( 5 ):\n",
    "    print( i )\n",
    "\n",
    "print( '---------------------' )\n",
    "\n",
    "# onde começa e termina\n",
    "for i in range( 1, 5 ):\n",
    "    print( i )\n",
    "\n",
    "print( '---------------------' )\n",
    "\n",
    "# onde começa, termina e quantos passos anda\n",
    "for i in range( 0, 10, 2 ):\n",
    "    print( i )"
   ]
  }
 ],
 "metadata": {
  "kernelspec": {
   "display_name": "Python 3 (ipykernel)",
   "language": "python",
   "name": "python3"
  },
  "language_info": {
   "codemirror_mode": {
    "name": "ipython",
    "version": 3
   },
   "file_extension": ".py",
   "mimetype": "text/x-python",
   "name": "python",
   "nbconvert_exporter": "python",
   "pygments_lexer": "ipython3",
   "version": "3.9.7"
  }
 },
 "nbformat": 4,
 "nbformat_minor": 5
}
