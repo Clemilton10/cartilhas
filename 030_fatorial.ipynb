{
 "cells": [
  {
   "cell_type": "markdown",
   "id": "9fbba475-f782-4f41-896a-a76bf5b4bad3",
   "metadata": {},
   "source": [
    "# <font color=#ffdd00>Fatorial</font>"
   ]
  },
  {
   "cell_type": "code",
   "execution_count": 2,
   "id": "b3279bcf-0694-41fe-a1ef-4e4ee012c46d",
   "metadata": {},
   "outputs": [
    {
     "name": "stdout",
     "output_type": "stream",
     "text": [
      "['=', '+', '-']\n",
      "['=', '-', '+']\n",
      "['+', '-', '=']\n"
     ]
    }
   ],
   "source": [
    "from random import shuffle\n",
    "from math import factorial\n",
    "\n",
    "def combinacoes(lista):\n",
    "\ttodas_as_combinacoes = []\n",
    "\tfor l in lista:\n",
    "\t\tt = 0\n",
    "\t\tfc = factorial( len( lista ) )\n",
    "\t\tfor i in range(fc):\n",
    "\t\t\twhile t == 0:\n",
    "\t\t\t\tnova_combinacao = lista.copy()\n",
    "\t\t\t\tshuffle(nova_combinacao)\n",
    "\t\t\t\tif nova_combinacao not in todas_as_combinacoes:\n",
    "\t\t\t\t\tt += 1\n",
    "\t\t\t\t\ttodas_as_combinacoes.append(nova_combinacao)\n",
    "\t\t\t\t\tprint(nova_combinacao)\n",
    "\t\t\t\t\tbreak\n",
    "\n",
    "combinacoes( [ '+', '=', '-' ] )"
   ]
  }
 ],
 "metadata": {
  "kernelspec": {
   "display_name": "Python 3 (ipykernel)",
   "language": "python",
   "name": "python3"
  },
  "language_info": {
   "codemirror_mode": {
    "name": "ipython",
    "version": 3
   },
   "file_extension": ".py",
   "mimetype": "text/x-python",
   "name": "python",
   "nbconvert_exporter": "python",
   "pygments_lexer": "ipython3",
   "version": "3.9.7"
  }
 },
 "nbformat": 4,
 "nbformat_minor": 5
}
