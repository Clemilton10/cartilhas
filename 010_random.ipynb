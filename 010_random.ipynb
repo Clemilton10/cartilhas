{
 "cells": [
  {
   "cell_type": "markdown",
   "id": "93d27011-8386-466d-bbd9-49a4e734f58a",
   "metadata": {},
   "source": [
    "# Random"
   ]
  },
  {
   "cell_type": "markdown",
   "id": "787e897b-d9fb-485c-ad72-a5c7076af9b1",
   "metadata": {},
   "source": [
    "## Explicações"
   ]
  },
  {
   "cell_type": "code",
   "execution_count": 5,
   "id": "343be693-fd19-4245-81a0-544a549576bf",
   "metadata": {},
   "outputs": [
    {
     "name": "stdout",
     "output_type": "stream",
     "text": [
      "0.8895398617179574\n",
      "6.113442877338503\n",
      "5\n",
      "Clemas\n",
      "['Felipe', 'Maira', 'Clemas', 'Lucas']\n"
     ]
    }
   ],
   "source": [
    "import random\n",
    "\n",
    "# de 0.0 a 1.0\n",
    "print( random.random() )\n",
    "\n",
    "# de um número decimal a outro\n",
    "print( random.uniform( 4, 10 ) )\n",
    "\n",
    "# de um inteiro a outro\n",
    "print( random.randint( 4, 10 ) )\n",
    "\n",
    "# sorteando uma lista\n",
    "lista = [ 'Clemas', 'Maira', 'Felipe', 'Lucas' ]\n",
    "print( random.choice( lista ) )\n",
    "\n",
    "# embaralhando uma lista\n",
    "random.shuffle( lista )\n",
    "print( lista )"
   ]
  },
  {
   "cell_type": "markdown",
   "id": "b3f55db0-3ef1-41ba-bc18-1f5966aff9b0",
   "metadata": {},
   "source": [
    "### Exercícios"
   ]
  },
  {
   "cell_type": "markdown",
   "id": "b869d906-39b9-44c3-9659-c67cd25a0477",
   "metadata": {
    "jp-MarkdownHeadingCollapsed": true,
    "tags": []
   },
   "source": [
    "1- Sortear cara ou coroa"
   ]
  },
  {
   "cell_type": "code",
   "execution_count": 6,
   "id": "0ee20a96-32f5-4a27-aece-faadb90d1339",
   "metadata": {},
   "outputs": [
    {
     "name": "stdout",
     "output_type": "stream",
     "text": [
      "cara\n"
     ]
    }
   ],
   "source": [
    "moeda = [ 'cara', 'coroa' ]\n",
    "print( random.choice( moeda ) )"
   ]
  },
  {
   "cell_type": "markdown",
   "id": "d542e0dd-72d7-42f5-9f88-7d59e0b0aaea",
   "metadata": {},
   "source": [
    "2- Sortear uma lista"
   ]
  },
  {
   "cell_type": "code",
   "execution_count": 7,
   "id": "42d70c4c-1b74-4bbb-974a-dfa21d83fb4a",
   "metadata": {},
   "outputs": [
    {
     "name": "stdout",
     "output_type": "stream",
     "text": [
      "Lucas\n"
     ]
    }
   ],
   "source": [
    "lista = [ 'Clemas', 'Maira', 'Felipe', 'Lucas' ]\n",
    "print( random.choice( lista ) )"
   ]
  },
  {
   "cell_type": "markdown",
   "id": "65e74a4a-75ce-4fd1-9429-0d00f882183a",
   "metadata": {},
   "source": [
    "3- Sortear uma fila de espera"
   ]
  },
  {
   "cell_type": "code",
   "execution_count": 8,
   "id": "6ddfa329-c05f-48e7-a424-7bcea91fca5e",
   "metadata": {},
   "outputs": [
    {
     "name": "stdout",
     "output_type": "stream",
     "text": [
      "['Lucas', 'Clemas', 'Maira', 'Felipe']\n"
     ]
    }
   ],
   "source": [
    "lista = [ 'Clemas', 'Maira', 'Felipe', 'Lucas' ]\n",
    "random.shuffle( lista )\n",
    "print( lista )"
   ]
  },
  {
   "cell_type": "markdown",
   "id": "910d63a5-2f74-4b5c-b984-a8d8d1883721",
   "metadata": {},
   "source": [
    "3- Sortear número de tanto a tanto"
   ]
  },
  {
   "cell_type": "code",
   "execution_count": 9,
   "id": "0a8f9294-813d-48c4-aaa9-fd8deb74ca8b",
   "metadata": {},
   "outputs": [
    {
     "name": "stdout",
     "output_type": "stream",
     "text": [
      "5\n"
     ]
    }
   ],
   "source": [
    "print( random.randint( 4, 10 ) )"
   ]
  }
 ],
 "metadata": {
  "kernelspec": {
   "display_name": "Python 3 (ipykernel)",
   "language": "python",
   "name": "python3"
  },
  "language_info": {
   "codemirror_mode": {
    "name": "ipython",
    "version": 3
   },
   "file_extension": ".py",
   "mimetype": "text/x-python",
   "name": "python",
   "nbconvert_exporter": "python",
   "pygments_lexer": "ipython3",
   "version": "3.9.7"
  }
 },
 "nbformat": 4,
 "nbformat_minor": 5
}
