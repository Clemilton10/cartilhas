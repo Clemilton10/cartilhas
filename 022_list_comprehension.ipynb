{
 "cells": [
  {
   "cell_type": "markdown",
   "id": "40adfa4e-ebe0-4126-9673-ebd5a3488a5e",
   "metadata": {},
   "source": [
    "# <font color=#ffdd00>List Comprehension</font>"
   ]
  },
  {
   "cell_type": "markdown",
   "id": "a956d4ca-d525-45be-9b3a-d1746a147088",
   "metadata": {},
   "source": [
    "<font color=#888888>Estrutura</font>\n",
    "~~~python\n",
    "lista = [expressão for item in iterable]\n",
    "~~~"
   ]
  },
  {
   "cell_type": "markdown",
   "id": "e1dce443-be4a-4ab5-9a73-235b1a02506b",
   "metadata": {},
   "source": [
    "## ``EXEMPLO 1 - Gerando uma nova lista``\n",
    "```\n",
    "Objetivo: obter impostos baseando nos preços\n",
    "```"
   ]
  },
  {
   "cell_type": "code",
   "execution_count": 9,
   "id": "8af2016a-9380-4743-bfdb-0358cd87fc0f",
   "metadata": {},
   "outputs": [
    {
     "name": "stdout",
     "output_type": "stream",
     "text": [
      "[30.0, 45.0, 90.0, 1650.0]\n",
      "[30.0, 45.0, 90.0, 1650.0]\n"
     ]
    }
   ],
   "source": [
    "preco_produtos = [100, 150, 300, 5500]\n",
    "produtos = ['vinho', 'cafeiteira', 'microondas', 'iphone']\n",
    "\n",
    "# usando o FOR (jeito normal)\n",
    "# impostos = []\n",
    "# for preco in preco_produtos:\n",
    "#    impostos.append( preco * 0.3 ) # 30%\n",
    "\n",
    "# usando o list comprehension\n",
    "           # expressão   loop  \n",
    "impostos = [ preco * 0.3 for preco in preco_produtos ]\n",
    "# Gere uma lista[] calculando 30% do preco PERCORRENDO(for) a lista preco_produtos\n",
    "print( impostos )\n",
    "\n",
    "# Usando uma função\n",
    "def calcular_imposto( preco, imposto):\n",
    "    return preco * imposto\n",
    "impostos = [ calcular_imposto( preco, 0.3 ) for preco in preco_produtos ]\n",
    "# gere uma lista[] usando a função() PERCORRENDO(for) a lista preco_produtos\n",
    "print( impostos )"
   ]
  },
  {
   "cell_type": "markdown",
   "id": "a5eb35a7-d1e1-4b3f-8b4e-efcdc776d8b6",
   "metadata": {},
   "source": [
    "## ``EXEMPLO 2 - Ordenar mais vendidos usando duas listas``\n",
    "```\n",
    "Objetivo: Ordenar pelo produto mais vendido\n",
    "```"
   ]
  },
  {
   "cell_type": "code",
   "execution_count": 30,
   "id": "2568f76b-ac4f-4af3-a74f-b79f46467a4e",
   "metadata": {},
   "outputs": [
    {
     "name": "stdout",
     "output_type": "stream",
     "text": [
      "[(1500, 'vinho'), (150, 'cafeiteira'), (2100, 'microondas'), (1950, 'iphone')]\n",
      "\n",
      "[(2100, 'microondas'), (1950, 'iphone'), (1500, 'vinho'), (150, 'cafeiteira')]\n",
      "\n",
      "['microondas', 'iphone', 'vinho', 'cafeiteira']\n",
      "\n",
      "[('microondas', 2100), ('iphone', 1950), ('vinho', 1500), ('cafeiteira', 150)]\n"
     ]
    }
   ],
   "source": [
    "vendas_produtos = (1500, 150, 2100, 1950)\n",
    "produtos = ('vinho', 'cafeiteira', 'microondas', 'iphone')\n",
    "\n",
    "# juntando as duas listas\n",
    "lista_aux = list( zip( vendas_produtos, produtos ) )\n",
    "print( lista_aux )\n",
    "print()\n",
    "\n",
    "# ordenando\n",
    "lista_aux.sort( reverse=True )\n",
    "print( lista_aux )\n",
    "print()\n",
    "\n",
    "# pegando apenas o produto\n",
    "produto = [ produto for vendas, produto in lista_aux ]\n",
    "# Gere uma lista[] com apenas o produto PERCORRENDO(for) a lista lista_aux\n",
    "print( produto )\n",
    "print()\n",
    "\n",
    "# remotando a lista com produto e vendas\n",
    "produto = [ (produto, vendas) for vendas, produto in lista_aux ]\n",
    "print( produto2 )"
   ]
  },
  {
   "cell_type": "markdown",
   "id": "4457f176-eb85-4585-930e-ce730dd17e75",
   "metadata": {},
   "source": [
    "## ``EXEMPLO 3 - Extrair uma coluna de uma lista``\n",
    "```\n",
    "Objetivo: Extrair o produto mais vendido em 2019\n",
    "```"
   ]
  },
  {
   "cell_type": "code",
   "execution_count": 11,
   "id": "3eda1bae-f008-4eba-a5e0-94cab18340ad",
   "metadata": {},
   "outputs": [
    {
     "name": "stdout",
     "output_type": "stream",
     "text": [
      "[(558147, 'iphone'), (712350, 'galaxy'), (573823, 'ipad'), (405252, 'tv'), (718654, 'máquina de café'), (531580, 'kindle'), (973139, 'geladeira'), (892292, 'adega'), (422760, 'notebook dell'), (154753, 'notebook hp'), (887061, 'notebook asus'), (438508, 'microsoft surface'), (237467, 'webcam'), (489705, 'caixa de som'), (328311, 'microfone'), (591120, 'câmera canon')]\n",
      "\n",
      "(973139, 'geladeira')\n",
      "\n",
      "('geladeira', 973139)\n"
     ]
    }
   ],
   "source": [
    "vendas_produtos = [('iphone', 558147, 951642), ('galaxy', 712350, 244295), ('ipad', 573823, 26964), ('tv', 405252, 787604), ('máquina de café', 718654, 867660), ('kindle', 531580, 78830), ('geladeira', 973139, 710331), ('adega', 892292, 646016), ('notebook dell', 422760, 694913), ('notebook hp', 154753, 539704), ('notebook asus', 887061, 324831), ('microsoft surface', 438508, 667179), ('webcam', 237467, 295633), ('caixa de som', 489705, 725316), ('microfone', 328311, 644622), ('câmera canon', 591120, 994303)]\n",
    "\n",
    "# usando o for\n",
    "# vendas2019 = []\n",
    "# for produto, v2019, v2020 in vendas_produtos:\n",
    "#     vendas2019.append( v2019 )\n",
    "\n",
    "# usando o list comprehension\n",
    "vendas2019 = [ (v2019, produto) for produto, v2019, v2020 in vendas_produtos ]\n",
    "# Gere uma lista[] guardando (v2019, produto) PERCORRENDO(for) a lista vendas_produtos\n",
    "print( vendas2019 )\n",
    "print()\n",
    "\n",
    "# buscando o maior valor\n",
    "maior_valor = max( vendas2019 )\n",
    "print( maior_valor )\n",
    "print()\n",
    "\n",
    "# invertendo as posicoes\n",
    "maior_valor = (maior_valor[1], maior_valor[0])\n",
    "print(maior_valor)"
   ]
  },
  {
   "cell_type": "markdown",
   "id": "6291f707-751f-452a-8cba-1e7e1a1899b2",
   "metadata": {},
   "source": [
    "## ``EXEMPLO 4 - List compenhension com IF``\n",
    "```\n",
    "Objetivo: extrair nomes dos produtos que venderam mais que a meta\n",
    "```"
   ]
  },
  {
   "cell_type": "code",
   "execution_count": 12,
   "id": "880ed287-f9cf-4c96-90cb-c43ca2909108",
   "metadata": {},
   "outputs": [
    {
     "name": "stdout",
     "output_type": "stream",
     "text": [
      "['vinho', 'microondas', 'iphone']\n"
     ]
    }
   ],
   "source": [
    "meta = 1000\n",
    "vendas_produtos = [1500, 150, 2100, 1950]\n",
    "produtos = ['vinho', 'cafeiteira', 'microondas', 'iphone']\n",
    "\n",
    "# do jeito normal\n",
    "# produtos_acima_meta = []\n",
    "# for i, produto in enumerate(produtos):\n",
    "#    if vendas_produtos[i] > meta:\n",
    "#        produtos_acima_meta.append(produto)\n",
    "\n",
    "# com list comprehension\n",
    "produtos_acima_meta = [ produto for i, produto in enumerate(produtos) if vendas_produtos[i] > meta ]\n",
    "# Gere uma lista[] com o produto PERCORRENDO(for) a lista produtos SE(if) as vendas > meta\n",
    "print(produtos_acima_meta)"
   ]
  },
  {
   "cell_type": "markdown",
   "id": "d70132d1-3f49-4438-aacc-7952a871aef1",
   "metadata": {},
   "source": [
    "## ``EXEMPLO 5 - List compenhension com IF``\n",
    "```\n",
    "Ojectivo: extrair Clientes inadimplentes a mais de 20 dias\n",
    "```"
   ]
  },
  {
   "cell_type": "code",
   "execution_count": 17,
   "id": "7282a06e-279f-4a6d-afc3-ddf60382ee79",
   "metadata": {},
   "outputs": [
    {
     "name": "stdout",
     "output_type": "stream",
     "text": [
      "['462.286.561-65', '297.681.579-21', '810.442.219-10', '908.507.760-43', '204.169.467-27', '470.806.376-11', '786.547.940-70', '540.685.100-32', '379.729.796-80', '980.173.363-94', '833.285.374-56', '588.404.964-15', '670.346.230-99', '771.352.915-13', '430.314.324-46', '406.133.151-17', '310.985.894-64', '964.317.132-30', '781.995.738-18', '921.558.128-63', '941.386.982-65', '684.995.531-65', '653.886.282-57', '285.864.892-85', '143.188.958-61', '585.584.932-83', '165.554.107-13', '718.225.984-87', '397.994.286-79', '967.160.575-69', '171.104.286-74', '152.817.649-24', '645.308.846-62', '201.476.809-95', '486.290.887-24', '432.376.642-62', '207.274.437-91', '346.871.172-72', '847.598.885-51', '817.170.984-26', '591.397.550-29', '615.629.238-82', '240.427.458-70', '700.720.266-23', '261.974.594-90', '680.569.318-52', '556.156.341-36', '852.796.660-25', '536.714.951-95', '520.645.562-80', '913.525.896-32', '760.248.897-67', '805.469.913-50', '847.150.802-96', '539.300.108-41', '549.151.467-76', '738.451.908-29', '987.288.834-69', '169.415.202-43', '757.885.355-97', '523.895.611-54', '535.354.954-30', '209.759.133-88', '321.123.241-10', '407.342.963-78', '770.920.161-42', '815.943.237-83', '379.995.400-37', '495.461.913-57', '408.987.269-72', '761.137.848-34', '216.401.188-57', '956.318.620-43', '986.516.478-33', '327.988.845-70', '887.826.412-21', '122.975.174-32', '208.788.890-61']\n",
      "Qtd de clientes: 200\n",
      "Qtd de inadinplentes: 78\n"
     ]
    }
   ],
   "source": [
    "clientes_devedores = [('462.286.561-65',14405,24),('251.569.170-81',16027,1),('297.681.579-21',8177,28),('790.223.154-40',9585,10),('810.442.219-10',18826,29),('419.210.299-79',11421,15),('908.507.760-43',12445,24),('911.238.364-17',1345,4),('131.115.339-28',11625,8),('204.169.467-27',5364,22),('470.806.376-11',932,29),('938.608.980-69',13809,19),('554.684.165-26',11227,2),('119.225.846-34',4475,9),('358.890.858-95',13932,20),('786.547.940-70',17048,25),('468.487.741-94',2902,8),('540.685.100-32',5806,21),('379.729.796-80',7622,24),('980.173.363-94',13167,24),('833.285.374-56',19581,24),('103.669.436-50',17126,4),('386.836.124-46',18825,11),('588.404.964-15',1545,30),('600.556.177-18',1921,7),('670.346.230-99',18079,28),('771.352.915-13',16581,23),('430.314.324-46',13942,24),('629.507.759-51',17951,11),('348.683.225-73',12424,10),('406.133.151-17',5888,30),('310.985.894-64',17316,30),('964.317.132-30',18818,30),('845.331.524-14',14284,13),('781.995.738-18',19369,29),('921.558.128-63',3206,27),('941.386.982-65',10228,26),('551.135.290-10',18822,18),('537.124.578-35',12670,6),('119.383.169-76',790,20),('938.473.410-98',8851,5),('279.775.182-54',5212,20),('210.872.954-53',13569,8),('684.995.531-65',8649,21),('653.886.282-57',504,28),('973.580.738-53',2533,9),('285.864.892-85',8200,21),('777.154.423-98',10336,8),('769.786.401-34',3233,12),('521.566.565-97',11882,14),('491.799.681-92',653,8),('344.357.819-36',8856,18),('265.362.581-99',8962,8),('331.410.527-56',18516,18),('143.188.958-61',7234,29),('751.630.472-61',13552,6),('714.707.807-80',2898,7),('585.584.932-83',239,25),('165.554.107-13',9572,23),('718.225.984-87',10534,25),('611.715.653-32',3210,11),('397.994.286-79',13651,24),('967.160.575-69',8997,25),('369.750.998-94',13952,2),('767.400.554-79',18320,11),('171.104.286-74',5821,21),('152.817.649-24',3358,30),('645.308.846-62',15176,25),('273.884.570-92',4436,13),('888.818.341-45',15730,3),('577.836.712-40',14670,16),('513.529.919-95',4002,1),('201.476.809-95',17442,21),('657.816.571-87',1582,2),('810.494.975-87',2157,9),('531.749.410-17',12355,18),('486.290.887-24',18576,26),('432.376.642-62',8027,23),('207.274.437-91',5125,29),('634.244.673-72',11387,15),('346.871.172-72',8105,23),('166.330.605-50',7865,11),('829.181.731-94',2425,8),('197.305.464-63',9681,8),('887.877.706-59',15681,10),('847.598.885-51',323,23),('817.170.984-26',5169,27),('591.397.550-29',13362,25),('872.733.198-95',5756,18),('615.629.238-82',11678,23),('194.782.846-77',11044,17),('146.392.158-88',6848,4),('240.427.458-70',3906,25),('583.662.427-52',3306,5),('841.627.523-64',4778,4),('985.337.216-77',15308,4),('912.410.722-57',11683,6),('700.720.266-23',12638,21),('605.405.529-53',3831,3),('383.256.402-25',2599,10),('248.103.486-68',9121,1),('261.974.594-90',2139,26),('297.126.704-91',18529,16),('680.569.318-52',10176,23),('296.334.647-38',225,13),('200.761.898-70',16244,20),('258.232.687-17',19462,18),('597.295.672-38',18840,11),('894.479.102-52',11375,12),('556.156.341-36',16269,23),('987.874.553-86',11253,17),('248.927.998-94',6510,1),('852.796.660-25',2662,23),('741.370.204-36',9303,16),('536.714.951-95',2877,23),('320.395.830-44',14554,5),('520.645.562-80',17547,24),('553.700.674-28',3147,14),('913.525.896-32',17651,28),('750.456.495-86',11524,9),('246.171.748-38',15184,4),('760.248.897-67',4953,25),('920.890.990-46',17172,20),('805.469.913-50',17500,21),('878.594.225-48',6255,3),('356.715.924-36',3454,13),('847.150.802-96',8602,22),('625.846.640-53',10888,19),('539.300.108-41',11225,21),('549.151.467-76',1286,21),('738.451.908-29',18905,22),('987.288.834-69',17533,25),('898.532.296-94',9719,11),('620.531.607-13',13584,10),('169.415.202-43',1871,29),('757.885.355-97',18150,28),('252.581.376-21',2497,3),('177.937.460-78',7178,8),('523.895.611-54',9878,26),('883.680.201-23',16761,3),('936.678.268-71',11017,9),('871.912.703-73',1754,9),('957.749.478-56',6914,9),('725.636.354-80',8605,13),('898.316.244-33',14363,12),('894.748.325-28',2764,3),('647.106.954-60',1482,6),('628.716.937-98',14107,8),('332.677.483-83',19146,15),('186.870.928-82',17050,12),('216.248.879-71',4384,16),('287.929.269-44',4894,19),('278.335.932-42',17220,13),('824.107.287-13',11797,7),('535.354.954-30',9195,22),('311.762.241-12',13871,2),('209.759.133-88',13580,21),('505.728.766-53',16950,13),('879.471.988-23',17427,14),('772.329.947-39',3462,8),('321.123.241-10',2592,22),('407.342.963-78',11435,21),('786.935.637-47',14240,9),('461.791.351-55',142,2),('770.920.161-42',1247,24),('639.870.185-59',6430,10),('815.943.237-83',19550,22),('141.774.255-61',17866,13),('379.995.400-37',9503,29),('261.103.178-64',19167,13),('495.461.913-57',12265,29),('498.848.750-79',14549,16),('578.770.731-84',1462,5),('408.987.269-72',5647,28),('191.970.336-40',6313,15),('761.137.848-34',10654,23),('810.512.154-21',14928,1),('256.371.788-38',7085,2),('216.401.188-57',1531,23),('956.318.620-43',6327,22),('986.516.478-33',3866,25),('105.665.555-60',7118,4),('259.228.430-72',1601,8),('133.627.971-58',10142,14),('327.988.845-70',14985,23),('363.167.322-63',17236,7),('189.986.406-38',16888,18),('661.194.373-45',7824,1),('805.728.877-53',514,10),('887.826.412-21',15977,24),('122.975.174-32',9409,25),('456.550.370-55',19922,18),('388.243.133-66',19785,17),('208.788.890-61',11893,22),('881.332.662-49',6344,16),('912.349.944-52',6858,15),('534.904.583-32',9559,11),('825.175.334-25',19805,15),('339.191.298-46',13325,8),('569.993.915-78',4339,15)]\n",
    "\n",
    "# do jeito normal\n",
    "# clientes_inadimplentes = []\n",
    "# for cpf, valor, dias in clientes_devedores:\n",
    "#     if dias > 20:\n",
    "#         clientes_inadimplentes.append(cpf)\n",
    "\n",
    "# usando o list compehension\n",
    "clientes_inadimplentes = [ cpf for cpf, valor, dias in clientes_devedores if dias > 20 ]\n",
    "# Gere uma lista[] com o cpf PERCORRENDO(for) a lista clientes_devedores SE(if) dias > 20\n",
    "print( clientes_inadimplentes )\n",
    "print( f'Qtd de clientes: {len(clientes_devedores)}' )\n",
    "print( f'Qtd de inadinplentes: {len(clientes_inadimplentes)}' )"
   ]
  },
  {
   "cell_type": "markdown",
   "id": "b6469660-973a-4196-a445-b005f1162666",
   "metadata": {},
   "source": [
    "## ``EXEMPLO 6 - IF no resultado final``\n",
    "```\n",
    "Objetivo: Dar 10% de bônus para o vendedor que bater a meta\n",
    "```"
   ]
  },
  {
   "cell_type": "code",
   "execution_count": 23,
   "id": "6eba292d-e804-4097-a686-76fb35b385fc",
   "metadata": {},
   "outputs": [
    {
     "name": "stdout",
     "output_type": "stream",
     "text": [
      "[('Maria', 120.0), ('José', 0), ('Antônio', 0), ('João', 150.0), ('Francisco', 190.0), ('Ana', 275.0), ('Luiz', 0), ('Paulo', 0), ('Carlos', 0), ('Manoel', 0), ('Pedro', 0), ('Francisca', 0), ('Marcos', 110.0), ('Raimundo', 0), ('Sebastião', 0), ('Antônia', 0), ('Marcelo', 0), ('Jorge', 0), ('Márcia', 111.10000000000001), ('Geraldo', 0), ('Adriana', 0), ('Sandra', 0), ('Luis', 0)]\n"
     ]
    }
   ],
   "source": [
    "meta = 1000\n",
    "vendedores_dic = {'Maria': 1200, 'José': 300, 'Antônio': 800, 'João': 1500, 'Francisco': 1900, 'Ana': 2750, 'Luiz': 400, 'Paulo': 20, 'Carlos': 23, 'Manoel': 70, 'Pedro': 90, 'Francisca': 80, 'Marcos': 1100, 'Raimundo': 999, 'Sebastião': 900, 'Antônia': 880, 'Marcelo': 870, 'Jorge': 50, 'Márcia': 1111, 'Geraldo': 120, 'Adriana': 300, 'Sandra': 450, 'Luis': 800}\n",
    "\n",
    "# do jeito normal\n",
    "# bonus = []\n",
    "# for vend in vendedores_dic:\n",
    "#    if vendedores_dic[vend] > meta:\n",
    "#        bonus.append( vend, vendedores_dic[vend] * 0.1 )\n",
    "#    else:\n",
    "#        bonus.append( vend, 0 )\n",
    "\n",
    "# usando o list comprehension\n",
    "bonus = [ (vend, vendedores_dic[vend] * 0.1) if vendedores_dic[vend] > meta else (vend, 0) for vend in vendedores_dic ]\n",
    "# Gere uma lista[] com (vendedor, 10% de bonus) SE(if) as vendas > meta SENAO(else) não ganha nada PERCORRENDO(for) a lista vendedores_dic\n",
    "print( bonus )"
   ]
  },
  {
   "cell_type": "markdown",
   "id": "6989c4c3-5a66-45ee-9496-20679629f4d1",
   "metadata": {},
   "source": [
    "## ``EXEMPLO 7 - IF ELIF ELSE``\n",
    "```\n",
    "Objetivo: \n",
    "    Se o estoque estiver acima de 500, não precisa pedir\n",
    "    Se o estoque estiver abaixo de 500, pedir 500\n",
    "    Se o estoque estiver abaixo de 250, pedir 1000\n",
    "```"
   ]
  },
  {
   "cell_type": "code",
   "execution_count": 26,
   "id": "ca901890-789c-4b01-ba8c-06417690a54a",
   "metadata": {},
   "outputs": [
    {
     "name": "stdout",
     "output_type": "stream",
     "text": [
      "[('BSA2199', 500), ('PPF5239', 500), ('BSA1212', 0), ('PPF2154', 500), ('BEB3410', 1000), ('PPF8999', 0), ('EMB9591', 0), ('BSA2006', 500), ('EMB3604', 500), ('EMB2070', 0), ('PPF9018', 500), ('PPF1468', 0), ('BSA5819', 500), ('PPF8666', 0), ('BEB2983', 500), ('BEB5877', 500), ('PPF5008', 0), ('PPF3877', 1000), ('PPF7321', 1000), ('BSA8833', 0), ('PPF4980', 500), ('PPF3063', 0), ('BSA2089', 500), ('BSA8398', 1000), ('EMB4622', 0), ('EMB9814', 0), ('PPF3784', 1000), ('PPF2398', 500), ('BEB3211', 1000), ('PPF8655', 500), ('PPF1874', 0), ('PPF8789', 1000), ('PPF6324', 500), ('EMB9290', 0), ('BSA5516', 0), ('BSA8451', 1000), ('BSA8213', 500)]\n"
     ]
    }
   ],
   "source": [
    "estoque = [('BSA2199',396),('PPF5239',251),('BSA1212',989),('PPF2154',449),('BEB3410',241),('PPF8999',527),('EMB9591',601),('BSA2006',314),('EMB3604',469),('EMB2070',733),('PPF9018',339),('PPF1468',906),('BSA5819',291),('PPF8666',850),('BEB2983',353),('BEB5877',456),('PPF5008',963),('PPF3877',185),('PPF7321',163),('BSA8833',644),('PPF4980',421),('PPF3063',757),('BSA2089',271),('BSA8398',180),('EMB4622',515),('EMB9814',563),('PPF3784',229),('PPF2398',270),('BEB3211',181),('PPF8655',459),('PPF1874',799),('PPF8789',126),('PPF6324',375),('EMB9290',883),('BSA5516',555),('BSA8451',243),('BSA8213',423)]\n",
    "\n",
    "# do jeito normal\n",
    "# lista_pedido = []\n",
    "# for produto, qtd in estoque:\n",
    "#    if qtd > 500:\n",
    "#        lista_pedido.append( ( produto, 0 ) )\n",
    "#    elif qtd > 250 and qtd <= 500:\n",
    "#        lista_pedido.append( ( produto, 500 ) )\n",
    "#    else:\n",
    "#        lista_pedido.append( ( produto, 1000 ) )\n",
    "\n",
    "# usando o list comprehension\n",
    "# Obs.: Não existe elif -> tem que substituir por else if + else de novo\n",
    "lista_pedido = [ ( produto, 0 ) if qtd > 500 else ( produto, 500 ) if qtd > 250 and qtd <= 500 else ( produto, 1000 ) for produto, qtd in estoque ]\n",
    "# Gere uma lista[] guardando (produto, 0) SE(if) qtd > 500 SENAO(else) guarde ( produto, 500 ) SE(if) qtd > 250 e qtd <= 500 SENAO(else) guarde ( produto, 1000 ) PERCORRENDO(for) a lista estoque \n",
    "print( lista_pedido )"
   ]
  },
  {
   "cell_type": "markdown",
   "id": "df630463-df35-4408-a956-b8d8911daa2d",
   "metadata": {
    "tags": []
   },
   "source": [
    "## ``EXEMPLO 8 - somando valores``\n",
    "```\n",
    "Objetivo:\n",
    "    Somar as vendas dos TOP 5\n",
    "    Descobrir o percentual que as vendas representam do total\n",
    "```"
   ]
  },
  {
   "cell_type": "code",
   "execution_count": 31,
   "id": "052cb588-b85b-42eb-8e06-38806449576f",
   "metadata": {},
   "outputs": [
    {
     "name": "stdout",
     "output_type": "stream",
     "text": [
      "Os TOP 5 representou 50.6% das vendas\n"
     ]
    }
   ],
   "source": [
    "produtos = ['coca', 'pepsi', 'guarana', 'skol', 'brahma', 'agua', 'del valle', 'dolly', 'red bull', 'cachaça', 'vinho tinto', 'vodka', 'vinho branco', 'tequila', 'champagne', 'gin', 'guaracamp', 'matte', 'leite de castanha', 'leite', 'jurupinga', 'sprite', 'fanta']\n",
    "vendas = [1200, 300, 800, 1500, 1900, 2750, 400, 20, 23, 70, 90, 80, 1100, 999, 900, 880, 870, 50, 1111, 120, 300, 450, 800]\n",
    "top5 = ['agua', 'brahma', 'skol', 'coca', 'leite de castanha']\n",
    "\n",
    "# do jeito normal\n",
    "# total_top5 = 0\n",
    "# for i, produto in enumerate( produtos ):\n",
    "#    if produto in top5:\n",
    "#        total_top5 += vendas[i]\n",
    "\n",
    "# usando o list comprehension\n",
    "total_top5 = sum( vendas[i] for i, produto in enumerate( produtos ) if produto in top5 )\n",
    "# some as vendas PERCORRENDO(for) a lista produtos SE(if) o produto estiver nos TOP 5\n",
    "\n",
    "# calculando o percentual\n",
    "percentual = total_top5 / sum( vendas )\n",
    "print( f'Os TOP 5 representou {percentual:0.1%} das vendas' )"
   ]
  }
 ],
 "metadata": {
  "kernelspec": {
   "display_name": "Python 3 (ipykernel)",
   "language": "python",
   "name": "python3"
  },
  "language_info": {
   "codemirror_mode": {
    "name": "ipython",
    "version": 3
   },
   "file_extension": ".py",
   "mimetype": "text/x-python",
   "name": "python",
   "nbconvert_exporter": "python",
   "pygments_lexer": "ipython3",
   "version": "3.9.7"
  }
 },
 "nbformat": 4,
 "nbformat_minor": 5
}
