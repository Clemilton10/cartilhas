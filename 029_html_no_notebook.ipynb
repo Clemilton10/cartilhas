{
 "cells": [
  {
   "cell_type": "markdown",
   "id": "c8750ca0-084c-472e-89be-c48b8c9a32f7",
   "metadata": {},
   "source": [
    "# <font color=#ffdd00>HTML no notebook (Jupyter Lab)</font>"
   ]
  },
  {
   "cell_type": "code",
   "execution_count": 5,
   "id": "2b818fbb-eb88-4677-8be4-df7bd4d99a7f",
   "metadata": {},
   "outputs": [
    {
     "data": {
      "text/html": [
       "<a href=\"http://google.com\" target=\"_blank\">Google</a>"
      ],
      "text/plain": [
       "<IPython.core.display.HTML object>"
      ]
     },
     "execution_count": 5,
     "metadata": {},
     "output_type": "execute_result"
    }
   ],
   "source": [
    "from IPython.core.display import HTML\n",
    "HTML('<a href=\"https://saudecocal.herokuapp.com/\" target=\"_blank\">SaudeCocal</a>')"
   ]
  },
  {
   "cell_type": "code",
   "execution_count": 4,
   "id": "4f946a80-3da9-4002-bb09-b729a032505a",
   "metadata": {},
   "outputs": [
    {
     "data": {
      "text/html": [
       "<a href=\"http://google.com\" target=\"_blank\">Google</a>\n"
      ],
      "text/plain": [
       "<IPython.core.display.HTML object>"
      ]
     },
     "metadata": {},
     "output_type": "display_data"
    }
   ],
   "source": [
    "%%html\n",
    "<a href=\"https://saudecocal.herokuapp.com/\" target=\"_blank\">SaudeCocal</a>"
   ]
  },
  {
   "cell_type": "code",
   "execution_count": 16,
   "id": "55c1490a-8070-4657-9ba4-d52c6b716563",
   "metadata": {},
   "outputs": [
    {
     "data": {
      "text/html": [
       "\n",
       "        <iframe\n",
       "            width=\"900\"\n",
       "            height=\"200\"\n",
       "            src=\"https://saudecocal.herokuapp.com/?frameborder=0\"\n",
       "            frameborder=\"0\"\n",
       "            allowfullscreen\n",
       "            \n",
       "        ></iframe>\n",
       "        "
      ],
      "text/plain": [
       "<IPython.lib.display.IFrame at 0x2189ed77460>"
      ]
     },
     "execution_count": 16,
     "metadata": {},
     "output_type": "execute_result"
    }
   ],
   "source": [
    "from IPython.display import IFrame\n",
    "IFrame(src='https://saudecocal.herokuapp.com/', width=900, height=200, frameborder=0)"
   ]
  }
 ],
 "metadata": {
  "kernelspec": {
   "display_name": "Python 3 (ipykernel)",
   "language": "python",
   "name": "python3"
  },
  "language_info": {
   "codemirror_mode": {
    "name": "ipython",
    "version": 3
   },
   "file_extension": ".py",
   "mimetype": "text/x-python",
   "name": "python",
   "nbconvert_exporter": "python",
   "pygments_lexer": "ipython3",
   "version": "3.9.7"
  }
 },
 "nbformat": 4,
 "nbformat_minor": 5
}
