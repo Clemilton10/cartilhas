{
 "cells": [
  {
   "cell_type": "markdown",
   "id": "13022b7d-91f2-47b0-bb7e-80c49a6054e5",
   "metadata": {},
   "source": [
    "```python\n",
    "len( texto )                   # quantidade de caracteres\n",
    "texto.count('pedaco')          # quantidade de vezes que um pedaço de texto em uma string\n",
    "texto.find('pedaco')           # posição onde está um pedaço de texto começando do início (posição zero)\n",
    "texto.rfind('pedaco')          # posição onde está um pedaço de texto começando do final\n",
    "texto.replace( antes, depois ) # substitui o antes pelo depois\n",
    "texto.upper()                  # coloca tudo maiusculo\n",
    "texto.lower()                  # coloca tudo minusculo\n",
    "texto.casefold()               # coloca tudo minusculo -> melhor\n",
    "texto.captalize()              # coloca tudo em minusculo e a primeira letra em maiúsculo\n",
    "texto.title()                  # coloca a primeira letra de cada palavra em maiúsculo\n",
    "texto.strip()                  # remove os espaços do inicio e do final\n",
    "texto.lstrip()                 # remove os espaços do inicio\n",
    "texto.rstrip()                 # remove os espaços do final\n",
    "texto.startswith('pedaco')     # verifica se um pedaço de texto no começo de uma string e retorna True ou False\n",
    "texto.endswith('pedaco')       # verifica se um pedaço de texto no final de uma string e retorna True ou False\n",
    "texto.isalpha()                # verifica se há apenas letras numa string\n",
    "texto.isspace()                # verifica se há apenas espaços numa string\n",
    "texto.isalnum()                # verifica se há apenas letras e números em uma string\n",
    "texto.isnumeric()              # verifica se há apenas números na string\n",
    "texto.split( ' ' )             # quebra um texto pelo separador\n",
    "texto.splitlines()             # quebra um texto nas quebras de linha\n",
    "'pedaco'.join( lista )         # junta uma lista ( pedaços ) em um string\n",
    "'pedaco' in texto              # procura um pedaço de texto dentro de outra e retorna True ou False\n",
    "```"
   ]
  },
  {
   "cell_type": "markdown",
   "id": "6403fafb-afcc-4408-906d-aecdb59f0141",
   "metadata": {},
   "source": [
    "|O||C|l|e|m|a|s||e|s|t|á||e|s|t|u|d|a|n|d|o|,||n|ã|o||p|e|r|t|u|b|e|!|\n",
    "|-|-|-|-|-|-|-|-|-|-|-|-|-|-|-|-|-|-|-|-|-|-|-|-|-|-|-|-|-|-|-|-|-|-|-|-|-|\n",
    "|0|1|2|3|4|5|6|7|8|9|10|11|12|13|14|15|16|17|18|19|20|21|22|23|24|25|26|27|28|29|30|31|32|33|34|35|36|\n",
    "|-37|-36|-35|-34|-33|-32|-31|-30|-29|-28|-27|-26|-25|-24|-23|-22|-21|-20|-19|-18|-17|-16|-15|-14|-13|-12|-11|-10|-9|-8|-7|-6|-5|-4|-3|-2|-1|"
   ]
  },
  {
   "cell_type": "code",
   "execution_count": 3,
   "id": "37ab0de6-d1b8-48dc-8d69-2405b643fd30",
   "metadata": {},
   "outputs": [],
   "source": [
    "texto = 'O Clemas está estudando, não pertube!'"
   ]
  },
  {
   "cell_type": "markdown",
   "id": "a9762e47-dc5d-43eb-b5a7-499ae6d0dea9",
   "metadata": {},
   "source": [
    "<font color=#888888>Pegar partes do texto</font>\n",
    "```python\n",
    "texto[ onde_comeca : onde_termina : quanto_pula ]\n",
    "```"
   ]
  },
  {
   "cell_type": "code",
   "execution_count": 4,
   "id": "3a10bfc9-bb34-4c06-b04f-400b3f4c66ff",
   "metadata": {},
   "outputs": [
    {
     "name": "stdout",
     "output_type": "stream",
     "text": [
      "texto[ 2 ]        -> C\n",
      "texto[ 2 : ]      -> Clemas está estudando, não pertube!\n",
      "texto[ : 8 ]      -> O Clemas\n",
      "texto[ 2 : 8 ]    -> Clemas\n",
      "texto[ 2: 8 : 2 ] -> Cea\n",
      "texto[ 2 : : 2 ]  -> Cea sáetdno ã etb!\n",
      "texto[ : 8 : 2 ]  -> OCea\n",
      "texto[ -4 ]       -> u\n",
      "texto[ : -4 ]     -> O Clemas está estudando, não pert\n",
      "texto[ -1 : ]     -> !\n",
      "texto[ -2 : -1 ]  -> e\n"
     ]
    }
   ],
   "source": [
    "# pegando um caracter\n",
    "caracter = texto[ 2 ]\n",
    "print( f'texto[ 2 ]        -> {caracter}' )\n",
    "\n",
    "# do caracter 2 até o final\n",
    "parte = texto[ 2 : ]\n",
    "print( f'texto[ 2 : ]      -> {parte}' )\n",
    "\n",
    "# do começo ao caracter 7 -> Obs.: tem que colocar um a mais\n",
    "parte = texto[ : 8 ]\n",
    "print( f'texto[ : 8 ]      -> {parte}' )\n",
    "\n",
    "# do caracter 2 ao caracter 7 -> Obs.: tem que colocar um a mais\n",
    "parte = texto[ 2 : 8 ]\n",
    "print( f'texto[ 2 : 8 ]    -> {parte}' )\n",
    "\n",
    "# do caracter 2 ao caracter 7 -> Obs.: tem que colocar um a mais\n",
    "# vai de 2 em 2 pulando um\n",
    "parte = texto[ 2 : 8 : 2 ]\n",
    "print( f'texto[ 2: 8 : 2 ] -> {parte}' )\n",
    "\n",
    "parte = texto[ 2 : : 2 ]\n",
    "print( f'texto[ 2 : : 2 ]  -> {parte}' )\n",
    "\n",
    "parte = texto[ : 8 : 2 ]\n",
    "print( f'texto[ : 8 : 2 ]  -> {parte}' )\n",
    "\n",
    "parte = texto[ -4 ]\n",
    "print( f'texto[ -4 ]       -> {parte}' )\n",
    "\n",
    "parte = texto[ : -4 ]\n",
    "print( f'texto[ : -4 ]     -> {parte}' )\n",
    "\n",
    "parte = texto[ -1 : ]\n",
    "print( f'texto[ -1 : ]     -> {parte}' )\n",
    "\n",
    "parte = texto[ -2 : -1 ]\n",
    "print( f'texto[ -2 : -1 ]  -> {parte}' )"
   ]
  },
  {
   "cell_type": "markdown",
   "id": "cb5a1ff0-1f1d-434d-80cb-5b90baf32de4",
   "metadata": {},
   "source": [
    "<font color=#888888>Formatar variáveis dentro de uma String</font>"
   ]
  },
  {
   "cell_type": "code",
   "execution_count": 24,
   "id": "1cf5f9ba-62a3-404f-aff0-794784fa469a",
   "metadata": {
    "tags": []
   },
   "outputs": [
    {
     "name": "stdout",
     "output_type": "stream",
     "text": [
      "O Clemas tem 42 anos\n",
      "É 42 a idade do Clemas\n"
     ]
    }
   ],
   "source": [
    "nome = 'Clemas'\n",
    "idade = 42\n",
    "print( 'O {} tem {} anos'.format( nome, idade ) )\n",
    "\n",
    "# com índice alterado\n",
    "print( 'É {1} a idade do {0}'.format( nome, idade ) )"
   ]
  },
  {
   "cell_type": "markdown",
   "id": "71c08336-1ec2-47a2-927c-a1364b90f333",
   "metadata": {},
   "source": [
    "<font color=#888888>Modo antigo</font>\n",
    "```python\n",
    "%s -> String\n",
    "%d -> Number\n",
    "```"
   ]
  },
  {
   "cell_type": "code",
   "execution_count": 1,
   "id": "0bb1e472-93d6-4c87-8c97-3e83fce02d2c",
   "metadata": {},
   "outputs": [
    {
     "name": "stdout",
     "output_type": "stream",
     "text": [
      "O Clemas tem 42 anos\n"
     ]
    }
   ],
   "source": [
    "nome = 'Clemas'\n",
    "idade = 42\n",
    "print( 'O %s tem %d anos' % ( nome, idade ) )"
   ]
  },
  {
   "cell_type": "markdown",
   "id": "d9cadb68-f952-4a2b-9e15-8e64caa9e86d",
   "metadata": {},
   "source": [
    "<font color=#888888>Quantidade de Caracteres</font>"
   ]
  },
  {
   "cell_type": "code",
   "execution_count": 5,
   "id": "9ddb166d-422d-41f9-bc0a-83b80eaba8f7",
   "metadata": {},
   "outputs": [
    {
     "name": "stdout",
     "output_type": "stream",
     "text": [
      "len( texto ) -> 37\n"
     ]
    }
   ],
   "source": [
    "# len -> length -> comprimento\n",
    "qt_caracteres = len( texto )\n",
    "print( f'len( texto ) -> {qt_caracteres}' )"
   ]
  },
  {
   "cell_type": "markdown",
   "id": "3825f4f7-d744-4a47-ae86-e7e3e23a4956",
   "metadata": {},
   "source": [
    "<font color=#888888>Quantidade de vezes que repete um pedaço de texto</font>\n",
    "```python\n",
    "texto.count( substring, inicio, final)\n",
    "```"
   ]
  },
  {
   "cell_type": "code",
   "execution_count": 6,
   "id": "7c96d390-7d9a-4417-b8c7-7b353de64c14",
   "metadata": {},
   "outputs": [
    {
     "name": "stdout",
     "output_type": "stream",
     "text": [
      "texto.count( 'e' )        -> 5\n",
      "texto.count( 'e', 0, 20 ) -> 3\n"
     ]
    }
   ],
   "source": [
    "qt_vezes = texto.count( 'e' )\n",
    "print( f'texto.count( \\'e\\' )        -> {qt_vezes}' )\n",
    "\n",
    "qt_vezes = texto.count( 'e', 0, 20 )\n",
    "print( f'texto.count( \\'e\\', 0, 20 ) -> {qt_vezes}' )"
   ]
  },
  {
   "cell_type": "markdown",
   "id": "6ef4afe9-191a-4f9d-8b67-7b3f7cfe852f",
   "metadata": {},
   "source": [
    "<font color=#888888>Procura uma pedaço de texto no texto</font>"
   ]
  },
  {
   "cell_type": "code",
   "execution_count": 7,
   "id": "aa4d770b-c63e-4f0e-8acf-a831ce8c7c37",
   "metadata": {},
   "outputs": [
    {
     "name": "stdout",
     "output_type": "stream",
     "text": [
      "posicao = texto.find( 'estudando' )       -> 14\n",
      "lg_estudando = len( 'estudando' )         -> 9\n",
      "texto[ posicao : posicao + lg_estudando ] -> estudando\n",
      "texto.find( 'zebra' )                     -> -1\n"
     ]
    }
   ],
   "source": [
    "posicao = texto.find( 'estudando' )\n",
    "print( f'posicao = texto.find( \\'estudando\\' )       -> {posicao}' )\n",
    "\n",
    "lg_estudando = len( 'estudando' )\n",
    "print( f'lg_estudando = len( \\'estudando\\' )         -> {lg_estudando}' )\n",
    "\n",
    "palavra = texto[ posicao : posicao + lg_estudando ]\n",
    "print( f'texto[ posicao : posicao + lg_estudando ] -> {palavra}' )\n",
    "\n",
    "posicao = texto.find( 'zebra' )\n",
    "print( f'texto.find( \\'zebra\\' )                     -> {posicao}' )"
   ]
  },
  {
   "cell_type": "markdown",
   "id": "3b0fd183-9fb6-4f77-8de1-89869381db38",
   "metadata": {},
   "source": [
    "<font color=#888888>Verificar se existe um pedaço de texto no texto</font>"
   ]
  },
  {
   "cell_type": "code",
   "execution_count": 8,
   "id": "29a81a1c-6af7-41fc-9028-b26e340c2691",
   "metadata": {},
   "outputs": [
    {
     "name": "stdout",
     "output_type": "stream",
     "text": [
      "'Clemas' in texto -> True\n"
     ]
    }
   ],
   "source": [
    "verificacao = 'Clemas' in texto\n",
    "if verificacao:\n",
    "    print(f'\\'Clemas\\' in texto -> {verificacao}' )\n",
    "else:\n",
    "    print(f'\\'Clemas\\' in texto -> {verificacao}' )"
   ]
  },
  {
   "cell_type": "markdown",
   "id": "755052eb-d0a6-44b4-959d-8510bb8020be",
   "metadata": {},
   "source": [
    "<font color=#888888>Substituir um pedaço de texto no texto</font>"
   ]
  },
  {
   "cell_type": "code",
   "execution_count": 9,
   "id": "56f18f3f-a731-4312-8fcf-83fe1312b029",
   "metadata": {},
   "outputs": [
    {
     "name": "stdout",
     "output_type": "stream",
     "text": [
      "texto.replace( 'estudando', 'dormindo' ) -> O Clemas está dormindo, não pertube!\n"
     ]
    }
   ],
   "source": [
    "novo_texto = texto.replace( 'estudando', f'dormindo' )\n",
    "print( f'texto.replace( \\'estudando\\', \\'dormindo\\' ) -> {novo_texto}' )"
   ]
  },
  {
   "cell_type": "markdown",
   "id": "7505b1f5-1bf0-4dc0-91c5-cb4d33bc080f",
   "metadata": {},
   "source": [
    "<font color=#888888>Colocar texto todo em maiúsculo</font>"
   ]
  },
  {
   "cell_type": "code",
   "execution_count": 10,
   "id": "1c1e90f2-70c3-4ae8-8360-7894ba4434e9",
   "metadata": {},
   "outputs": [
    {
     "name": "stdout",
     "output_type": "stream",
     "text": [
      "texto.upper() -> O CLEMAS ESTÁ ESTUDANDO, NÃO PERTUBE!\n"
     ]
    }
   ],
   "source": [
    "# upper -> pra cima\n",
    "novo_texto = texto.upper()\n",
    "print( f'texto.upper() -> {novo_texto}' )"
   ]
  },
  {
   "cell_type": "markdown",
   "id": "9642223a-5312-4bff-98f3-84d3c3383935",
   "metadata": {},
   "source": [
    "<font color=#888888>Colocar o texto todo em minúsculo</font>"
   ]
  },
  {
   "cell_type": "code",
   "execution_count": 11,
   "id": "2aa2542d-39a0-47dd-8f7a-b479a0f08063",
   "metadata": {},
   "outputs": [
    {
     "name": "stdout",
     "output_type": "stream",
     "text": [
      "texto.lower() -> o clemas está estudando, não pertube!\n",
      "texto.casefold() -> o clemas está estudando, não pertube!\n"
     ]
    }
   ],
   "source": [
    "# lower -> pra baixo\n",
    "novo_texto = texto.lower()\n",
    "print( f'texto.lower() -> {novo_texto}' )\n",
    "\n",
    "# lower -> pra baixo\n",
    "novo_texto = texto.casefold()\n",
    "print( f'texto.casefold() -> {novo_texto}' )"
   ]
  },
  {
   "cell_type": "markdown",
   "id": "36338e8c-aee0-4a95-9d7d-3e2c7e7f3e5c",
   "metadata": {},
   "source": [
    "<font color=#888888>Todo o texto em minúsculo e apenas a primeira letra em maiúsculo</font>"
   ]
  },
  {
   "cell_type": "code",
   "execution_count": 12,
   "id": "7afc6871-c742-4f7c-bad5-8e2c7773a1e5",
   "metadata": {},
   "outputs": [
    {
     "name": "stdout",
     "output_type": "stream",
     "text": [
      "texto.capitalize() -> O clemas está estudando, não pertube!\n"
     ]
    }
   ],
   "source": [
    "novo_texto = texto.capitalize()\n",
    "print( f'texto.capitalize() -> {novo_texto}' )"
   ]
  },
  {
   "cell_type": "markdown",
   "id": "d1e2a5a6-1561-4b1b-b242-074da0b3816c",
   "metadata": {},
   "source": [
    "<font color=#888888>Coloca a primeira letra de cada palavra em maiúsculo</font>"
   ]
  },
  {
   "cell_type": "code",
   "execution_count": 13,
   "id": "fb94e026-8c99-41d1-9621-ae6c6fd4c25d",
   "metadata": {},
   "outputs": [
    {
     "name": "stdout",
     "output_type": "stream",
     "text": [
      "texto.title() -> O Clemas Está Estudando, Não Pertube!\n"
     ]
    }
   ],
   "source": [
    "novo_texto = texto.title()\n",
    "print( f'texto.title() -> {novo_texto}' )"
   ]
  },
  {
   "cell_type": "markdown",
   "id": "0f197e2f-31fc-489f-9265-71b937891fdc",
   "metadata": {},
   "source": [
    "<font color=#888888>Procurar textos no início e final do texto</font>"
   ]
  },
  {
   "cell_type": "code",
   "execution_count": 18,
   "id": "130fb6d3-a3ac-4912-a1c2-23e40e6376ed",
   "metadata": {},
   "outputs": [
    {
     "name": "stdout",
     "output_type": "stream",
     "text": [
      "texto.startswith( 'pertube!' ) -> False\n",
      "texto.endswith( 'pertube!' ) -> True\n"
     ]
    }
   ],
   "source": [
    "busca1 = texto.startswith( 'pertube!' )\n",
    "print( f'texto.startswith( \\'pertube!\\' ) -> {busca1}' )\n",
    "\n",
    "busca2 = texto.endswith( 'pertube!' )\n",
    "print( f'texto.endswith( \\'pertube!\\' ) -> {busca2}' )"
   ]
  },
  {
   "cell_type": "markdown",
   "id": "3d656b7a-92bd-480d-9a73-fd08b7fca797",
   "metadata": {},
   "source": [
    "<font color=#888888>Procura se tem apenas números em uma string</font>"
   ]
  },
  {
   "cell_type": "code",
   "execution_count": 4,
   "id": "4bd3cc41-daca-4648-8dd4-63d0a78bb499",
   "metadata": {},
   "outputs": [
    {
     "name": "stdout",
     "output_type": "stream",
     "text": [
      "False\n",
      "True\n"
     ]
    }
   ],
   "source": [
    "busca_alfanum1 = 'João42'\n",
    "print( busca_alfanum1.isnumeric() )\n",
    "\n",
    "busca_alfanum2 = '00321684887'\n",
    "print( busca_alfanum2.isnumeric() )"
   ]
  },
  {
   "cell_type": "markdown",
   "id": "09c3bd79-e1db-4a6f-83e8-1884e725ee09",
   "metadata": {},
   "source": [
    "<font color=#888888>Procura se tem apenas letras e números em uma string, nem espaço</font>"
   ]
  },
  {
   "cell_type": "code",
   "execution_count": 22,
   "id": "8d35c782-7df9-4fc9-99b4-4130333b71e5",
   "metadata": {},
   "outputs": [
    {
     "name": "stdout",
     "output_type": "stream",
     "text": [
      "True\n",
      "False\n"
     ]
    }
   ],
   "source": [
    "busca_alfanum1 = 'João42'\n",
    "print( busca_alfanum1.isalnum() )\n",
    "\n",
    "busca_alfanum2 = 'Clemas tem 42 anos'\n",
    "print( busca_alfanum2.isalnum() )\n"
   ]
  },
  {
   "cell_type": "markdown",
   "id": "15fa390d-5f75-4075-be1b-460b1a05bf48",
   "metadata": {},
   "source": [
    "<font color=#888888>Remove espaços antes e depois do texto ( TRIM )</font>"
   ]
  },
  {
   "cell_type": "code",
   "execution_count": 14,
   "id": "03bf7b85-7477-4277-836f-f3f867e0fcf5",
   "metadata": {},
   "outputs": [
    {
     "name": "stdout",
     "output_type": "stream",
     "text": [
      "|Meu nome não é Jorge     |\n",
      "|    Meu nome não é Jorge|\n",
      "|Meu nome não é Jorge|\n"
     ]
    }
   ],
   "source": [
    "texto_sacana = '    Meu nome não é Jorge     '\n",
    "# l -> left -> esquerda\n",
    "novo_texto = texto_sacana.lstrip()\n",
    "print( '|' + novo_texto + '|' )\n",
    "\n",
    "# r -> right -> direita\n",
    "novo_texto = texto_sacana.rstrip()\n",
    "print( '|' + novo_texto + '|' )\n",
    "\n",
    "# ambos\n",
    "novo_texto = texto_sacana.strip()\n",
    "print( '|' + novo_texto + '|' )"
   ]
  },
  {
   "cell_type": "markdown",
   "id": "ec7b24f2-d9ab-4e0b-adfe-80dc38a7f985",
   "metadata": {},
   "source": [
    "<font color=#888888>Quebrar um texto em vários pedaços</font>\n",
    "```python\n",
    "pedacos = texto.split( ' ' )\n",
    "```\n",
    "\n",
    "|O|Clemas|está|estudando,|não|pertube!|\n",
    "|-|------|----|----------|---|--------|\n",
    "|0|1     |2   |3         |4  |5       |"
   ]
  },
  {
   "cell_type": "code",
   "execution_count": 15,
   "id": "2c0cff4c-7579-4bd7-b340-396baa6fbc2f",
   "metadata": {},
   "outputs": [
    {
     "name": "stdout",
     "output_type": "stream",
     "text": [
      "texto.split( ' ' ) -> ['O', 'Clemas', 'está', 'estudando,', 'não', 'pertube!']\n",
      "pedacos[3]         -> estudando,\n",
      "pedacos[3][3]      -> u\n"
     ]
    }
   ],
   "source": [
    "pedacos = texto.split( ' ' )\n",
    "\n",
    "# lista dos pedaços\n",
    "print( f'texto.split( \\' \\' ) -> {pedacos}' )\n",
    "\n",
    "# pedaço ( item ) 3 da lista\n",
    "print( f'pedacos[3]         -> {pedacos[3]}' )\n",
    "\n",
    "# pedaço ( item ) 3 da lista -> caracter 3\n",
    "print( f'pedacos[3][3]      -> {pedacos[3][3]}' )"
   ]
  },
  {
   "cell_type": "markdown",
   "id": "4a9af323-99f3-4b5b-ab9a-777f25bb5189",
   "metadata": {},
   "source": [
    "<font color=#888888>Quebrar um texto em vários pedaços nas quebra de linha</font>"
   ]
  },
  {
   "cell_type": "code",
   "execution_count": 3,
   "id": "0e0a4767-d0b9-430b-b804-9c994f3bf265",
   "metadata": {},
   "outputs": [
    {
     "name": "stdout",
     "output_type": "stream",
     "text": [
      "['texto1', 'texto2', 'texto3']\n"
     ]
    }
   ],
   "source": [
    "outro_texto = \"\"\"texto1\n",
    "texto2\n",
    "texto3\"\"\"\n",
    "lista = outro_texto.splitlines()\n",
    "print( lista )"
   ]
  },
  {
   "cell_type": "markdown",
   "id": "37b4f9ab-3db4-41dc-a12b-8f211b0702b2",
   "metadata": {},
   "source": [
    "<font color=#888888>Juntar pedaços em em texto</font>"
   ]
  },
  {
   "cell_type": "code",
   "execution_count": 16,
   "id": "4af56ba3-dedb-4829-9e4f-e7c5bb78f523",
   "metadata": {},
   "outputs": [
    {
     "name": "stdout",
     "output_type": "stream",
     "text": [
      "'_'.join( pedacos ) -> O_Clemas_está_estudando,_não_pertube!\n"
     ]
    }
   ],
   "source": [
    "novo_texto = '_'.join( pedacos )\n",
    "print( f'\\'_\\'.join( pedacos ) -> {novo_texto}' )"
   ]
  },
  {
   "cell_type": "markdown",
   "id": "7b284a24-a754-40c6-aff4-ba1c10f63670",
   "metadata": {},
   "source": [
    "<font color=#888888>Mesclar funções</font>"
   ]
  },
  {
   "cell_type": "code",
   "execution_count": 17,
   "id": "c1f84958-31a2-4fc1-8a02-c6a789eedeca",
   "metadata": {},
   "outputs": [
    {
     "name": "stdout",
     "output_type": "stream",
     "text": [
      "outro_texto.count( 'c' ) -> 1\n",
      "outro_texto.count( 'C' ) -> 1\n",
      "outro_texto.replace('ç', 'c').upper().count( 'C' ) -> 3\n"
     ]
    }
   ],
   "source": [
    "outro_texto = 'O Clemas começou e está longe de terminar'\n",
    "\n",
    "# contar \"c\" minúsculo\n",
    "qt_vezes = outro_texto.count( 'c' )\n",
    "print( f'outro_texto.count( \\'c\\' ) -> {qt_vezes}' )\n",
    "\n",
    "# contar \"C\" maiúsculo\n",
    "qt_vezes = outro_texto.count( 'C' )\n",
    "print( f'outro_texto.count( \\'C\\' ) -> {qt_vezes}' )\n",
    "\n",
    "# subistiuir -> maiúsculo -> contar\n",
    "qt_vezes = outro_texto.replace('ç', 'c').upper().count( 'C' )\n",
    "print( f'outro_texto.replace(\\'ç\\', \\'c\\').upper().count( \\'C\\' ) -> {qt_vezes}' )"
   ]
  },
  {
   "cell_type": "markdown",
   "id": "33803c44-3e94-4c89-b2a2-91ef4abe2784",
   "metadata": {},
   "source": [
    "<font color=#888888>Completar String</font>"
   ]
  },
  {
   "cell_type": "code",
   "execution_count": 5,
   "id": "4e470e21-6754-4d1e-9d75-95a0bd6a2153",
   "metadata": {},
   "outputs": [
    {
     "name": "stdout",
     "output_type": "stream",
     "text": [
      "Clemas..............\n",
      "Maira...............\n",
      "Felipe..............\n",
      "Lucas...............\n",
      "\n",
      "..............Clemas\n",
      "...............Maira\n",
      "..............Felipe\n",
      "...............Lucas\n",
      "\n",
      ".......Clemas.......\n",
      ".......Maira........\n",
      ".......Felipe.......\n",
      ".......Lucas........\n"
     ]
    }
   ],
   "source": [
    "linha1 = 'Clemas'\n",
    "linha2 = 'Maira'\n",
    "linha3 = 'Felipe'\n",
    "linha4 = 'Lucas'\n",
    "\n",
    "print( f'{linha1:.<20}' )\n",
    "print( f'{linha2:.<20}' )\n",
    "print( f'{linha3:.<20}' )\n",
    "print( f'{linha4:.<20}' )\n",
    "\n",
    "print()\n",
    "print( f'{linha1:.>20}' )\n",
    "print( f'{linha2:.>20}' )\n",
    "print( f'{linha3:.>20}' )\n",
    "print( f'{linha4:.>20}' )\n",
    "\n",
    "print()\n",
    "print( f'{linha1:.^20}' )\n",
    "print( f'{linha2:.^20}' )\n",
    "print( f'{linha3:.^20}' )\n",
    "print( f'{linha4:.^20}' )"
   ]
  }
 ],
 "metadata": {
  "kernelspec": {
   "display_name": "Python 3 (ipykernel)",
   "language": "python",
   "name": "python3"
  },
  "language_info": {
   "codemirror_mode": {
    "name": "ipython",
    "version": 3
   },
   "file_extension": ".py",
   "mimetype": "text/x-python",
   "name": "python",
   "nbconvert_exporter": "python",
   "pygments_lexer": "ipython3",
   "version": "3.9.7"
  }
 },
 "nbformat": 4,
 "nbformat_minor": 5
}
