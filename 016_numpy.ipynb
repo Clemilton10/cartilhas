{
 "cells": [
  {
   "cell_type": "markdown",
   "id": "90975864-68f2-46c1-8158-b9f9455158fa",
   "metadata": {},
   "source": [
    "# <font color=#ffdd00>Numpy</font>"
   ]
  },
  {
   "cell_type": "code",
   "execution_count": 1,
   "id": "ba412d97-0000-4989-a059-f1ee03ec9465",
   "metadata": {},
   "outputs": [],
   "source": [
    "import numpy as np"
   ]
  },
  {
   "cell_type": "markdown",
   "id": "bd7e9545-703c-40d8-8765-0ded7a6c0f08",
   "metadata": {},
   "source": [
    "<font color=#888888>Gerar uma lista com números de tanto a tanto em um número de vezes</font>"
   ]
  },
  {
   "cell_type": "code",
   "execution_count": 4,
   "id": "63453a6c-c993-4038-86a6-8a072497b0de",
   "metadata": {},
   "outputs": [
    {
     "name": "stdout",
     "output_type": "stream",
     "text": [
      "<class 'numpy.ndarray'>\n",
      "[ 1  3 20 16 19  5 26  2 22 13 11 25 11 17 10 25  3 24 16 23]\n",
      "[1, 3, 20, 16, 19, 5, 26, 2, 22, 13, 11, 25, 11, 17, 10, 25, 3, 24, 16, 23]\n"
     ]
    }
   ],
   "source": [
    "lista = np.random.randint(1, 30, 20)\n",
    "print(type(lista))\n",
    "print(lista)\n",
    "lista = list( lista )\n",
    "print(lista)"
   ]
  },
  {
   "cell_type": "markdown",
   "id": "dfa6afb6-ffec-4581-8a31-20cafab9776b",
   "metadata": {},
   "source": [
    "<font color=#888888>Gerar uma lista crescente de tanto a tanto</font>"
   ]
  },
  {
   "cell_type": "code",
   "execution_count": 7,
   "id": "a1457959-27ee-40bc-b53d-39ba7fef7993",
   "metadata": {},
   "outputs": [
    {
     "name": "stdout",
     "output_type": "stream",
     "text": [
      "<class 'numpy.ndarray'>\n",
      "[ 1  2  3  4  5  6  7  8  9 10 11 12 13 14 15 16 17 18 19 20]\n",
      "[1, 2, 3, 4, 5, 6, 7, 8, 9, 10, 11, 12, 13, 14, 15, 16, 17, 18, 19, 20]\n"
     ]
    }
   ],
   "source": [
    "lista = np.arange(1, 21)\n",
    "print(type(lista))\n",
    "print(lista)\n",
    "lista = list( lista )\n",
    "print(lista)"
   ]
  }
 ],
 "metadata": {
  "kernelspec": {
   "display_name": "Python 3 (ipykernel)",
   "language": "python",
   "name": "python3"
  },
  "language_info": {
   "codemirror_mode": {
    "name": "ipython",
    "version": 3
   },
   "file_extension": ".py",
   "mimetype": "text/x-python",
   "name": "python",
   "nbconvert_exporter": "python",
   "pygments_lexer": "ipython3",
   "version": "3.9.7"
  }
 },
 "nbformat": 4,
 "nbformat_minor": 5
}
