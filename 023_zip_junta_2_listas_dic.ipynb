{
 "cells": [
  {
   "cell_type": "markdown",
   "id": "50526a0d-b212-43be-94d4-57167f611bdc",
   "metadata": {},
   "source": [
    "# <font color=#ffdd00>zip</font>"
   ]
  },
  {
   "cell_type": "markdown",
   "id": "8c598f25-aa0a-4793-a1a4-48d9f63f129b",
   "metadata": {},
   "source": [
    "<font color=#888888>Juntando duas listas</font>"
   ]
  },
  {
   "cell_type": "code",
   "execution_count": 3,
   "id": "fe556ebc-a2c7-4b47-bddb-60dcee217169",
   "metadata": {},
   "outputs": [
    {
     "name": "stdout",
     "output_type": "stream",
     "text": [
      "<class 'zip'>\n",
      "[('vinho', 1500), ('cafeiteira', 150), ('microondas', 2100), ('iphone', 1950)]\n"
     ]
    }
   ],
   "source": [
    "vendas_produtos = [1500, 150, 2100, 1950]\n",
    "produtos = ['vinho', 'cafeiteira', 'microondas', 'iphone']\n",
    "\n",
    "nova_lista = zip( produtos, vendas_produtos )\n",
    "print( type( nova_lista ) )\n",
    "nova_lista = list( nova_lista )\n",
    "print( nova_lista )"
   ]
  },
  {
   "cell_type": "markdown",
   "id": "ebc22e30-fe11-4000-b8a4-2eeef06def16",
   "metadata": {},
   "source": [
    "<font color=#888888>Juntando dois dicionários</font>"
   ]
  },
  {
   "cell_type": "code",
   "execution_count": 4,
   "id": "1d93e537-e2a7-4739-881a-f349faaadbe4",
   "metadata": {},
   "outputs": [
    {
     "name": "stdout",
     "output_type": "stream",
     "text": [
      "<class 'zip'>\n",
      "[('vinho', 1500), ('cafeiteira', 150), ('microondas', 2100), ('iphone', 1950)]\n"
     ]
    }
   ],
   "source": [
    "vendas_produtos = (1500, 150, 2100, 1950)\n",
    "produtos = ('vinho', 'cafeiteira', 'microondas', 'iphone')\n",
    "\n",
    "nova_lista = zip( produtos, vendas_produtos )\n",
    "print( type( nova_lista ) )\n",
    "nova_lista = list( nova_lista )\n",
    "print( nova_lista )"
   ]
  }
 ],
 "metadata": {
  "kernelspec": {
   "display_name": "Python 3 (ipykernel)",
   "language": "python",
   "name": "python3"
  },
  "language_info": {
   "codemirror_mode": {
    "name": "ipython",
    "version": 3
   },
   "file_extension": ".py",
   "mimetype": "text/x-python",
   "name": "python",
   "nbconvert_exporter": "python",
   "pygments_lexer": "ipython3",
   "version": "3.9.7"
  }
 },
 "nbformat": 4,
 "nbformat_minor": 5
}
