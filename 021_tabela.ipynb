{
 "cells": [
  {
   "cell_type": "markdown",
   "id": "0309494c-d375-48ea-8224-884dacf881df",
   "metadata": {},
   "source": [
    "# <font color=#ffdd00>Tabela</font>"
   ]
  },
  {
   "cell_type": "code",
   "execution_count": 4,
   "id": "05b34cf8-3951-44af-a982-4c7817a426ed",
   "metadata": {},
   "outputs": [
    {
     "name": "stdout",
     "output_type": "stream",
     "text": [
      "| id  | contato     | nome        |\n",
      "|-----|-------------|-------------|\n",
      "| 1   | Joao        | Joao        |\n",
      "| 2   | Oliver      | Oliver      |\n",
      "| 3   | Freitas     | Freitas     |\n",
      "| 4   | Jose        | Ambrosio    |\n",
      "| 13  | passa link  | passa link  |\n",
      "| 14  | locaweb     | locaweb     |\n"
     ]
    }
   ],
   "source": [
    "from rangel.db_sqlite import db_sqlite\n",
    "from rangel.tabela import tabela\n",
    "\n",
    "c = db_sqlite()\n",
    "c.conectar('../sexta_feira/sexta_feira_web.db')\n",
    "rs = c.cursor.execute('select * from contatos')\n",
    "rs = list(rs)\n",
    "colunas = [description[0] for description in c.cursor.description]\n",
    "tabela( colunas, (), rs )\n"
   ]
  },
  {
   "cell_type": "markdown",
   "id": "bfa5ee8b-118b-4540-aaa8-bd2aceadca78",
   "metadata": {},
   "source": [
    "```\n",
    "| id  | contato     | nome        |\n",
    "|-----|:-----------:|------------:|\n",
    "| 1   | Joao        | Joao        |\n",
    "| 2   | Oliver      | Oliver      |\n",
    "| 3   | Freitas     | Freitas     |\n",
    "| 4   | Jose        | Ambrosio    |\n",
    "| 13  | passa link  | passa link  |\n",
    "| 14  | locaweb     | locaweb     |\n",
    "```"
   ]
  },
  {
   "cell_type": "markdown",
   "id": "53f64184-84b3-4248-9846-77d950c9f46c",
   "metadata": {},
   "source": [
    "| id  | contato     | nome        |\n",
    "|-----|:-----------:|------------:|\n",
    "| 1   | Joao        | Joao        |\n",
    "| 2   | Oliver      | Oliver      |\n",
    "| 3   | Freitas     | Freitas     |\n",
    "| 4   | Jose        | Ambrosio    |\n",
    "| 13  | passa link  | passa link  |\n",
    "| 14  | locaweb     | locaweb     |\n"
   ]
  }
 ],
 "metadata": {
  "kernelspec": {
   "display_name": "Python 3 (ipykernel)",
   "language": "python",
   "name": "python3"
  },
  "language_info": {
   "codemirror_mode": {
    "name": "ipython",
    "version": 3
   },
   "file_extension": ".py",
   "mimetype": "text/x-python",
   "name": "python",
   "nbconvert_exporter": "python",
   "pygments_lexer": "ipython3",
   "version": "3.9.7"
  }
 },
 "nbformat": 4,
 "nbformat_minor": 5
}
