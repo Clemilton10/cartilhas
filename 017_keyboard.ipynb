{
 "cells": [
  {
   "cell_type": "markdown",
   "id": "c9951f7a-c4ae-4c8c-a9f4-b75aad6e6233",
   "metadata": {},
   "source": [
    "# <font color=#ffdd00>Keyboard</font>"
   ]
  },
  {
   "cell_type": "markdown",
   "id": "2909ba6d-1543-4072-ae37-b79a6cee3efd",
   "metadata": {},
   "source": [
    "Documentação:<br>\n",
    "https://www.thepythoncode.com/article/control-keyboard-python"
   ]
  },
  {
   "cell_type": "code",
   "execution_count": 4,
   "id": "d6f56e74-673c-47a8-914e-15a5a27fbcc8",
   "metadata": {},
   "outputs": [],
   "source": [
    "import keyboard"
   ]
  },
  {
   "cell_type": "markdown",
   "id": "aa5fba09-6947-47fb-ac07-1ed131937a81",
   "metadata": {},
   "source": [
    "<font color=#888888>Esperar pressionar uma tecla</font>"
   ]
  },
  {
   "cell_type": "code",
   "execution_count": null,
   "id": "838c3de2-b2cc-4e73-8112-d56774da0b1b",
   "metadata": {},
   "outputs": [],
   "source": [
    "keyboard.wait('ctrl')"
   ]
  },
  {
   "cell_type": "markdown",
   "id": "5d2840df-ccef-4e28-b29a-940ff2802867",
   "metadata": {},
   "source": [
    "<font color=#888888>Pressionar e soltar uma tecla</font>"
   ]
  },
  {
   "cell_type": "code",
   "execution_count": null,
   "id": "9a740669-d6f4-46c0-8f39-5035063d00ae",
   "metadata": {},
   "outputs": [],
   "source": [
    "keyboard.press_and_release('home')"
   ]
  },
  {
   "cell_type": "markdown",
   "id": "d75545b5-9487-4eca-9353-5e2ff950dea7",
   "metadata": {},
   "source": [
    "<font color=#888888>Digitando um texto</font>"
   ]
  },
  {
   "cell_type": "code",
   "execution_count": null,
   "id": "525ab3e6-160e-4f57-9df5-11d1489c776b",
   "metadata": {},
   "outputs": [],
   "source": [
    "keyboard.write('José Ambrósio', delay=0.02)"
   ]
  }
 ],
 "metadata": {
  "kernelspec": {
   "display_name": "Python 3 (ipykernel)",
   "language": "python",
   "name": "python3"
  },
  "language_info": {
   "codemirror_mode": {
    "name": "ipython",
    "version": 3
   },
   "file_extension": ".py",
   "mimetype": "text/x-python",
   "name": "python",
   "nbconvert_exporter": "python",
   "pygments_lexer": "ipython3",
   "version": "3.9.7"
  }
 },
 "nbformat": 4,
 "nbformat_minor": 5
}
