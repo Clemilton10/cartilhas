{
 "cells": [
  {
   "cell_type": "markdown",
   "id": "901891d9-8cbb-4e48-9bd2-d63b2413859a",
   "metadata": {},
   "source": [
    "# <font color=#ffdd00>pip search</font>"
   ]
  },
  {
   "cell_type": "markdown",
   "id": "9cb0076f-e798-430e-9d11-29ec728b19ec",
   "metadata": {},
   "source": [
    "<font color=#888888>Instalação</font>\n",
    "~~~python\n",
    "~> pip install pip_search\n",
    "~~~"
   ]
  },
  {
   "cell_type": "markdown",
   "id": "45c5a02f-6e51-4572-8a22-ce5cb87dac99",
   "metadata": {},
   "source": [
    "<font color=#888888>Uso</font>\n",
    "~~~python\n",
    "~> pip_search rangel\n",
    "~~~"
   ]
  }
 ],
 "metadata": {
  "kernelspec": {
   "display_name": "Python 3 (ipykernel)",
   "language": "python",
   "name": "python3"
  },
  "language_info": {
   "codemirror_mode": {
    "name": "ipython",
    "version": 3
   },
   "file_extension": ".py",
   "mimetype": "text/x-python",
   "name": "python",
   "nbconvert_exporter": "python",
   "pygments_lexer": "ipython3",
   "version": "3.9.7"
  }
 },
 "nbformat": 4,
 "nbformat_minor": 5
}
