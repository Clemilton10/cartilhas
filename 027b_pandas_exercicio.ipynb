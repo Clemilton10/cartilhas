{
 "cells": [
  {
   "cell_type": "markdown",
   "id": "f2cf953d-94c2-414a-884b-20b333356f2d",
   "metadata": {},
   "source": [
    "# <font color=#ffdd00>Exercícios</font>"
   ]
  },
  {
   "cell_type": "markdown",
   "id": "e8fa1d9f-8797-4e86-b16d-011d4f6bd5fd",
   "metadata": {},
   "source": [
    "<font color=#888888>Importação dos módulos</font>"
   ]
  },
  {
   "cell_type": "code",
   "execution_count": 27,
   "id": "97f41d46-ac0e-4a22-a1b1-296302d5a899",
   "metadata": {},
   "outputs": [
    {
     "data": {
      "text/html": [
       "<div>\n",
       "<style scoped>\n",
       "    .dataframe tbody tr th:only-of-type {\n",
       "        vertical-align: middle;\n",
       "    }\n",
       "\n",
       "    .dataframe tbody tr th {\n",
       "        vertical-align: top;\n",
       "    }\n",
       "\n",
       "    .dataframe thead th {\n",
       "        text-align: right;\n",
       "    }\n",
       "</style>\n",
       "<table border=\"1\" class=\"dataframe\">\n",
       "  <thead>\n",
       "    <tr style=\"text-align: right;\">\n",
       "      <th></th>\n",
       "      <th>Codigo do Servico</th>\n",
       "      <th>ID Funcionário</th>\n",
       "      <th>ID Cliente</th>\n",
       "      <th>Tempo Total de Contrato (Meses)</th>\n",
       "    </tr>\n",
       "  </thead>\n",
       "  <tbody>\n",
       "    <tr>\n",
       "      <th>0</th>\n",
       "      <td>OS0001</td>\n",
       "      <td>67</td>\n",
       "      <td>1</td>\n",
       "      <td>14</td>\n",
       "    </tr>\n",
       "    <tr>\n",
       "      <th>1</th>\n",
       "      <td>OS0002</td>\n",
       "      <td>17</td>\n",
       "      <td>2</td>\n",
       "      <td>12</td>\n",
       "    </tr>\n",
       "    <tr>\n",
       "      <th>2</th>\n",
       "      <td>OS0003</td>\n",
       "      <td>116</td>\n",
       "      <td>4</td>\n",
       "      <td>14</td>\n",
       "    </tr>\n",
       "    <tr>\n",
       "      <th>3</th>\n",
       "      <td>OS0004</td>\n",
       "      <td>37</td>\n",
       "      <td>5</td>\n",
       "      <td>8</td>\n",
       "    </tr>\n",
       "    <tr>\n",
       "      <th>4</th>\n",
       "      <td>OS0005</td>\n",
       "      <td>130</td>\n",
       "      <td>6</td>\n",
       "      <td>8</td>\n",
       "    </tr>\n",
       "  </tbody>\n",
       "</table>\n",
       "</div>"
      ],
      "text/plain": [
       "  Codigo do Servico  ID Funcionário  ID Cliente  \\\n",
       "0            OS0001              67           1   \n",
       "1            OS0002              17           2   \n",
       "2            OS0003             116           4   \n",
       "3            OS0004              37           5   \n",
       "4            OS0005             130           6   \n",
       "\n",
       "   Tempo Total de Contrato (Meses)  \n",
       "0                               14  \n",
       "1                               12  \n",
       "2                               14  \n",
       "3                                8  \n",
       "4                                8  "
      ]
     },
     "metadata": {},
     "output_type": "display_data"
    }
   ],
   "source": [
    "import pandas as pd\n",
    "\n",
    "funcionarios_df = pd.read_csv('027b CadastroFuncionarios.csv', sep=';', decimal=',')\n",
    "clientes_df = pd.read_csv('027b CadastroClientes.csv', sep=';', decimal=',')\n",
    "servicos_df = pd.read_excel('027b BaseServicosPrestados.xlsx')\n",
    "#display(clientes_df.head())\n",
    "display(servicos_df.head())"
   ]
  },
  {
   "cell_type": "markdown",
   "id": "852b062a-b5ca-4ec5-8e2c-d937b3ed9613",
   "metadata": {},
   "source": [
    "<font color=#888888>1- Folha Salarial</font>"
   ]
  },
  {
   "cell_type": "code",
   "execution_count": 28,
   "id": "0cca27ae-d07b-468c-81a0-21895540946c",
   "metadata": {},
   "outputs": [],
   "source": [
    "# limpando as tabelas\n",
    "funcionarios_df = funcionarios_df.drop(['Estado Civil','Cargo'], axis=1)"
   ]
  },
  {
   "cell_type": "code",
   "execution_count": 29,
   "id": "fedab3e5-5b2d-4043-8e47-af382855f258",
   "metadata": {},
   "outputs": [
    {
     "name": "stdout",
     "output_type": "stream",
     "text": [
      "Total da Folha Salarial Total é: R$ 2,717,493.22\n"
     ]
    }
   ],
   "source": [
    "# somando as colunas envolvidas em outra coluna\n",
    "funcionarios_df['Salario Total'] = \\\n",
    "funcionarios_df['Salario Base'] + \\\n",
    "funcionarios_df['Impostos'] + \\\n",
    "funcionarios_df['Beneficios'] + \\\n",
    "funcionarios_df['VT'] + \\\n",
    "funcionarios_df['VR']\n",
    "print('Total da Folha Salarial Total é: R$ {:,}'.format(funcionarios_df['Salario Total'].sum()))\n",
    "# assim também funcionaria:\n",
    "# print(sum(funcionarios_df['Salario Total']))"
   ]
  },
  {
   "cell_type": "markdown",
   "id": "bf58f301-3818-4c92-83c2-ef6e3f2a0bf8",
   "metadata": {},
   "source": [
    "<font color=#888888>2- Faturamento da empresa</font>"
   ]
  },
  {
   "cell_type": "code",
   "execution_count": 34,
   "id": "d1d41027-7e35-4670-913b-ad1e1b214847",
   "metadata": {},
   "outputs": [
    {
     "name": "stdout",
     "output_type": "stream",
     "text": [
      "Faturamento Total é: R$ 5,519,160\n"
     ]
    }
   ],
   "source": [
    "faturamentos_df = servicos_df[['ID Cliente', 'Tempo Total de Contrato (Meses)']].merge(clientes_df[['ID Cliente','Valor Contrato Mensal']], on='ID Cliente')\n",
    "faturamentos_df['Faturamento Total'] = faturamentos_df['Tempo Total de Contrato (Meses)'] * faturamentos_df['Valor Contrato Mensal']\n",
    "print('Faturamento Total é: R$ {:,}'.format(faturamentos_df['Faturamento Total'].sum()))"
   ]
  },
  {
   "cell_type": "markdown",
   "id": "d6792ae0-7739-43b4-8c73-a037e2ab2cbf",
   "metadata": {},
   "source": [
    "<font color=#888888>3- % Funcionários fecharam contrato</font>"
   ]
  },
  {
   "cell_type": "code",
   "execution_count": 39,
   "id": "96dbafce-11fc-4cd9-a8db-04a392478a9e",
   "metadata": {},
   "outputs": [
    {
     "name": "stdout",
     "output_type": "stream",
     "text": [
      "Percentual que fecharam contrato: 86.84%\n"
     ]
    }
   ],
   "source": [
    "q_funcionarios_total = len( funcionarios_df['ID Funcionário'] )\n",
    "q_funcionarios_fecharam_contrato = len( servicos_df['ID Funcionário'].unique() )\n",
    "print('Percentual que fecharam contrato: {:.2%}'.format(q_funcionarios_fecharam_contrato / q_funcionarios_total))"
   ]
  },
  {
   "cell_type": "markdown",
   "id": "e99c06f0-9f3a-4663-85a3-99ed013953d1",
   "metadata": {},
   "source": [
    "<font color=#888888>4- Qtd de contratos por área</font>"
   ]
  },
  {
   "cell_type": "code",
   "execution_count": 46,
   "id": "9d132580-de4a-456d-aa09-fe08da5185a5",
   "metadata": {},
   "outputs": [
    {
     "data": {
      "text/plain": [
       "<AxesSubplot:>"
      ]
     },
     "execution_count": 46,
     "metadata": {},
     "output_type": "execute_result"
    },
    {
     "data": {
      "image/png": "[encoded data removed]",
      "text/plain": [
       "<Figure size 432x288 with 1 Axes>"
      ]
     },
     "metadata": {
      "needs_background": "light"
     },
     "output_type": "display_data"
    }
   ],
   "source": [
    "contratos_area_df = servicos_df[['ID Funcionário']].merge(funcionarios_df[['ID Funcionário', 'Area']], on='ID Funcionário')\n",
    "contratos_area_q = contratos_area_df['Area'].value_counts()\n",
    "contratos_area_q.plot(kind='bar')"
   ]
  },
  {
   "cell_type": "markdown",
   "id": "6cf4164b-150a-4ec5-8bf3-86b4c76207a3",
   "metadata": {},
   "source": [
    "<font color=#888888>5- Funcionários por área</font>"
   ]
  },
  {
   "cell_type": "code",
   "execution_count": 55,
   "id": "249ad26c-8372-432f-97c7-0fe61b74276e",
   "metadata": {},
   "outputs": [
    {
     "data": {
      "text/plain": [
       "<AxesSubplot:>"
      ]
     },
     "execution_count": 55,
     "metadata": {},
     "output_type": "execute_result"
    },
    {
     "data": {
      "image/png": "[encoded data removed]",
      "text/plain": [
       "<Figure size 432x288 with 1 Axes>"
      ]
     },
     "metadata": {
      "needs_background": "light"
     },
     "output_type": "display_data"
    }
   ],
   "source": [
    "funcionarios_area = funcionarios_df['Area'].value_counts()\n",
    "funcionarios_area.plot(kind='barh')"
   ]
  },
  {
   "cell_type": "markdown",
   "id": "9102c99e-8dd2-4e39-9a9e-c4cc2271260c",
   "metadata": {},
   "source": [
    "<font color=#888888>6- Ticket médio mensal</font>"
   ]
  },
  {
   "cell_type": "code",
   "execution_count": 57,
   "id": "4c613893-4849-4344-847a-3c315ecee893",
   "metadata": {},
   "outputs": [
    {
     "name": "stdout",
     "output_type": "stream",
     "text": [
      "Ticket médio R$ 2,502.56\n"
     ]
    }
   ],
   "source": [
    "ticket_medio = clientes_df['Valor Contrato Mensal'].mean()\n",
    "print('Ticket médio R$ {:,.2f}'.format(ticket_medio))"
   ]
  }
 ],
 "metadata": {
  "kernelspec": {
   "display_name": "Python 3 (ipykernel)",
   "language": "python",
   "name": "python3"
  },
  "language_info": {
   "codemirror_mode": {
    "name": "ipython",
    "version": 3
   },
   "file_extension": ".py",
   "mimetype": "text/x-python",
   "name": "python",
   "nbconvert_exporter": "python",
   "pygments_lexer": "ipython3",
   "version": "3.9.7"
  }
 },
 "nbformat": 4,
 "nbformat_minor": 5
}
