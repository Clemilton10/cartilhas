{
 "cells": [
  {
   "cell_type": "markdown",
   "id": "53bbf018-df34-42f4-912d-e52ed412ff3f",
   "metadata": {},
   "source": [
    "# <font color=#ffdd00>Ano bissexto</font>"
   ]
  },
  {
   "cell_type": "markdown",
   "id": "e692d608-c0a8-4e3d-8188-5efa9ec725b0",
   "metadata": {},
   "source": [
    "<font color=#888888>Importando as funções / Métodos</font>"
   ]
  },
  {
   "cell_type": "code",
   "execution_count": 3,
   "id": "fad26f23-13be-4030-97d7-ac65f033cc5b",
   "metadata": {},
   "outputs": [],
   "source": [
    "from datetime import date, datetime, timedelta"
   ]
  },
  {
   "cell_type": "markdown",
   "id": "555200a5-e786-4385-9cfb-546c6eb670f1",
   "metadata": {},
   "source": [
    "<font color=#888888>tirando um dia do mês de março</font>"
   ]
  },
  {
   "cell_type": "code",
   "execution_count": 4,
   "id": "b6b2849c-5c2c-4898-9b33-508dcc33bbf6",
   "metadata": {},
   "outputs": [
    {
     "name": "stdout",
     "output_type": "stream",
     "text": [
      "29/02/2016 12:00:00 Monday\n"
     ]
    }
   ],
   "source": [
    "dn = datetime( 2016, 3, 1, 12, 00) - timedelta( days = +1 )\n",
    "ds = dn.strftime( '%d/%m/%Y %H:%M:%S %A' )\n",
    "print(ds)"
   ]
  },
  {
   "cell_type": "markdown",
   "id": "6c6673a5-03cc-43f3-9b20-7a9ac21e609a",
   "metadata": {},
   "source": [
    "<font color=#888888>Em que dia da semana começa o mes</font>"
   ]
  },
  {
   "cell_type": "code",
   "execution_count": 5,
   "id": "f8526b3d-9027-4dab-b26e-0d600bed60e7",
   "metadata": {},
   "outputs": [
    {
     "name": "stdout",
     "output_type": "stream",
     "text": [
      "2\n"
     ]
    }
   ],
   "source": [
    "l_dias_semana = [ '', 'sunday', 'monday', 'tuesday', 'wednesday', 'thursday', 'friday', 'saturday' ]\n",
    "dia_semana = dn.strftime( '%A' ).lower()\n",
    "indice = 1\n",
    "for i, ds in enumerate( l_dias_semana ):\n",
    "\tif ds == dia_semana:\n",
    "\t\tindice = i\n",
    "print(indice)"
   ]
  },
  {
   "cell_type": "markdown",
   "id": "36fb0d42-3a36-4291-8b76-a74c761433d2",
   "metadata": {},
   "source": [
    "<font color=#888888>Buscando ano bissexto</font>"
   ]
  },
  {
   "cell_type": "code",
   "execution_count": 2,
   "id": "cf33c654-cca1-4bf1-b9cd-d9bfd7839b11",
   "metadata": {},
   "outputs": [
    {
     "name": "stdout",
     "output_type": "stream",
     "text": [
      "O nome do cara é clemas da costa\n"
     ]
    }
   ],
   "source": [
    "ano = dn.strftime( '%Y' )\n",
    "ano = int( ano )\n",
    "# print( type(ano) )\n",
    "\n",
    "if ano % 4 == 0 and ano % 100 != 0 or ano % 400 == 0:\n",
    "\tprint(f'O ano {ano} é bissexto')\n",
    "else:\n",
    "\tprint(f'O ano {ano} não é bissexto')"
   ]
  },
  {
   "cell_type": "markdown",
   "id": "59281628-c52b-4343-8277-62e4e9ff0c3b",
   "metadata": {},
   "source": [
    "<font color=#888888>Buscando ano atual</font>"
   ]
  },
  {
   "cell_type": "code",
   "execution_count": 6,
   "id": "b0903c59-61d0-4b05-bd17-8a71ff753f12",
   "metadata": {},
   "outputs": [
    {
     "name": "stdout",
     "output_type": "stream",
     "text": [
      "2022\n",
      "2022\n"
     ]
    }
   ],
   "source": [
    "tipo1 = datetime.now().strftime( '%Y' )\n",
    "tipo2 = date.today().year\n",
    "print( tipo1 )\n",
    "print( tipo2 )"
   ]
  }
 ],
 "metadata": {
  "kernelspec": {
   "display_name": "Python 3 (ipykernel)",
   "language": "python",
   "name": "python3"
  },
  "language_info": {
   "codemirror_mode": {
    "name": "ipython",
    "version": 3
   },
   "file_extension": ".py",
   "mimetype": "text/x-python",
   "name": "python",
   "nbconvert_exporter": "python",
   "pygments_lexer": "ipython3",
   "version": "3.9.7"
  }
 },
 "nbformat": 4,
 "nbformat_minor": 5
}
