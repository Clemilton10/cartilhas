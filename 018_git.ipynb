{
 "cells": [
  {
   "cell_type": "markdown",
   "id": "f4f1a814-37bc-4ae1-b6d9-b08aabd50839",
   "metadata": {},
   "source": [
    "# <font color=#ffdd00>Git - Básico</font>"
   ]
  },
  {
   "cell_type": "markdown",
   "id": "345fc1d4-ed99-494a-8853-5ae0c5c51321",
   "metadata": {},
   "source": [
    "<font color=#888888>Iniciar o Git</font>\n",
    "~~~python\n",
    "~> git init\n",
    "~~~"
   ]
  },
  {
   "cell_type": "markdown",
   "id": "a3a06d83-1f80-407f-becd-9629b20fd550",
   "metadata": {},
   "source": [
    "<font color=#888888>Adicionar alterações no git (Stage)</font><br>\n",
    "Tudo\n",
    "~~~python\n",
    "~> git add .\n",
    "~~~\n",
    "Arquivo\n",
    "~~~python\n",
    "~> git add arquivo.txt\n",
    "~~~\n",
    "Extenções\n",
    "~~~python\n",
    "~> git add *.png\n",
    "~~~"
   ]
  },
  {
   "cell_type": "markdown",
   "id": "54f34927-6484-46af-8fd9-b2dcaeaeba71",
   "metadata": {},
   "source": [
    "<font color=#888888>Criar uma linha do tempo (Commit)</font>\n",
    "~~~python\n",
    "~> git commit -m 'inicio'\n",
    "~~~"
   ]
  },
  {
   "cell_type": "markdown",
   "id": "f88e82d9-c2c7-47c5-ba61-76872eee80a5",
   "metadata": {},
   "source": [
    "<font color=#888888>Verificar alterações</font>\n",
    "~~~python\n",
    "~> git status\n",
    "~~~"
   ]
  },
  {
   "cell_type": "markdown",
   "id": "bbd37fad-44c4-4558-8893-329cd223b9a4",
   "metadata": {},
   "source": [
    "<font color=#888888>Enviar</font>\n",
    "~~~python\n",
    "~> git push -f origin master\n",
    "~~~"
   ]
  },
  {
   "cell_type": "markdown",
   "id": "07210994-503a-47c3-a66c-4b0a9b64a804",
   "metadata": {},
   "source": [
    "<font color=#888888>Buscar modificações</font>\n",
    "~~~python\n",
    "~> git pull -f origin master\n",
    "~~~"
   ]
  },
  {
   "cell_type": "markdown",
   "id": "8200bea8-a9a8-4736-99c6-afd059329dc4",
   "metadata": {},
   "source": [
    "<font color=#888888>Clonar</font>\n",
    "~~~python\n",
    "~> git clone https://github.com/seu_usuario/seu_projeto.git .\n",
    "~~~"
   ]
  },
  {
   "cell_type": "markdown",
   "id": "d765acbc-0d49-4eed-aa89-4fdec1a1688e",
   "metadata": {},
   "source": [
    "<font color=#888888>Voltar arquivo ao estado da linha do tempo</font>\n",
    "~~~python\n",
    "~> git checkout -- arquivo.txt\n",
    "~~~"
   ]
  },
  {
   "cell_type": "markdown",
   "id": "b8b89485-05e4-4ca9-a4d5-cacfb11ae0ef",
   "metadata": {},
   "source": [
    "<font color=#888888>Navegar na linha do tempo</font><br>\n",
    "Listar\n",
    "~~~python\n",
    "~> git log --oneline --all\n",
    "~~~\n",
    "Ir para uma linha do tempo expecífica\n",
    "~~~python\n",
    "~> git checkout 3af1e35\n",
    "~~~\n",
    "Voltar para última\n",
    "~~~python\n",
    "~> git checkout master\n",
    "~~~"
   ]
  },
  {
   "cell_type": "markdown",
   "id": "ce8cde46-0aa2-4604-ac70-aff9b3b28678",
   "metadata": {},
   "source": [
    "# <font color=#ffdd00>CONFIGURACAO DO SERVIDOR GIT</font>\n",
    "No arquivo .git/config\n",
    "~~~python\n",
    "[core]\n",
    "\trepositoryformatversion = 0\n",
    "\tfilemode = false\n",
    "\tbare = false\n",
    "\tlogallrefupdates = true\n",
    "\tignorecase = true\n",
    "[remote \"origin\"]\n",
    "\turl = https://github.com/seu_usuario/seu_projeto.git\n",
    "\tfetch = +refs/heads/*:refs/remotes/origin/*\n",
    "[branch \"main\"]\n",
    "\tremote = origin\n",
    "\tmerge = refs/heads/main\n",
    "~~~"
   ]
  }
 ],
 "metadata": {
  "kernelspec": {
   "display_name": "Python 3 (ipykernel)",
   "language": "python",
   "name": "python3"
  },
  "language_info": {
   "codemirror_mode": {
    "name": "ipython",
    "version": 3
   },
   "file_extension": ".py",
   "mimetype": "text/x-python",
   "name": "python",
   "nbconvert_exporter": "python",
   "pygments_lexer": "ipython3",
   "version": "3.9.7"
  }
 },
 "nbformat": 4,
 "nbformat_minor": 5
}
