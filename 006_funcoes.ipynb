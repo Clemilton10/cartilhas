{
 "cells": [
  {
   "cell_type": "markdown",
   "id": "91dd6c1d-d4de-4116-804c-e623d7235968",
   "metadata": {},
   "source": [
    "# <font color=#ffdd00>Funções</font>"
   ]
  },
  {
   "cell_type": "markdown",
   "id": "08e72113-a419-4664-86c0-8a87f59651c6",
   "metadata": {},
   "source": [
    "<font color=#888888>Função que apenas executa e não retorna nada</font>"
   ]
  },
  {
   "cell_type": "code",
   "execution_count": 2,
   "id": "23908e71-5642-4884-8bde-2a3a1966ad90",
   "metadata": {},
   "outputs": [
    {
     "name": "stdout",
     "output_type": "stream",
     "text": [
      "3\n"
     ]
    }
   ],
   "source": [
    "def somar(a, b):\n",
    "    print(f'{a + b}')\n",
    "\n",
    "# chamando a função passando argumentos 1 e 2\n",
    "somar(1, 2)"
   ]
  },
  {
   "cell_type": "markdown",
   "id": "34cc1097-8622-421f-8753-4d345394906b",
   "metadata": {},
   "source": [
    "<font color=#888888>Funções que retornam valores</font>"
   ]
  },
  {
   "cell_type": "code",
   "execution_count": 4,
   "id": "9abd515e-3e3f-4a56-a3e6-d60c18b755e3",
   "metadata": {},
   "outputs": [
    {
     "name": "stdout",
     "output_type": "stream",
     "text": [
      "6\n",
      "9\n"
     ]
    }
   ],
   "source": [
    "def somar(a, b):\n",
    "    return a + b\n",
    "\n",
    "# chamando a função passando os argumentos 2 e 4 e recebendo o retorno da soma\n",
    "soma = somar(2, 4)\n",
    "print(soma)\n",
    "\n",
    "# passando os argumentos nas palavras chaves (key word arguments)\n",
    "soma = somar(b=3, a=6)\n",
    "print(soma)"
   ]
  },
  {
   "cell_type": "markdown",
   "id": "0ac43a8b-aedb-4129-a11b-352e11ce86e3",
   "metadata": {},
   "source": [
    "<font color=#888888>função sem argumentos definidos em seu escopo</font>"
   ]
  },
  {
   "cell_type": "code",
   "execution_count": 6,
   "id": "0660d2e4-932d-4fce-9621-50eb4b55654a",
   "metadata": {},
   "outputs": [
    {
     "name": "stdout",
     "output_type": "stream",
     "text": [
      "Dados recebidos:\n",
      "Nome: Clemas\n",
      "E-mail: clemas.web@gmail.com\n"
     ]
    }
   ],
   "source": [
    "def dados( **kwargs ):\n",
    "    k = kwargs\n",
    "    print('Dados recebidos:')\n",
    "    if k.get('nome'):\n",
    "        print(f'Nome: {k.get(\"nome\")}')\n",
    "    if k.get('email'):\n",
    "        print(f'E-mail: {k.get(\"email\")}')\n",
    "    if k.get('idade'):\n",
    "        print(f'Idade: {k.get(\"idade\")}')\n",
    "    if k.get('dt_nascimento'):\n",
    "        print(f'Data de nascimento: {k.get(\"dt_nascimento\")}')\n",
    "\n",
    "dados(\n",
    "    nome='Clemas',\n",
    "    email='clemas.web@gmail.com'\n",
    ")"
   ]
  },
  {
   "cell_type": "markdown",
   "id": "74faa425-b4e6-4a8b-b22e-5b27e88676c0",
   "metadata": {},
   "source": [
    "<font color=#888888>Retornando dados variados</font>"
   ]
  },
  {
   "cell_type": "code",
   "execution_count": 9,
   "id": "e2630cb8-7f8d-487c-b404-622751c468d4",
   "metadata": {},
   "outputs": [
    {
     "name": "stdout",
     "output_type": "stream",
     "text": [
      "Dados recebidos:\n",
      "['Clemas', 'clemas.web@gmail.com']\n",
      "Dados recebidos:\n",
      "{'nome': 'Clemas', 'email': 'clemas.web@gmail.com'}\n"
     ]
    }
   ],
   "source": [
    "def retorna_lista(**kwargs):\n",
    "    k = kwargs\n",
    "    lista = []\n",
    "    print('Dados recebidos:')\n",
    "    if k.get('nome'):\n",
    "        lista.append(k.get('nome'))\n",
    "    if k.get('email'):\n",
    "        lista.append(k.get('email'))\n",
    "    if k.get('idade'):\n",
    "        lista.append(k.get('idade'))\n",
    "    if k.get('dt_nascimento'):\n",
    "        lista.append(k.get('dt_nascimento'))\n",
    "    return lista\n",
    "\n",
    "dados = retorna_lista(\n",
    "    nome='Clemas',\n",
    "    email='clemas.web@gmail.com'\n",
    ")\n",
    "print(dados)\n",
    "\n",
    "def retorna_dicionario(**kwargs):\n",
    "    k = kwargs\n",
    "    dicionario = {}\n",
    "    print('Dados recebidos:')\n",
    "    if k.get('nome'):\n",
    "        dicionario['nome'] = k.get('nome')\n",
    "    if k.get('email'):\n",
    "        dicionario['email'] = k.get('email')\n",
    "    if k.get('idade'):\n",
    "        dicionario['idade'] = k.get('idade')\n",
    "    if k.get('dt_nascimento'):\n",
    "        dicionario['dt_nascimento'] = k.get('dt_nascimento')\n",
    "    return dicionario\n",
    "\n",
    "dados = retorna_dicionario(\n",
    "    nome='Clemas',\n",
    "    email='clemas.web@gmail.com'\n",
    ")\n",
    "print(dados)"
   ]
  },
  {
   "cell_type": "markdown",
   "id": "1e82f5a1-4c32-4a50-ae15-b648b992ce95",
   "metadata": {},
   "source": [
    "<font color=#888888>Função com valor padrão</font>"
   ]
  },
  {
   "cell_type": "code",
   "execution_count": 4,
   "id": "fbad3009-da0e-48eb-af85-378848852a43",
   "metadata": {},
   "outputs": [
    {
     "name": "stdout",
     "output_type": "stream",
     "text": [
      "CLEMILTON DA COSTA\n",
      "clemilton da costa\n",
      "clemilton da costa\n"
     ]
    }
   ],
   "source": [
    "def padronizar_nome(nome, maiusculo=True):\n",
    "    if maiusculo:\n",
    "        return nome.upper()\n",
    "    else:\n",
    "        return nome.casefold()\n",
    "    \n",
    "nome = 'Clemilton da Costa'\n",
    "print(padronizar_nome(nome))\n",
    "print(padronizar_nome(nome, False))\n",
    "print(padronizar_nome(nome, maiusculo=False))"
   ]
  },
  {
   "cell_type": "markdown",
   "id": "c4b6f017-b1e4-4b41-b58c-ae29f585d011",
   "metadata": {},
   "source": [
    "<font color=#888888>Retornando mais de um parâmetro</font>"
   ]
  },
  {
   "cell_type": "code",
   "execution_count": 6,
   "id": "335a42b5-8aef-4d84-b3b7-b95f7f22c0ac",
   "metadata": {},
   "outputs": [
    {
     "name": "stdout",
     "output_type": "stream",
     "text": [
      "(30, -10, 200, 0.5)\n"
     ]
    }
   ],
   "source": [
    "def calcular(a, b):\n",
    "    ad = a + b\n",
    "    dm = a - b\n",
    "    mt = a * b\n",
    "    dv = a / b\n",
    "    return ad, dm, mt, dv\n",
    "print(calcular(10, 20))"
   ]
  },
  {
   "cell_type": "markdown",
   "id": "0877a0db-887c-4363-b2ac-b160862f7f6c",
   "metadata": {},
   "source": [
    "<font color=#888888>Ordem dos argumentos</font>"
   ]
  },
  {
   "cell_type": "code",
   "execution_count": 2,
   "id": "688f7ba3-b3f4-4c7d-ab83-a673d07b131f",
   "metadata": {},
   "outputs": [],
   "source": [
    "# 1º argumento de posição únicos\n",
    "# 2º argumentos de posição múltiplos\n",
    "# 3º argumentos de kwargs únicos\n",
    "# 4º argumentos de kwargs múltiplos\n",
    "def funcao( a1, a2, a3, *args, k1='kwarg1', k2='kwarg2', k3='kwarg3', **kwargs):\n",
    "    pass\n",
    "    return True "
   ]
  }
 ],
 "metadata": {
  "kernelspec": {
   "display_name": "Python 3 (ipykernel)",
   "language": "python",
   "name": "python3"
  },
  "language_info": {
   "codemirror_mode": {
    "name": "ipython",
    "version": 3
   },
   "file_extension": ".py",
   "mimetype": "text/x-python",
   "name": "python",
   "nbconvert_exporter": "python",
   "pygments_lexer": "ipython3",
   "version": "3.9.7"
  }
 },
 "nbformat": 4,
 "nbformat_minor": 5
}
